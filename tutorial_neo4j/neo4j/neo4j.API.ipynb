{
 "cells": [
  {
   "cell_type": "markdown",
   "id": "6ac301cd",
   "metadata": {},
   "source": [
    "# Introduction to Neo4j\n",
    "\n",
    "What is `Neo4j`?\n",
    "`Neo4j` is a graph database management system developed by Neo4j, Inc. It is an ACID-compliant transactional database with native graph storage and processing. In this tutorial, we will learn how to use Neo4j with Python using the `neo4j` library.\n",
    "\n",
    "\n",
    "## Learning Objectives\n",
    "- Understand the basics of Neo4j and graph databases.\n",
    "- Learn how to set up and connect to Neo4j.\n",
    "- Create, query, and manipulate data in Neo4j using Cypher.\n",
    "- Explore visualization techniques for graph data.\n",
    "\n",
    "## Prerequisites\n",
    "- Neo4j installed and running on your system.\n",
    "- Python installed with `neo4j` and `py2neo` libraries.\n",
    "    * `neo4j` is library that serves as a python client to establish connection to\n",
    "       Neo4j database servers.\n",
    "    * `py2neo`\n",
    "- This is done through building the docker image. Refer `neo4j.API.md`\n",
    "\n"
   ]
  },
  {
   "cell_type": "code",
   "execution_count": null,
   "id": "2718e30d",
   "metadata": {},
   "outputs": [],
   "source": [
    "# !sudo /venv/bin/pip install pyvis --quiet\n",
    "# !sudo /venv/bin/pip install neo4j --quiet\n",
    "# !sudo /venv/bin/pip install py2neo --quiet\n",
    "# !sudo /venv/bin/pip install networkx --quiet"
   ]
  },
  {
   "cell_type": "code",
   "execution_count": 1,
   "id": "8bd56e89-f8f6-40e6-a8d7-360176f26e2a",
   "metadata": {},
   "outputs": [],
   "source": [
    "%load_ext autoreload\n",
    "%autoreload 2\n",
    "%matplotlib inline"
   ]
  },
  {
   "cell_type": "markdown",
   "id": "b42532d8-23b0-4df6-9622-bb6467749b06",
   "metadata": {},
   "source": [
    "# Import libraries"
   ]
  },
  {
   "cell_type": "code",
   "execution_count": 17,
   "id": "30d0e298-4ae1-4c9b-b888-13e6f309cc01",
   "metadata": {},
   "outputs": [],
   "source": [
    "import logging\n",
    "\n",
    "import helpers.hdbg as hdbg\n",
    "import helpers.hprint as hprint\n",
    "import matplotlib.pyplot as plt\n",
    "import neo4j as nj\n",
    "import networkx as nx\n",
    "import py2neo as pyneo"
   ]
  },
  {
   "cell_type": "code",
   "execution_count": 18,
   "id": "59e31b0d-8c8b-4522-b674-1241bb01270c",
   "metadata": {},
   "outputs": [
    {
     "name": "stdout",
     "output_type": "stream",
     "text": [
      "\u001b[0m\u001b[33mWARNING\u001b[0m: Logger already initialized: skipping\n"
     ]
    }
   ],
   "source": [
    "# Setup notebook.\n",
    "hdbg.init_logger(verbosity=logging.INFO)\n",
    "\n",
    "_LOG = logging.getLogger(__name__)\n",
    "\n",
    "hprint.config_notebook()"
   ]
  },
  {
   "cell_type": "markdown",
   "id": "878a9501-d9ab-42c4-bfbe-d5214b0d8591",
   "metadata": {},
   "source": [
    "# Setting up Neo4j\n",
    "\n",
    "Default Ports\n",
    "Neo4j uses the following default ports:\n",
    "- `7474`: `HTTP` port for Neo4j Browser and REST API.\n",
    "- `7687`: `Bolt` protocol port for database queries.\n",
    "- `7473`: `HTTPS` port for Neo4j Browser (optional, if HTTPS is enabled).\n",
    "\n",
    "These default ports cannot be changed dynamically. If we need to change, we have to do it through neo4j.conf"
   ]
  },
  {
   "cell_type": "markdown",
   "id": "01918061-e3b7-4e62-936a-5402cd2d5625",
   "metadata": {},
   "source": [
    "## Start Neo4j Server\n",
    "\n",
    "As discussed earlier, the default port for the `HTTP`, i.e, the database server is assigned to 7474"
   ]
  },
  {
   "cell_type": "code",
   "execution_count": 19,
   "id": "b793e78d-60cd-48a9-a510-d08254a16f61",
   "metadata": {},
   "outputs": [
    {
     "name": "stdout",
     "output_type": "stream",
     "text": [
      "Neo4j is already running (pid:462).\n",
      "Run with '--verbose' for a more detailed error message.\n"
     ]
    }
   ],
   "source": [
    "# Install Neo4j.\n",
    "#!wget -O - https://debian.neo4j.com/neotechnology.gpg.key | sudo apt-key add -\n",
    "#!echo 'deb https://debian.neo4j.com stable latest' | sudo tee /etc/apt/sources.list.d/neo4j.list\n",
    "#!sudo apt update\n",
    "#\n",
    "#!sudo apt install neo4j -y\n",
    "\n",
    "!sudo neo4j start"
   ]
  },
  {
   "cell_type": "markdown",
   "id": "eb04554e",
   "metadata": {},
   "source": [
    "## Connect to Neo4j Server\n",
    "\n",
    "Now, we have attempt to connect to the database server and query on it. For this, by default, the port that is exposed for such operations is 7687. Therefore, we have to connect to this port for all the query related operations."
   ]
  },
  {
   "cell_type": "code",
   "execution_count": 5,
   "id": "05214857-9857-4983-9df4-b3a1577397ec",
   "metadata": {
    "lines_to_end_of_cell_marker": 2
   },
   "outputs": [
    {
     "name": "stdout",
     "output_type": "stream",
     "text": [
      "Connection established.\n"
     ]
    }
   ],
   "source": [
    "# URI and authentication details.\n",
    "URI = \"neo4j://localhost:7687\"\n",
    "USER = \"neo4j\"\n",
    "PASSWORD = \"neo4j\"\n",
    "\n",
    "# Create a driver instance.\n",
    "driver = nj.GraphDatabase.driver(URI, auth=(USER, PASSWORD))\n",
    "driver.verify_connectivity()\n",
    "_LOG.info(\"Connection established.\")"
   ]
  },
  {
   "cell_type": "markdown",
   "id": "90444efa",
   "metadata": {
    "lines_to_next_cell": 2
   },
   "source": [
    "## Update Password of Neo4j database\n",
    "\n",
    "This is a mandatory step. The default credentials will be accepted as authentication while pushing changes to the database. Remeber that once changed, the updates are permanent and will only be reset in a clean reinstallation."
   ]
  },
  {
   "cell_type": "code",
   "execution_count": 9,
   "id": "42abefc5",
   "metadata": {},
   "outputs": [
    {
     "name": "stderr",
     "output_type": "stream",
     "text": [
      "/tmp/ipykernel_391/3293811244.py:8: DeprecationWarning: write_transaction has been renamed to execute_write\n",
      "  session.write_transaction(change_password, \"neo4j\", \"new_password\")\n"
     ]
    },
    {
     "name": "stdout",
     "output_type": "stream",
     "text": [
      "Connection established.\n"
     ]
    }
   ],
   "source": [
    "def change_password(tx, current_password, new_password):\n",
    "    tx.run(\n",
    "        \"ALTER CURRENT USER SET PASSWORD FROM $current_password TO $new_password\",\n",
    "        current_password=current_password,\n",
    "        new_password=new_password,\n",
    "    )\n",
    "\n",
    "\n",
    "# Change the password.\n",
    "with driver.session(database=\"system\") as session:\n",
    "    session.write_transaction(change_password, \"neo4j\", \"new_password\")\n",
    "\n",
    "# Reconnect with the new password.\n",
    "driver = nj.GraphDatabase.driver(URI, auth=(\"neo4j\", \"new_password\"))\n",
    "driver.verify_connectivity()\n",
    "_LOG.info(\"Connection established.\")"
   ]
  },
  {
   "cell_type": "markdown",
   "id": "ceed8426",
   "metadata": {},
   "source": [
    "# Check the Neo4j graph"
   ]
  },
  {
   "cell_type": "code",
   "execution_count": 10,
   "id": "0d4ae62b",
   "metadata": {
    "lines_to_end_of_cell_marker": 2
   },
   "outputs": [],
   "source": [
    "# Connect to the graph database.\n",
    "graph = pyneo.Graph(URI, auth=(USER, \"new_password\"))\n",
    "\n",
    "\n",
    "def view_graph(graph):\n",
    "    nodes = graph.nodes.match()\n",
    "    relationships = graph.relationships.match()\n",
    "    _LOG.info(\"Nodes in the graph:\")\n",
    "    for node in nodes:\n",
    "        _LOG.info(node)\n",
    "    _LOG.info(\"\\nRelationships in the graph:\")\n",
    "    for relationship in relationships:\n",
    "        _LOG.info(relationship)"
   ]
  },
  {
   "cell_type": "markdown",
   "id": "6edfb8ff",
   "metadata": {},
   "source": [
    "# Basic Concepts\n",
    "\n",
    "In Neo4j, data is stored as nodes, relationships, and properties.\n",
    "\n",
    "- **Nodes**: Entities such as people, products, or places.\n",
    "- **Relationships**: Connections between nodes, such as \"KNOWS\" or \"LIKES\".\n",
    "- **Properties**: Key-value pairs that store information about nodes and relationships."
   ]
  },
  {
   "cell_type": "markdown",
   "id": "664d1bab",
   "metadata": {
    "lines_to_next_cell": 2
   },
   "source": [
    "## Creating Nodes"
   ]
  },
  {
   "cell_type": "code",
   "execution_count": 11,
   "id": "04251e55",
   "metadata": {
    "lines_to_end_of_cell_marker": 2
   },
   "outputs": [
    {
     "name": "stdout",
     "output_type": "stream",
     "text": [
      "Nodes created and returned node: <Node element_id='4:b6b0bea3-117a-4fd3-9e70-516a0c8602c7:4' labels=frozenset({'Person'}) properties={'name': 'Jack'}>\n",
      "Nodes in the graph:\n",
      "(_0:Person {name: 'Dave'})\n",
      "(_1:Employee {name: 'Grace'})\n",
      "(_2:Employee:Person {name: 'Hank'})\n",
      "(_3:Person {age: 28, city: 'New York', name: 'Ivy'})\n",
      "(_4:Person {name: 'Jack'})\n",
      "\n",
      "Relationships in the graph:\n"
     ]
    }
   ],
   "source": [
    "def create_person(tx, name):\n",
    "    # The CREATE statement is used to create a new node in the database.\n",
    "    # In this example, we create a node with the label 'Person' and a property 'name'.\n",
    "    tx.run(\"CREATE (a:Person {name: $name})\", name=name)\n",
    "\n",
    "\n",
    "def create_node_with_label(tx, label, name):\n",
    "    # Create a node with a specified label and a property 'name'.\n",
    "    # The label is provided as a parameter.\n",
    "    tx.run(f\"CREATE (a:{label} {{name: $name}})\", name=name)\n",
    "\n",
    "\n",
    "def create_node_with_multiple_labels(tx, labels, name):\n",
    "    # Create a node with multiple labels and a property 'name'.\n",
    "    # The labels are provided as a list and joined with ':'.\n",
    "    label_str = \":\".join(labels)\n",
    "    tx.run(f\"CREATE (a:{label_str} {{name: $name}})\", name=name)\n",
    "\n",
    "\n",
    "def create_node_with_properties(tx, label, properties):\n",
    "    # Create a node with a specified label and multiple properties.\n",
    "    # The properties are provided as a dictionary.\n",
    "    props_str = \", \".join([f\"{key}: ${key}\" for key in properties.keys()])\n",
    "    tx.run(f\"CREATE (a:{label} {{{props_str}}})\", **properties)\n",
    "\n",
    "\n",
    "def return_created_node(tx, label, name):\n",
    "    # Create a node with a specified label and a property 'name', then return the created node.\n",
    "    result = tx.run(f\"CREATE (a:{label} {{name: $name}}) RETURN a\", name=name)\n",
    "    return result.single()[0]\n",
    "\n",
    "\n",
    "# Use the session to write the transactions\n",
    "with driver.session() as session:\n",
    "    # Create a node with the label 'Person' and the name 'Dave'\n",
    "    session.execute_write(create_person, \"Dave\")\n",
    "    # Create a node with the label 'Employee' and the name 'Grace'\n",
    "    session.execute_write(create_node_with_label, \"Employee\", \"Grace\")\n",
    "    # Create a node with the labels 'Person' and 'Employee' and the name 'Hank'\n",
    "    session.execute_write(\n",
    "        create_node_with_multiple_labels, [\"Person\", \"Employee\"], \"Hank\"\n",
    "    )\n",
    "    # Create a node with the label 'Person' and properties 'name', 'age', and 'city'\n",
    "    session.execute_write(\n",
    "        create_node_with_properties,\n",
    "        \"Person\",\n",
    "        {\"name\": \"Ivy\", \"age\": 28, \"city\": \"New York\"},\n",
    "    )\n",
    "    # Create a node with the label 'Person' and the name 'Jack', then return the created node\n",
    "    created_node = session.execute_write(return_created_node, \"Person\", \"Jack\")\n",
    "\n",
    "_LOG.info(\"Nodes created and returned node:\", created_node)\n",
    "\n",
    "view_graph(graph)"
   ]
  },
  {
   "cell_type": "markdown",
   "id": "af0d0ede",
   "metadata": {
    "lines_to_next_cell": 2
   },
   "source": [
    "## Clearing the database"
   ]
  },
  {
   "cell_type": "code",
   "execution_count": 12,
   "id": "13184bf2",
   "metadata": {
    "lines_to_end_of_cell_marker": 2
   },
   "outputs": [],
   "source": [
    "def clear_database(tx):\n",
    "    tx.run(\"MATCH (n) DETACH DELETE n\")\n",
    "\n",
    "\n",
    "with driver.session() as session:\n",
    "    # Clear the database\n",
    "    session.execute_write(clear_database)"
   ]
  },
  {
   "cell_type": "markdown",
   "id": "b6459b79",
   "metadata": {
    "lines_to_next_cell": 2
   },
   "source": [
    "# Create Relations between Nodes"
   ]
  },
  {
   "cell_type": "code",
   "execution_count": 13,
   "id": "59fbdd41",
   "metadata": {
    "lines_to_end_of_cell_marker": 2
   },
   "outputs": [
    {
     "name": "stdout",
     "output_type": "stream",
     "text": [
      "INFO  Received notification from DBMS server: {severity: INFORMATION} {code: Neo.ClientNotification.Statement.CartesianProduct} {category: PERFORMANCE} {title: This query builds a cartesian product between disconnected patterns.} {description: If a part of a query contains multiple disconnected patterns, this will build a cartesian product between all those parts. This may produce a large amount of data and slow down query processing. While occasionally intended, it may often be possible to reformulate the query that avoids the use of this cross product, perhaps by adding a relationship between the different parts or by using OPTIONAL MATCH (identifier is: (b))} {position: line: 1, column: 1, offset: 0} for query: 'MATCH (a:Person {name: $node1_name}), (b:Person {name: $node2_name}) CREATE (a)-[:KNOWS]->(b)'\n",
      "INFO  Received notification from DBMS server: {severity: INFORMATION} {code: Neo.ClientNotification.Statement.CartesianProduct} {category: PERFORMANCE} {title: This query builds a cartesian product between disconnected patterns.} {description: If a part of a query contains multiple disconnected patterns, this will build a cartesian product between all those parts. This may produce a large amount of data and slow down query processing. While occasionally intended, it may often be possible to reformulate the query that avoids the use of this cross product, perhaps by adding a relationship between the different parts or by using OPTIONAL MATCH (identifier is: (b))} {position: line: 1, column: 1, offset: 0} for query: 'MATCH (a:Employee {name: $node1_name}), (b:Employee {name: $node2_name}) CREATE (a)-[:WORKS_WITH {since: $since}]->(b)'\n",
      "Relationships created.\n",
      "Nodes in the graph:\n",
      "\n",
      "Relationships in the graph:\n"
     ]
    }
   ],
   "source": [
    "def create_relationship(\n",
    "    tx, node1_label, node1_name, relationship_type, node2_label, node2_name\n",
    "):\n",
    "    # Create a relationship between two existing nodes\n",
    "    tx.run(\n",
    "        f\"MATCH (a:{node1_label} {{name: $node1_name}}), (b:{node2_label} {{name: $node2_name}}) \"\n",
    "        f\"CREATE (a)-[:{relationship_type}]->(b)\",\n",
    "        node1_name=node1_name,\n",
    "        node2_name=node2_name,\n",
    "    )\n",
    "\n",
    "\n",
    "def create_relationship_with_properties(\n",
    "    tx,\n",
    "    node1_label,\n",
    "    node1_name,\n",
    "    relationship_type,\n",
    "    properties,\n",
    "    node2_label,\n",
    "    node2_name,\n",
    "):\n",
    "    # Create a relationship with label and properties between two existing nodes\n",
    "    props_str = \", \".join([f\"{key}: ${key}\" for key in properties.keys()])\n",
    "    tx.run(\n",
    "        f\"MATCH (a:{node1_label} {{name: $node1_name}}), (b:{node2_label} {{name: $node2_name}}) \"\n",
    "        f\"CREATE (a)-[:{relationship_type} {{{props_str}}}]->(b)\",\n",
    "        node1_name=node1_name,\n",
    "        node2_name=node2_name,\n",
    "        **properties,\n",
    "    )\n",
    "\n",
    "\n",
    "# Use the session to write the transactions\n",
    "with driver.session() as session:\n",
    "    # Create a relationship 'KNOWS' between 'Alice' and 'Bob'\n",
    "    session.execute_write(\n",
    "        create_relationship, \"Person\", \"Jack\", \"KNOWS\", \"Person\", \"Dave\"\n",
    "    )\n",
    "    # Create a relationship 'WORKS_WITH' with properties between 'Grace' and 'Hank'\n",
    "    session.execute_write(\n",
    "        create_relationship_with_properties,\n",
    "        \"Employee\",\n",
    "        \"Grace\",\n",
    "        \"WORKS_WITH\",\n",
    "        {\"since\": 2020},\n",
    "        \"Employee\",\n",
    "        \"Hank\",\n",
    "    )\n",
    "\n",
    "_LOG.info(\"Relationships created.\")\n",
    "view_graph(graph)"
   ]
  },
  {
   "cell_type": "markdown",
   "id": "f91ed8e6",
   "metadata": {
    "lines_to_next_cell": 2
   },
   "source": [
    "## Write Clauses"
   ]
  },
  {
   "cell_type": "code",
   "execution_count": 14,
   "id": "6edd31f6",
   "metadata": {
    "lines_to_end_of_cell_marker": 2
   },
   "outputs": [
    {
     "name": "stdout",
     "output_type": "stream",
     "text": [
      "INFO  Received notification from DBMS server: {severity: INFORMATION} {code: Neo.ClientNotification.Statement.CartesianProduct} {category: PERFORMANCE} {title: This query builds a cartesian product between disconnected patterns.} {description: If a part of a query contains multiple disconnected patterns, this will build a cartesian product between all those parts. This may produce a large amount of data and slow down query processing. While occasionally intended, it may often be possible to reformulate the query that avoids the use of this cross product, perhaps by adding a relationship between the different parts or by using OPTIONAL MATCH (identifier is: (b))} {position: line: 1, column: 1, offset: 0} for query: 'MATCH (a:Person {name: $node1_name}), (b:Person {name: $node2_name}) CREATE (a)-[:KNOWS]->(b)'\n",
      "INFO  Received notification from DBMS server: {severity: INFORMATION} {code: Neo.ClientNotification.Statement.CartesianProduct} {category: PERFORMANCE} {title: This query builds a cartesian product between disconnected patterns.} {description: If a part of a query contains multiple disconnected patterns, this will build a cartesian product between all those parts. This may produce a large amount of data and slow down query processing. While occasionally intended, it may often be possible to reformulate the query that avoids the use of this cross product, perhaps by adding a relationship between the different parts or by using OPTIONAL MATCH (identifier is: (b))} {position: line: 1, column: 1, offset: 0} for query: 'MATCH (a:Person {name: $node1_name}), (b:Person {name: $node2_name}) MERGE (a)-[:KNOWS]->(b)'\n",
      "\n",
      " Graph Before Deletion:\n",
      "Nodes in the graph:\n",
      "(_0:Person {age: 31, city: 'New York', name: 'Alice'})\n",
      "(_1:Person {age: 25, name: 'Bob'})\n",
      "(_2:Person {age: 25, name: 'Charlie'})\n",
      "\n",
      "Relationships in the graph:\n",
      "(Alice)-[:KNOWS {}]->(Bob)\n",
      "(Alice)-[:KNOWS {}]->(Charlie)\n",
      "\n",
      " Graph After Deletion:\n",
      "Nodes in the graph:\n",
      "(_0:Person {age: 31, city: 'New York', name: 'Alice'})\n",
      "(_2:Person {age: 25, name: 'Charlie'})\n",
      "\n",
      "Relationships in the graph:\n",
      "(Alice)-[:KNOWS {}]->(Charlie)\n"
     ]
    }
   ],
   "source": [
    "def merge_node(tx, label, properties):\n",
    "    # MERGE clause is used to create a node if it does not exist, or match it if it does.\n",
    "    props_str = \", \".join([f\"{key}: ${key}\" for key in properties.keys()])\n",
    "    tx.run(f\"MERGE (a:{label} {{{props_str}}})\", **properties)\n",
    "\n",
    "\n",
    "def merge_relationship(\n",
    "    tx, node1_label, node1_name, relationship_type, node2_label, node2_name\n",
    "):\n",
    "    # MERGE clause is used to create a relationship if it does not exist, or match it if it does.\n",
    "    tx.run(\n",
    "        f\"MATCH (a:{node1_label} {{name: $node1_name}}), (b:{node2_label} {{name: $node2_name}}) \"\n",
    "        f\"MERGE (a)-[:{relationship_type}]->(b)\",\n",
    "        node1_name=node1_name,\n",
    "        node2_name=node2_name,\n",
    "    )\n",
    "\n",
    "\n",
    "def set_properties(tx, label, name, properties):\n",
    "    # SET clause is used to update properties of a node.\n",
    "    props_str = \", \".join([f\"a.{key} = ${key}\" for key in properties.keys()])\n",
    "    tx.run(\n",
    "        f\"MATCH (a:{label} {{name: $name}}) SET {props_str}\",\n",
    "        name=name,\n",
    "        **properties,\n",
    "    )\n",
    "\n",
    "\n",
    "def delete_node(tx, label, name):\n",
    "    # DELETE clause is used to delete a node.\n",
    "    tx.run(f\"MATCH (a:{label} {{name: $name}}) DELETE a\", name=name)\n",
    "\n",
    "\n",
    "def delete_relationship(\n",
    "    tx, node1_label, node1_name, relationship_type, node2_label, node2_name\n",
    "):\n",
    "    # DELETE clause is used to delete a relationship between two nodes.\n",
    "    tx.run(\n",
    "        f\"MATCH (a:{node1_label} {{name: $node1_name}})-[r:{relationship_type}]->(b:{node2_label} {{name: $node2_name}}) DELETE r\",\n",
    "        node1_name=node1_name,\n",
    "        node2_name=node2_name,\n",
    "    )\n",
    "\n",
    "\n",
    "# Use the session to write the transactions\n",
    "with driver.session() as session:\n",
    "    # Create a node with the label 'Person' and properties 'name' and 'age'\n",
    "    session.execute_write(\n",
    "        create_node_with_properties, \"Person\", {\"name\": \"Alice\", \"age\": 30}\n",
    "    )\n",
    "    # Create a node with the label 'Person' and properties 'name' and 'age'\n",
    "    session.execute_write(\n",
    "        create_node_with_properties, \"Person\", {\"name\": \"Bob\", \"age\": 25}\n",
    "    )\n",
    "    # Create a relationship 'KNOWS' between 'Alice' and 'Bob'\n",
    "    session.execute_write(\n",
    "        create_relationship, \"Person\", \"Alice\", \"KNOWS\", \"Person\", \"Bob\"\n",
    "    )\n",
    "    # Merge a node with the label 'Person' and properties 'name' and 'age'\n",
    "    session.execute_write(merge_node, \"Person\", {\"name\": \"Charlie\", \"age\": 25})\n",
    "    # Merge a relationship 'KNOWS' between 'Alice' and 'Charlie'\n",
    "    session.execute_write(\n",
    "        merge_relationship, \"Person\", \"Alice\", \"KNOWS\", \"Person\", \"Charlie\"\n",
    "    )\n",
    "    # Set properties 'age' and 'city' for the node 'Alice'\n",
    "    session.execute_write(\n",
    "        set_properties, \"Person\", \"Alice\", {\"age\": 31, \"city\": \"New York\"}\n",
    "    )\n",
    "    _LOG.info(\"\\n Graph Before Deletion:\")\n",
    "    view_graph(graph)\n",
    "\n",
    "    # Delete the relationship 'KNOWS' between 'Alice' and 'Bob'\n",
    "    session.execute_write(\n",
    "        delete_relationship, \"Person\", \"Alice\", \"KNOWS\", \"Person\", \"Bob\"\n",
    "    )\n",
    "    # Delete the node 'Charlie'\n",
    "    session.execute_write(delete_node, \"Person\", \"Bob\")\n",
    "    _LOG.info(\"\\n Graph After Deletion:\")\n",
    "    view_graph(graph)"
   ]
  },
  {
   "cell_type": "markdown",
   "id": "7cdd6ad1",
   "metadata": {
    "lines_to_next_cell": 2
   },
   "source": [
    "## Read Clauses"
   ]
  },
  {
   "cell_type": "code",
   "execution_count": 15,
   "id": "6f908450",
   "metadata": {},
   "outputs": [
    {
     "name": "stdout",
     "output_type": "stream",
     "text": [
      "<Node element_id='4:b6b0bea3-117a-4fd3-9e70-516a0c8602c7:0' labels=frozenset({'Person'}) properties={'city': 'New York', 'name': 'Alice', 'age': 31}>\n",
      "<Node element_id='4:b6b0bea3-117a-4fd3-9e70-516a0c8602c7:2' labels=frozenset({'Person'}) properties={'name': 'Charlie', 'age': 25}>\n",
      "WARNING Received notification from DBMS server: {severity: WARNING} {code: Neo.ClientNotification.Statement.UnknownRelationshipTypeWarning} {category: UNRECOGNIZED} {title: The provided relationship type is not in the database.} {description: One of the relationship types in your query is not available in the database, make sure you didn't misspell it or that the label is available when you run this statement in your application (the missing relationship type is: WORKS_WITH)} {position: line: 1, column: 36, offset: 35} for query: 'MATCH (a:Employee {name: $name})-[:WORKS_WITH]->(Employee) RETURN Employee.name ORDER BY Employee.name'\n",
      "None\n",
      "Alice knows Charlie\n",
      "Alice is 31 years old\n",
      "Total number of Person nodes: 2\n"
     ]
    }
   ],
   "source": [
    "def find_all_nodes(tx):\n",
    "    # Use MATCH to find all nodes.\n",
    "    result = tx.run(\"MATCH (n) RETURN n\")\n",
    "    for record in result:\n",
    "        _LOG.info(record[0])\n",
    "\n",
    "\n",
    "def find_relations(tx, name):\n",
    "    # Use MATCH to find the person and who they work with.\n",
    "    result = tx.run(\n",
    "        \"MATCH (a:Employee {name: $name})-[:WORKS_WITH]->(Employee) \"\n",
    "        \"RETURN Employee.name ORDER BY Employee.name\",\n",
    "        name=name,\n",
    "    )\n",
    "    record = result.single()\n",
    "    _LOG.info(record)\n",
    "\n",
    "\n",
    "def optional_match(tx):\n",
    "    # Use OPTIONAL MATCH to find nodes that may or may not have a relationship.\n",
    "    result = tx.run(\n",
    "        \"OPTIONAL MATCH (a:Person)-[r:KNOWS]->(b:Person) RETURN a.name, b.name\"\n",
    "    )\n",
    "    for record in result:\n",
    "        _LOG.info(f\"{record['a.name']} knows {record['b.name']}\")\n",
    "\n",
    "\n",
    "def where_clause(tx):\n",
    "    # Use WHERE clause to filter nodes.\n",
    "    result = tx.run(\"MATCH (a:Person) WHERE a.age > 25 RETURN a.name, a.age\")\n",
    "    for record in result:\n",
    "        _LOG.info(f\"{record['a.name']} is {record['a.age']} years old\")\n",
    "\n",
    "\n",
    "def count_function(tx):\n",
    "    # Use COUNT function to count nodes.\n",
    "    result = tx.run(\"MATCH (a:Person) RETURN COUNT(a) as count\")\n",
    "    record = result.single()\n",
    "    _LOG.info(f\"Total number of Person nodes: {record['count']}\")\n",
    "\n",
    "\n",
    "# Use the session to read the transactions.\n",
    "with driver.session() as session:\n",
    "    # Find and print all nodes.\n",
    "    session.execute_read(find_all_nodes)\n",
    "    # Find and print who works with Grace.\n",
    "    session.execute_read(find_relations, \"Grace\")\n",
    "    # Optional match example\n",
    "    session.execute_read(optional_match)\n",
    "    # Where clause example\n",
    "    session.execute_read(where_clause)\n",
    "    # Count function example\n",
    "    session.execute_read(count_function)"
   ]
  },
  {
   "cell_type": "code",
   "execution_count": 16,
   "id": "08de636b",
   "metadata": {
    "vscode": {
     "languageId": "ruby"
    }
   },
   "outputs": [],
   "source": [
    "def plot_graph(results):\n",
    "    # Create a directed graph\n",
    "    G = nx.DiGraph()\n",
    "\n",
    "    # Add nodes and edges from the query results\n",
    "    for record in result:\n",
    "        G.add_node(record[\"from\"])\n",
    "        G.add_node(record[\"to\"])\n",
    "        G.add_edge(record[\"from\"], record[\"to\"], label=record[\"rel\"])\n",
    "\n",
    "    # Draw the graph\n",
    "    pos = nx.spring_layout(G)\n",
    "    plt.figure(figsize=(10, 8))\n",
    "    nx.draw(\n",
    "        G,\n",
    "        pos,\n",
    "        with_labels=True,\n",
    "        node_color=\"skyblue\",\n",
    "        node_size=2000,\n",
    "        edge_color=\"gray\",\n",
    "        font_size=15,\n",
    "        font_weight=\"bold\",\n",
    "    )\n",
    "    edge_labels = nx.get_edge_attributes(G, \"label\")\n",
    "    nx.draw_networkx_edge_labels(\n",
    "        G, pos, edge_labels=edge_labels, font_color=\"red\", font_size=12\n",
    "    )\n",
    "    plt.title(\"Neo4j Graph Visualization\")\n",
    "    plt.show()"
   ]
  }
 ],
 "metadata": {
  "jupytext": {
   "formats": "ipynb,py:light"
  },
  "kernelspec": {
   "display_name": "Python 3 (ipykernel)",
   "language": "python",
   "name": "python3"
  },
  "language_info": {
   "codemirror_mode": {
    "name": "ipython",
    "version": 3
   },
   "file_extension": ".py",
   "mimetype": "text/x-python",
   "name": "python",
   "nbconvert_exporter": "python",
   "pygments_lexer": "ipython3",
   "version": "3.12.3"
  }
 },
 "nbformat": 4,
 "nbformat_minor": 5
}
