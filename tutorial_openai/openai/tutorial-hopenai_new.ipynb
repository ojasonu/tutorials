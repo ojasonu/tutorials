{
 "cells": [
  {
   "cell_type": "markdown",
   "id": "ca95f5ee-2936-47b3-818e-ff0b8a2129e8",
   "metadata": {},
   "source": [
    "## 1. Setup and Initialization\n",
    "Before diving into use cases, we should initialize the notebook with the required setup:"
   ]
  },
  {
   "cell_type": "code",
   "execution_count": 1,
   "id": "6a5fe947-8418-4be7-84ee-d17ed7e59dcc",
   "metadata": {},
   "outputs": [],
   "source": [
    "# Import the helper script\n",
    "import helpers.hopenai as hopenai\n",
    "\n",
    "# Set up logging for debugging\n",
    "import logging\n",
    "logging.basicConfig(level=logging.INFO)\n",
    "\n",
    "# Set OpenAI API key\n",
    "import os\n",
    "from typing import List"
   ]
  },
  {
   "cell_type": "code",
   "execution_count": 2,
   "id": "89d43539-03d5-40dd-a5bf-c408a19c4732",
   "metadata": {},
   "outputs": [],
   "source": [
    "os.environ[\"OPENAI_API_KEY\"] = \"<your_openai_api_key>\""
   ]
  },
  {
   "cell_type": "markdown",
   "id": "bf9b3d1b-3b75-4d99-8f67-019d26bcc4db",
   "metadata": {},
   "source": [
    "## 1. Travel Agent chat assistant: \n",
    "#### Goal: Cretae a chat agent that will help the user to create an itinary to visit New York Trip considering all the constraints."
   ]
  },
  {
   "cell_type": "code",
   "execution_count": 3,
   "id": "919843f4-fae3-4f08-b1c2-c6645fd0c80a",
   "metadata": {},
   "outputs": [
    {
     "name": "stderr",
     "output_type": "stream",
     "text": [
      "INFO:httpx:HTTP Request: POST https://api.openai.com/v1/chat/completions \"HTTP/1.1 200 OK\"\n"
     ]
    },
    {
     "name": "stdout",
     "output_type": "stream",
     "text": [
      "3-Day New York City Trip Itinerary:\n",
      "Here’s a detailed 3-day itinerary for your trip to New York City from December 24th to 27th. This itinerary balances sightseeing, food, and leisure activities while considering your budget and travel preferences.\n",
      "\n",
      "### Day 1: December 24th (Christmas Eve)\n",
      "\n",
      "**Morning:**\n",
      "- **Breakfast:** Start your day at **Ess-a-Bagel** (approx. $5-10). Enjoy a classic New York bagel with cream cheese.\n",
      "- **Visit Central Park:** Take the subway to **59th St – Columbus Circle** (approx. $2.75). Walk around the park, see the winter scenery, and visit the **Bethesda Terrace**. (2-3 hours)\n",
      "\n",
      "**Afternoon:**\n",
      "- **Lunch:** Head to **The Halal Guys** (approx. $10) for a famous street food experience. \n",
      "- **Visit the Museum of Modern Art (MoMA):** Take the subway from **59th St to 53rd St** (approx. $2.75). Admission is $25. Spend around 2-3 hours exploring the exhibits.\n",
      "\n",
      "**Evening:**\n",
      "- **Dinner:** Try **Joe's Pizza** in Greenwich Village (approx. $3-5 per slice).\n",
      "- **Evening Activity:** Walk around **Times Square** to see the lights and holiday decorations. It's a bustling area, perfect for soaking in the Christmas spirit. Free activity, but be prepared for crowds!\n",
      "\n",
      "**Estimated Day 1 Total:** $56.50 + subway fares = approximately $65\n",
      "\n",
      "---\n",
      "\n",
      "### Day 2: December 25th (Christmas Day)\n",
      "\n",
      "**Morning:**\n",
      "- **Breakfast:** Grab pastries and coffee from **Balthazar Bakery** in SoHo (approx. $10).\n",
      "- **Visit the Rockefeller Center:** Enjoy the iconic Christmas tree and ice skating rink. Ice skating costs about $20, plus rental ($10). (1-2 hours)\n",
      "\n",
      "**Afternoon:**\n",
      "- **Lunch:** Enjoy a festive meal at **Ellen’s Stardust Diner**, known for its singing waitstaff (approx. $15-20).\n",
      "- **Explore Fifth Avenue:** Walk along Fifth Avenue to see holiday window displays at stores like Macy's and Saks Fifth Avenue. (2-3 hours)\n",
      "\n",
      "**Evening:**\n",
      "- **Dinner:** Head to **Katz’s Delicatessen** for a classic pastrami sandwich (approx. $20).\n",
      "- **Evening Activity:** Take a stroll on the **Brooklyn Bridge** for stunning views of the Manhattan skyline. (1-2 hours, free)\n",
      "\n",
      "**Estimated Day 2 Total:** $85 + subway fares = approximately $95\n",
      "\n",
      "---\n",
      "\n",
      "### Day 3: December 26th (Boxing Day)\n",
      "\n",
      "**Morning:**\n",
      "- **Breakfast:** Visit **Sarabeth's** for a delicious brunch (approx. $20).\n",
      "- **Visit the American Museum of Natural History:** Take the subway to **81st St – Museum of Natural History** (approx. $2.75). Admission is “pay what you wish,” so you can choose to donate. Explore for about 3 hours.\n",
      "\n",
      "**Afternoon:**\n",
      "- **Lunch:** Grab a bite at **Shake Shack** in the Upper West Side (approx. $15).\n",
      "- **Stroll through the West Side:** Walk down the **High Line** park, an elevated park built on a former railway track. Enjoy the views and art installations. (1-2 hours, free)\n",
      "\n",
      "**Evening:**\n",
      "- **Dinner:** Visit **The Meatball Shop** for a casual dinner (approx. $15-20).\n",
      "- **Evening Activity:** Check out a comedy show at **Upright Citizens Brigade** (tickets around $10), or enjoy live music at a nearby venue.\n",
      "\n",
      "**Estimated Day 3 Total:** $70 + subway fares = approximately $80\n",
      "\n",
      "---\n",
      "\n",
      "### Summary of Estimated Costs\n",
      "- **Day 1 Total:** $65\n",
      "- **Day 2 Total:** $95\n",
      "- **Day 3 Total:** $80\n",
      "- **Total Activities Cost:** $240\n",
      "- **Subway Fare (approx. $2.75 each way for 6 trips):** $33\n",
      "- **Overall Total:** Approximately $273\n",
      "\n",
      "### Remaining Budget\n",
      "You will have around $127 left from your $400 budget, allowing for any extra snacks, souvenirs, or additional activities.\n",
      "\n",
      "### Tips\n",
      "- Purchase a **MetroCard** for subway travel to save money.\n",
      "- Check for any changes in opening hours or availability due to the holiday season.\n",
      "- Be prepared for colder weather; dress warmly!\n",
      "\n",
      "Enjoy your trip to New York City!\n"
     ]
    }
   ],
   "source": [
    "# Define the prompt for the travel assistant\n",
    "user_prompt = \"\"\"\n",
    "I am visiting New York City for 3 days. Please create a detailed itinerary, \n",
    "including popular attractions, food recommendations, and some evening activities.\n",
    "I already booked flight tickets and hotel near Newark penn station.\n",
    "Constraints:\n",
    "1) Dates: from 24th to 27th Dec.\n",
    "1) My budget for travel is around $400 excluding hotel and flight.\n",
    "2) I am planning to travel through subway and for rest of the trip I am planning to walk.\n",
    "3) Also, take into account traffic and tourist rush at popular places.\n",
    "\"\"\"\n",
    "\n",
    "# Define the system instructions for the assistant\n",
    "system_instructions = \"\"\"\n",
    "You are a travel assistant specializing in creating personalized travel itineraries.\n",
    "Your recommendations should balance sightseeing, food, and leisure activities considering provided constraints.\n",
    "Provide details like the time required for activities and approximate costs where possible.\n",
    "\"\"\"\n",
    "\n",
    "# Use the get_completion method to generate the trip plan\n",
    "trip_plan = hopenai.get_completion(\n",
    "    user=user_prompt,\n",
    "    system=system_instructions,\n",
    "    model=\"gpt-4o-mini\",\n",
    "    temperature=0.7  # Slightly increase temperature for creative outputs\n",
    ")\n",
    "\n",
    "# Print the generated trip itinerary\n",
    "print(\"3-Day New York City Trip Itinerary:\")\n",
    "print(trip_plan)"
   ]
  },
  {
   "cell_type": "markdown",
   "id": "d06ab6f1-8364-4f7f-bbd7-08fc52a06034",
   "metadata": {},
   "source": [
    "## 2. Chatbot for Coding Assistance\n",
    "#### Goal: Create a chatbot that assists developers with coding questions based on the provided coding style guide."
   ]
  },
  {
   "cell_type": "code",
   "execution_count": 4,
   "id": "38f6e1c7-69c7-4482-a716-0273b1d91da9",
   "metadata": {},
   "outputs": [
    {
     "name": "stderr",
     "output_type": "stream",
     "text": [
      "INFO:httpx:HTTP Request: GET https://api.openai.com/v1/assistants \"HTTP/1.1 200 OK\"\n",
      "INFO:helpers.hopenai:Creating a new assistant: CodingAssistant\n",
      "INFO:httpx:HTTP Request: POST https://api.openai.com/v1/assistants \"HTTP/1.1 200 OK\"\n",
      "INFO:httpx:HTTP Request: GET https://api.openai.com/v1/vector_stores \"HTTP/1.1 200 OK\"\n",
      "INFO:helpers.hopenai:Vector store 'coding_help_vector_store' already exists. Using it\n",
      "INFO:helpers.hopenai:Uploading files to vector store ...\n",
      "INFO:httpx:HTTP Request: POST https://api.openai.com/v1/files \"HTTP/1.1 200 OK\"\n",
      "INFO:httpx:HTTP Request: POST https://api.openai.com/v1/vector_stores/vs_uwnZJE3zIWUdlGNh1T6NVFcp/file_batches \"HTTP/1.1 200 OK\"\n",
      "INFO:httpx:HTTP Request: GET https://api.openai.com/v1/vector_stores/vs_uwnZJE3zIWUdlGNh1T6NVFcp/file_batches/vsfb_1d0e9241d2194446a0ac07f22e07cb1a \"HTTP/1.1 200 OK\"\n",
      "INFO:httpx:HTTP Request: GET https://api.openai.com/v1/vector_stores/vs_uwnZJE3zIWUdlGNh1T6NVFcp/file_batches/vsfb_1d0e9241d2194446a0ac07f22e07cb1a \"HTTP/1.1 200 OK\"\n",
      "INFO:helpers.hopenai:File batch uploaded successfully with status: completed\n",
      "INFO:httpx:HTTP Request: POST https://api.openai.com/v1/assistants/asst_XMbluEVX6o7bdzA4iMIjBaJC \"HTTP/1.1 200 OK\"\n",
      "INFO:httpx:HTTP Request: POST https://api.openai.com/v1/threads \"HTTP/1.1 200 OK\"\n",
      "INFO:helpers.hopenai:thread=None\n",
      "INFO:httpx:HTTP Request: POST https://api.openai.com/v1/threads/thread_jW20Wh1nvL10OsRcQ086kKSu/runs \"HTTP/1.1 200 OK\"\n",
      "INFO:httpx:HTTP Request: GET https://api.openai.com/v1/threads/thread_jW20Wh1nvL10OsRcQ086kKSu/runs/run_woMSSl5MfnTrVp9x55ngvt3c \"HTTP/1.1 200 OK\"\n",
      "INFO:httpx:HTTP Request: GET https://api.openai.com/v1/threads/thread_jW20Wh1nvL10OsRcQ086kKSu/runs/run_woMSSl5MfnTrVp9x55ngvt3c \"HTTP/1.1 200 OK\"\n",
      "INFO:httpx:HTTP Request: GET https://api.openai.com/v1/threads/thread_jW20Wh1nvL10OsRcQ086kKSu/runs/run_woMSSl5MfnTrVp9x55ngvt3c \"HTTP/1.1 200 OK\"\n",
      "INFO:httpx:HTTP Request: GET https://api.openai.com/v1/threads/thread_jW20Wh1nvL10OsRcQ086kKSu/runs/run_woMSSl5MfnTrVp9x55ngvt3c \"HTTP/1.1 200 OK\"\n",
      "INFO:httpx:HTTP Request: GET https://api.openai.com/v1/threads/thread_jW20Wh1nvL10OsRcQ086kKSu/runs/run_woMSSl5MfnTrVp9x55ngvt3c \"HTTP/1.1 200 OK\"\n",
      "INFO:httpx:HTTP Request: GET https://api.openai.com/v1/threads/thread_jW20Wh1nvL10OsRcQ086kKSu/runs/run_woMSSl5MfnTrVp9x55ngvt3c \"HTTP/1.1 200 OK\"\n",
      "INFO:httpx:HTTP Request: GET https://api.openai.com/v1/threads/thread_jW20Wh1nvL10OsRcQ086kKSu/runs/run_woMSSl5MfnTrVp9x55ngvt3c \"HTTP/1.1 200 OK\"\n",
      "INFO:httpx:HTTP Request: GET https://api.openai.com/v1/threads/thread_jW20Wh1nvL10OsRcQ086kKSu/messages?run_id=run_woMSSl5MfnTrVp9x55ngvt3c \"HTTP/1.1 200 OK\"\n",
      "INFO:httpx:HTTP Request: GET https://api.openai.com/v1/threads/thread_jW20Wh1nvL10OsRcQ086kKSu/messages?run_id=run_woMSSl5MfnTrVp9x55ngvt3c&after=msg_OmSsqH1V5g8SJ15mNnpdZKMF \"HTTP/1.1 200 OK\"\n"
     ]
    },
    {
     "name": "stdout",
     "output_type": "stream",
     "text": [
      "assistant: Here are some common mistakes to avoid when writing Python code:\n",
      "\n",
      "1. **Indentation Errors**: Python relies on indentation to define the structure of the code. Ensure consistent use of spaces or tabs.\n",
      "\n",
      "2. **Misusing Mutable Default Arguments**: Using mutable default arguments (like lists or dictionaries) can lead to unexpected behavior because they are shared across function calls. Instead, use `None` and initialize inside the function.\n",
      "\n",
      "   ```python\n",
      "   def my_function(arg=None):\n",
      "       if arg is None:\n",
      "           arg = []\n",
      "   ```\n",
      "\n",
      "3. **Not Handling Exceptions**: Failing to handle exceptions can crash your program. Use try-except blocks to catch and handle exceptions gracefully.\n",
      "\n",
      "   ```python\n",
      "   try:\n",
      "       # some code that may raise an exception\n",
      "   except SomeException as e:\n",
      "       print(e)\n",
      "   ```\n",
      "\n",
      "4. **Overusing Global Variables**: Relying heavily on global variables can lead to code that is hard to debug and maintain. Instead, prefer passing parameters to functions.\n",
      "\n",
      "5. **Using `==` Instead of `is` for Comparisons**: Use `is` to check for identity (same object) and `==` for equality (same value). \n",
      "\n",
      "   ```python\n",
      "   if my_list is not None:  # Correct for identity\n",
      "   ```\n",
      "\n",
      "6. **Not Using `__name__ == \"__main__\"`**: To allow for code reuse, encapsulate script execution code in a `if __name__ == \"__main__\":` block.\n",
      "\n",
      "7. **Ignoring Python's Built-in Functions and Libraries**: Many common tasks can be handled by Python's built-in functions or libraries (like `itertools`, `collections`, etc.). Familiarize yourself with these to write more efficient code.\n",
      "\n",
      "8. **Failing to Close Files**: Always close files after you are done with them, or better yet, use a `with` statement to ensure files are properly closed.\n",
      "\n",
      "   ```python\n",
      "   with open('file.txt', 'r') as f:\n",
      "       data = f.read()\n",
      "   ```\n",
      "\n",
      "9. **Using `raw_input` in Python 2 Instead of `input` in Python 3**: If you are transitioning from Python 2 to 3, remember `raw_input()` is `input()` in Python 3.\n",
      "\n",
      "10. **Misunderstanding `for` loop scope**: Variables defined inside the loop are accessible outside the loop, unlike in some other programming languages.\n",
      "\n",
      "By keeping these common pitfalls in mind, you can write cleaner, more efficient, and error-free Python code.\n"
     ]
    }
   ],
   "source": [
    "# Define the assistant name and instructions\n",
    "assistant_name = \"CodingAssistant\"\n",
    "instructions = \"You are a helpful coding assistant. Answer technical questions clearly and concisely.\"\n",
    "vector_store_name = \"coding_help_vector_store\"\n",
    "\n",
    "# Provide relevant documentation files\n",
    "file_paths = [\"../helpers_root/docs/coding/all.coding_style.how_to_guide.md\"]\n",
    "\n",
    "# Create or retrieve the assistant\n",
    "assistant = hopenai.get_coding_style_assistant(\n",
    "    assistant_name=assistant_name,\n",
    "    instructions=instructions,\n",
    "    vector_store_name=vector_store_name,\n",
    "    file_paths=file_paths\n",
    ")\n",
    "\n",
    "# Query the assistant\n",
    "question = \"What are common python mistaks that I should keep in mind while writing code?\"\n",
    "response_messages = hopenai.get_query_assistant(assistant, question)\n",
    "\n",
    "# Display the assistant's response\n",
    "for message in response_messages:\n",
    "    # Ensure the message has content to process\n",
    "    if hasattr(message, \"content\"):\n",
    "        for content_block in message.content:\n",
    "            if hasattr(content_block, \"text\") and hasattr(content_block.text, \"value\"):\n",
    "                print(f\"{message.role}: {content_block.text.value}\")\n",
    "            else:\n",
    "                print(f\"{message.role}: [No valid text content found]\")\n",
    "    else:\n",
    "        print(\"[No content attribute in the message]\")\n",
    "\n"
   ]
  },
  {
   "cell_type": "markdown",
   "id": "3ba8b0b0-180d-4f0b-bebf-9581bca7122c",
   "metadata": {},
   "source": [
    "## 3. Managing Uploaded Files\n",
    "#### Goal: List, view, and delete files in the OpenAI API."
   ]
  },
  {
   "cell_type": "code",
   "execution_count": 5,
   "id": "a8722fc8-aabd-4d99-b4c8-319e14402a98",
   "metadata": {},
   "outputs": [],
   "source": [
    "def print_file_info(files_list: List[str]) -> None:\n",
    "    \"\"\"\n",
    "    Prints file info.\n",
    "    \"\"\"\n",
    "    for file in files_list:\n",
    "        file_info = hopenai.file_to_info(file)\n",
    "        print(file_info)"
   ]
  },
  {
   "cell_type": "code",
   "execution_count": 6,
   "id": "a36cbdfc-f94f-4ce5-93de-d3af21ead063",
   "metadata": {},
   "outputs": [
    {
     "name": "stderr",
     "output_type": "stream",
     "text": [
      "INFO:httpx:HTTP Request: GET https://api.openai.com/v1/files \"HTTP/1.1 200 OK\"\n",
      "INFO:httpx:HTTP Request: GET https://api.openai.com/v1/files?after=file-VEzEvpmVfhgUTpH5dmWtxC \"HTTP/1.1 200 OK\"\n"
     ]
    },
    {
     "name": "stdout",
     "output_type": "stream",
     "text": [
      "Uploaded files:\n",
      "{'id': 'file-QFUuXpobjoLCnLBaCX2HK5', 'created_at': datetime.datetime(2024, 12, 11, 20, 14), 'filename': 'all.coding_style.how_to_guide.md'}\n",
      "{'id': 'file-5m1CX8UeABBJtFATb3cLtz', 'created_at': datetime.datetime(2024, 12, 11, 19, 59, 4), 'filename': 'all.write_unit_tests.how_to_guide.md'}\n",
      "{'id': 'file-UhqL4yhYrFP8ziDmM3XzB1', 'created_at': datetime.datetime(2024, 12, 11, 19, 59, 4), 'filename': 'all.coding_style.how_to_guide.md'}\n",
      "{'id': 'file-VEzEvpmVfhgUTpH5dmWtxC', 'created_at': datetime.datetime(2024, 12, 11, 19, 59, 4), 'filename': 'all.imports_and_packages.how_to_guide.md'}\n"
     ]
    },
    {
     "name": "stderr",
     "output_type": "stream",
     "text": [
      "INFO:httpx:HTTP Request: GET https://api.openai.com/v1/files \"HTTP/1.1 200 OK\"\n",
      "INFO:httpx:HTTP Request: GET https://api.openai.com/v1/files?after=file-VEzEvpmVfhgUTpH5dmWtxC \"HTTP/1.1 200 OK\"\n",
      "INFO:helpers.hopenai:Found 4 files\n",
      "Deleting file {'id': 'file-QFUuXpobjoLCnLBaCX2HK5', 'created_at': datetime.datetime(2024, 12, 11, 20, 14), 'filename': 'all.coding_style.how_to_guide.md'}\n",
      "Deleting file {'id': 'file-5m1CX8UeABBJtFATb3cLtz', 'created_at': datetime.datetime(2024, 12, 11, 19, 59, 4), 'filename': 'all.write_unit_tests.how_to_guide.md'}\n",
      "Deleting file {'id': 'file-UhqL4yhYrFP8ziDmM3XzB1', 'created_at': datetime.datetime(2024, 12, 11, 19, 59, 4), 'filename': 'all.coding_style.how_to_guide.md'}\n",
      "Deleting file {'id': 'file-VEzEvpmVfhgUTpH5dmWtxC', 'created_at': datetime.datetime(2024, 12, 11, 19, 59, 4), 'filename': 'all.imports_and_packages.how_to_guide.md'}\n",
      "INFO:helpers.hopenai:Deleting file FileObject(id='file-QFUuXpobjoLCnLBaCX2HK5', bytes=90231, created_at=1733948040, filename='all.coding_style.how_to_guide.md', object='file', purpose='assistants', status='processed', status_details=None)\n",
      "INFO:httpx:HTTP Request: DELETE https://api.openai.com/v1/files/file-QFUuXpobjoLCnLBaCX2HK5 \"HTTP/1.1 200 OK\"\n",
      "INFO:helpers.hopenai:Deleting file FileObject(id='file-5m1CX8UeABBJtFATb3cLtz', bytes=41012, created_at=1733947144, filename='all.write_unit_tests.how_to_guide.md', object='file', purpose='assistants', status='processed', status_details=None)\n",
      "INFO:httpx:HTTP Request: DELETE https://api.openai.com/v1/files/file-5m1CX8UeABBJtFATb3cLtz \"HTTP/1.1 200 OK\"\n",
      "INFO:helpers.hopenai:Deleting file FileObject(id='file-UhqL4yhYrFP8ziDmM3XzB1', bytes=90231, created_at=1733947144, filename='all.coding_style.how_to_guide.md', object='file', purpose='assistants', status='processed', status_details=None)\n",
      "INFO:httpx:HTTP Request: DELETE https://api.openai.com/v1/files/file-UhqL4yhYrFP8ziDmM3XzB1 \"HTTP/1.1 200 OK\"\n",
      "INFO:helpers.hopenai:Deleting file FileObject(id='file-VEzEvpmVfhgUTpH5dmWtxC', bytes=6788, created_at=1733947144, filename='all.imports_and_packages.how_to_guide.md', object='file', purpose='assistants', status='processed', status_details=None)\n",
      "INFO:httpx:HTTP Request: DELETE https://api.openai.com/v1/files/file-VEzEvpmVfhgUTpH5dmWtxC \"HTTP/1.1 200 OK\"\n",
      "INFO:httpx:HTTP Request: GET https://api.openai.com/v1/files \"HTTP/1.1 200 OK\"\n"
     ]
    },
    {
     "name": "stdout",
     "output_type": "stream",
     "text": [
      "Files after deletion:\n"
     ]
    }
   ],
   "source": [
    "# List all files\n",
    "client = hopenai.OpenAI()\n",
    "files_before = list(client.files.list())\n",
    "print(\"Uploaded files:\")\n",
    "print_file_info(files_before)\n",
    "# Delete all files (with confirmation)\n",
    "hopenai.delete_all_files(ask_for_confirmation=False)\n",
    "# Verify deletion\n",
    "files_after = list(client.files.list())\n",
    "print(\"Files after deletion:\")\n",
    "print_file_info(files_after)\n"
   ]
  },
  {
   "cell_type": "markdown",
   "id": "3dc2e486-166b-4b0e-88dc-17f34ffa045f",
   "metadata": {},
   "source": [
    "## 4. Batch Upload to Vector Store\n",
    "#### Goal: Add multiple files to a vector store and check their status."
   ]
  },
  {
   "cell_type": "code",
   "execution_count": 7,
   "id": "f570a5bd-e5fa-47e2-a4c3-98a1c8196cd9",
   "metadata": {},
   "outputs": [
    {
     "name": "stderr",
     "output_type": "stream",
     "text": [
      "INFO:httpx:HTTP Request: POST https://api.openai.com/v1/vector_stores \"HTTP/1.1 200 OK\"\n",
      "INFO:httpx:HTTP Request: POST https://api.openai.com/v1/files \"HTTP/1.1 200 OK\"\n",
      "INFO:httpx:HTTP Request: POST https://api.openai.com/v1/files \"HTTP/1.1 200 OK\"\n",
      "INFO:httpx:HTTP Request: POST https://api.openai.com/v1/files \"HTTP/1.1 200 OK\"\n",
      "INFO:httpx:HTTP Request: POST https://api.openai.com/v1/vector_stores/vs_HvRISC4fiissfWRgMkxEYZvv/file_batches \"HTTP/1.1 200 OK\"\n",
      "INFO:httpx:HTTP Request: GET https://api.openai.com/v1/vector_stores/vs_HvRISC4fiissfWRgMkxEYZvv/file_batches/vsfb_d014a267706a429c85aa224988925ba0 \"HTTP/1.1 200 OK\"\n",
      "INFO:httpx:HTTP Request: GET https://api.openai.com/v1/vector_stores/vs_HvRISC4fiissfWRgMkxEYZvv/file_batches/vsfb_d014a267706a429c85aa224988925ba0 \"HTTP/1.1 200 OK\"\n",
      "INFO:httpx:HTTP Request: GET https://api.openai.com/v1/vector_stores/vs_HvRISC4fiissfWRgMkxEYZvv/file_batches/vsfb_d014a267706a429c85aa224988925ba0 \"HTTP/1.1 200 OK\"\n"
     ]
    },
    {
     "name": "stdout",
     "output_type": "stream",
     "text": [
      "File batch status: completed\n"
     ]
    }
   ],
   "source": [
    "# Upload files to a vector store\n",
    "vector_store_name = \"batch_vector_store\"\n",
    "file_paths = [\"../helpers_root/docs/coding/all.imports_and_packages.how_to_guide.md\", \"../helpers_root/docs/coding/all.write_unit_tests.how_to_guide.md\",\n",
    "             \"../helpers_root/docs/coding/all.coding_style.how_to_guide.md\"]  # Example paths\n",
    "\n",
    "# Create or find vector store\n",
    "client = hopenai.OpenAI()\n",
    "vector_store = client.beta.vector_stores.create(name=vector_store_name)\n",
    "\n",
    "# Upload files to the vector store\n",
    "file_streams = [open(path, \"rb\") for path in file_paths]\n",
    "file_batch = client.beta.vector_stores.file_batches.upload_and_poll(\n",
    "    vector_store_id=vector_store.id, files=file_streams\n",
    ")\n",
    "\n",
    "# Display file batch status\n",
    "print(f\"File batch status: {file_batch.status}\")"
   ]
  },
  {
   "cell_type": "markdown",
   "id": "0c86383b-a7f3-4577-a711-76f97d3f12f4",
   "metadata": {},
   "source": [
    "## 5. Tasking an AI Agent to Generate Code and Unit Tests Using Coding Guides\n",
    "#### Scenario:\n",
    "\n",
    "You are a developer working on a new feature for a Python application. You uploaded documentation about best practices for imports, writing unit tests, and coding styles to a vector store. Now, you want to create an AI agent that can generate boilerplate code and its corresponding unit tests for a given functionality while adhering to these guides."
   ]
  },
  {
   "cell_type": "code",
   "execution_count": 8,
   "id": "b5b3c726-000b-4a4e-bc66-5f6f4527a2e3",
   "metadata": {},
   "outputs": [
    {
     "name": "stderr",
     "output_type": "stream",
     "text": [
      "INFO:httpx:HTTP Request: GET https://api.openai.com/v1/assistants \"HTTP/1.1 200 OK\"\n",
      "INFO:helpers.hopenai:Creating a new assistant: CodeAndTestAssistant\n",
      "INFO:httpx:HTTP Request: POST https://api.openai.com/v1/assistants \"HTTP/1.1 200 OK\"\n",
      "INFO:httpx:HTTP Request: GET https://api.openai.com/v1/vector_stores \"HTTP/1.1 200 OK\"\n",
      "INFO:helpers.hopenai:Vector store 'batch_vector_store' already exists. Using it\n",
      "INFO:httpx:HTTP Request: POST https://api.openai.com/v1/assistants/asst_xVgsDQgFV8ZILTNWNuLSSUct \"HTTP/1.1 200 OK\"\n",
      "INFO:httpx:HTTP Request: POST https://api.openai.com/v1/threads \"HTTP/1.1 200 OK\"\n",
      "INFO:helpers.hopenai:thread=None\n",
      "INFO:httpx:HTTP Request: POST https://api.openai.com/v1/threads/thread_5mCof6nDc3wT12u3PGvc0dTS/runs \"HTTP/1.1 200 OK\"\n",
      "INFO:httpx:HTTP Request: GET https://api.openai.com/v1/threads/thread_5mCof6nDc3wT12u3PGvc0dTS/runs/run_OjzkBDRXP4QvMKnFyNqbw7xq \"HTTP/1.1 200 OK\"\n",
      "INFO:httpx:HTTP Request: GET https://api.openai.com/v1/threads/thread_5mCof6nDc3wT12u3PGvc0dTS/runs/run_OjzkBDRXP4QvMKnFyNqbw7xq \"HTTP/1.1 200 OK\"\n",
      "INFO:httpx:HTTP Request: GET https://api.openai.com/v1/threads/thread_5mCof6nDc3wT12u3PGvc0dTS/runs/run_OjzkBDRXP4QvMKnFyNqbw7xq \"HTTP/1.1 200 OK\"\n",
      "INFO:httpx:HTTP Request: GET https://api.openai.com/v1/threads/thread_5mCof6nDc3wT12u3PGvc0dTS/runs/run_OjzkBDRXP4QvMKnFyNqbw7xq \"HTTP/1.1 200 OK\"\n",
      "INFO:httpx:HTTP Request: GET https://api.openai.com/v1/threads/thread_5mCof6nDc3wT12u3PGvc0dTS/runs/run_OjzkBDRXP4QvMKnFyNqbw7xq \"HTTP/1.1 200 OK\"\n",
      "INFO:httpx:HTTP Request: GET https://api.openai.com/v1/threads/thread_5mCof6nDc3wT12u3PGvc0dTS/runs/run_OjzkBDRXP4QvMKnFyNqbw7xq \"HTTP/1.1 200 OK\"\n",
      "INFO:httpx:HTTP Request: GET https://api.openai.com/v1/threads/thread_5mCof6nDc3wT12u3PGvc0dTS/runs/run_OjzkBDRXP4QvMKnFyNqbw7xq \"HTTP/1.1 200 OK\"\n",
      "INFO:httpx:HTTP Request: GET https://api.openai.com/v1/threads/thread_5mCof6nDc3wT12u3PGvc0dTS/messages?run_id=run_OjzkBDRXP4QvMKnFyNqbw7xq \"HTTP/1.1 200 OK\"\n",
      "INFO:httpx:HTTP Request: GET https://api.openai.com/v1/threads/thread_5mCof6nDc3wT12u3PGvc0dTS/messages?run_id=run_OjzkBDRXP4QvMKnFyNqbw7xq&after=msg_VsvjrBAhDgQYpFImXveEW8sB \"HTTP/1.1 200 OK\"\n"
     ]
    },
    {
     "name": "stdout",
     "output_type": "stream",
     "text": [
      "assistant: Here's the Python function `calculate_area` that computes the area of a rectangle given its width and height, along with unit tests to verify its functionality.\n",
      "\n",
      "### Python Function\n",
      "\n",
      "```python\n",
      "def calculate_area(width: float, height: float) -> float:\n",
      "    \"\"\"Calculate the area of a rectangle.\n",
      "\n",
      "    Args:\n",
      "        width (float): The width of the rectangle.\n",
      "        height (float): The height of the rectangle.\n",
      "\n",
      "    Returns:\n",
      "        float: The area of the rectangle.\n",
      "\n",
      "    Raises:\n",
      "        ValueError: If width or height is negative.\n",
      "    \"\"\"\n",
      "    if width < 0 or height < 0:\n",
      "        raise ValueError(\"Width and height must be non-negative.\")\n",
      "    \n",
      "    return width * height\n",
      "```\n",
      "\n",
      "### Unit Tests\n",
      "\n",
      "Below are the unit tests for the `calculate_area` function using the `unittest` framework.\n",
      "\n",
      "```python\n",
      "import unittest\n",
      "\n",
      "class TestCalculateArea(unittest.TestCase):\n",
      "    \n",
      "    def test_positive_dimensions(self):\n",
      "        self.assertEqual(calculate_area(5, 10), 50)\n",
      "        self.assertEqual(calculate_area(2.5, 4), 10)\n",
      "        self.assertEqual(calculate_area(0, 0), 0)\n",
      "\n",
      "    def test_zero_dimensions(self):\n",
      "        self.assertEqual(calculate_area(0, 5), 0)\n",
      "        self.assertEqual(calculate_area(5, 0), 0)\n",
      "\n",
      "    def test_negative_dimensions(self):\n",
      "        with self.assertRaises(ValueError):\n",
      "            calculate_area(-1, 5)\n",
      "        with self.assertRaises(ValueError):\n",
      "            calculate_area(5, -1)\n",
      "        with self.assertRaises(ValueError):\n",
      "            calculate_area(-1, -1)\n",
      "\n",
      "if __name__ == '__main__':\n",
      "    unittest.main()\n",
      "```\n",
      "\n",
      "### Explanation\n",
      "\n",
      "- The `calculate_area` function takes two parameters, `width` and `height`, and calculates the area by multiplying these two values. It also raises a `ValueError` if either of the values is negative.\n",
      "- The test cases cover:\n",
      "  - Normal positive dimensions.\n",
      "  - Zero dimensions.\n",
      "  - Negative values, which should raise exceptions.\n",
      "\n",
      "You can run the tests using a Python environment that supports `unittest`.\n"
     ]
    }
   ],
   "source": [
    "# Step 1: Create a coding assistant\n",
    "assistant_name = \"CodeAndTestAssistant\"\n",
    "instructions = (\n",
    "    \"You are a coding assistant trained to write Python code and unit tests.\"\n",
    "    \"Adhere strictly to the following rules based on the uploaded guide:\"\n",
    "    \"- Adhere to PEP 8 coding standards.\"\n",
    "    \"- Use proper imports as documented in the coding guides.\"\n",
    "    \"- Write comprehensive and edge-case-aware unit tests.\"\n",
    ")\n",
    "\n",
    "# Create or retrieve the assistant\n",
    "coding_assistant = hopenai.get_coding_style_assistant(\n",
    "    assistant_name=assistant_name,\n",
    "    instructions=instructions,\n",
    "    vector_store_name=vector_store_name,\n",
    "    file_paths=None,  # Files already uploaded to the vector store\n",
    ")\n",
    "\n",
    "# Step 2: Query the assistant to generate code and tests\n",
    "task = (\n",
    "    \"Write a Python function `calculate_area` that computes the area of a rectangle \"\n",
    "    \"given its width and height. Then, write unit tests to verify its functionality.\"\n",
    ")\n",
    "\n",
    "response_messages = hopenai.get_query_assistant(coding_assistant, task)\n",
    "\n",
    "# Display the assistant's response\n",
    "for message in response_messages:\n",
    "    # Ensure the message has content to process\n",
    "    if hasattr(message, \"content\"):\n",
    "        for content_block in message.content:\n",
    "            if hasattr(content_block, \"text\") and hasattr(content_block.text, \"value\"):\n",
    "                print(f\"{message.role}: {content_block.text.value}\")\n",
    "            else:\n",
    "                print(f\"{message.role}: [No valid text content found]\")\n",
    "    else:\n",
    "        print(\"[No content attribute in the message]\")"
   ]
  },
  {
   "cell_type": "markdown",
   "id": "db161f80-3d6e-4e67-b57e-e6913c3fcfa5",
   "metadata": {},
   "source": [
    "## 6. Manage assistants.\n",
    "#### Goal: List and delete existing assistants."
   ]
  },
  {
   "cell_type": "code",
   "execution_count": 9,
   "id": "47fa07d8-fd98-438a-b550-d3a5c18e96a2",
   "metadata": {},
   "outputs": [
    {
     "name": "stderr",
     "output_type": "stream",
     "text": [
      "INFO:httpx:HTTP Request: GET https://api.openai.com/v1/assistants \"HTTP/1.1 200 OK\"\n"
     ]
    },
    {
     "name": "stdout",
     "output_type": "stream",
     "text": [
      "Assistants:\n",
      "{'name': 'CodeAndTestAssistant', 'created_at': datetime.datetime(2024, 12, 11, 20, 14, 26), 'id': 'asst_xVgsDQgFV8ZILTNWNuLSSUct', 'instructions': 'You are a coding assistant trained to write Python code and unit tests.Adhere strictly to the following rules based on the uploaded guide:- Adhere to PEP 8 coding standards.- Use proper imports as documented in the coding guides.- Write comprehensive and edge-case-aware unit tests.', 'model': 'gpt-4o-mini'}\n",
      "{'name': 'CodingAssistant', 'created_at': datetime.datetime(2024, 12, 11, 20, 13, 59), 'id': 'asst_XMbluEVX6o7bdzA4iMIjBaJC', 'instructions': 'You are a helpful coding assistant. Answer technical questions clearly and concisely.', 'model': 'gpt-4o-mini'}\n"
     ]
    },
    {
     "name": "stderr",
     "output_type": "stream",
     "text": [
      "INFO:httpx:HTTP Request: GET https://api.openai.com/v1/assistants \"HTTP/1.1 200 OK\"\n",
      "INFO:helpers.hopenai:Found 2 assistants\n",
      "Deleting assistant {'name': 'CodeAndTestAssistant', 'created_at': datetime.datetime(2024, 12, 11, 20, 14, 26), 'id': 'asst_xVgsDQgFV8ZILTNWNuLSSUct', 'instructions': 'You are a coding assistant trained to write Python code and unit tests.Adhere strictly to the following rules based on the uploaded guide:- Adhere to PEP 8 coding standards.- Use proper imports as documented in the coding guides.- Write comprehensive and edge-case-aware unit tests.', 'model': 'gpt-4o-mini'}\n",
      "Deleting assistant {'name': 'CodingAssistant', 'created_at': datetime.datetime(2024, 12, 11, 20, 13, 59), 'id': 'asst_XMbluEVX6o7bdzA4iMIjBaJC', 'instructions': 'You are a helpful coding assistant. Answer technical questions clearly and concisely.', 'model': 'gpt-4o-mini'}\n",
      "INFO:helpers.hopenai:Deleting assistant Assistant(id='asst_xVgsDQgFV8ZILTNWNuLSSUct', created_at=1733948066, description=None, instructions='You are a coding assistant trained to write Python code and unit tests.Adhere strictly to the following rules based on the uploaded guide:- Adhere to PEP 8 coding standards.- Use proper imports as documented in the coding guides.- Write comprehensive and edge-case-aware unit tests.', metadata={}, model='gpt-4o-mini', name='CodeAndTestAssistant', object='assistant', tools=[FileSearchTool(type='file_search', file_search=FileSearch(max_num_results=None, ranking_options=FileSearchRankingOptions(score_threshold=0.0, ranker='default_2024_08_21')))], response_format='auto', temperature=1.0, tool_resources=ToolResources(code_interpreter=None, file_search=ToolResourcesFileSearch(vector_store_ids=['vs_HvRISC4fiissfWRgMkxEYZvv'])), top_p=1.0)\n",
      "INFO:httpx:HTTP Request: DELETE https://api.openai.com/v1/assistants/asst_xVgsDQgFV8ZILTNWNuLSSUct \"HTTP/1.1 200 OK\"\n",
      "INFO:helpers.hopenai:Deleting assistant Assistant(id='asst_XMbluEVX6o7bdzA4iMIjBaJC', created_at=1733948039, description=None, instructions='You are a helpful coding assistant. Answer technical questions clearly and concisely.', metadata={}, model='gpt-4o-mini', name='CodingAssistant', object='assistant', tools=[FileSearchTool(type='file_search', file_search=FileSearch(max_num_results=None, ranking_options=FileSearchRankingOptions(score_threshold=0.0, ranker='default_2024_08_21')))], response_format='auto', temperature=1.0, tool_resources=ToolResources(code_interpreter=None, file_search=ToolResourcesFileSearch(vector_store_ids=['vs_uwnZJE3zIWUdlGNh1T6NVFcp'])), top_p=1.0)\n",
      "INFO:httpx:HTTP Request: DELETE https://api.openai.com/v1/assistants/asst_XMbluEVX6o7bdzA4iMIjBaJC \"HTTP/1.1 200 OK\"\n",
      "INFO:httpx:HTTP Request: GET https://api.openai.com/v1/assistants \"HTTP/1.1 200 OK\"\n"
     ]
    },
    {
     "name": "stdout",
     "output_type": "stream",
     "text": [
      "Assistants after deletion:\n"
     ]
    }
   ],
   "source": [
    "def print_assistant_info(assistants_list: List[str]) -> None:\n",
    "    \"\"\"\n",
    "    Prints assistant info.\n",
    "    \"\"\"\n",
    "    for assistant in assistants_list:\n",
    "        assistant_info = hopenai.assistant_to_info(assistant)\n",
    "        print(assistant_info)\n",
    "        \n",
    "# List all assistants\n",
    "assistants = client.beta.assistants.list()\n",
    "print(\"Assistants:\")\n",
    "print_assistant_info(assistants.data)\n",
    "\n",
    "# Delete all assistants (with confirmation)\n",
    "hopenai.delete_all_assistants(ask_for_confirmation=False)\n",
    "\n",
    "# Verify deletion\n",
    "assistants_after = client.beta.assistants.list()\n",
    "print(\"Assistants after deletion:\")\n",
    "print_assistant_info(assistants_after.data)\n"
   ]
  },
  {
   "cell_type": "code",
   "execution_count": null,
   "id": "eb6ac661-b401-4f60-b622-8120e33ec6eb",
   "metadata": {},
   "outputs": [],
   "source": []
  },
  {
   "cell_type": "code",
   "execution_count": null,
   "id": "924d4221-0a36-42f2-9b10-158f1f675e33",
   "metadata": {},
   "outputs": [],
   "source": []
  }
 ],
 "metadata": {
  "kernelspec": {
   "display_name": "Python 3 (ipykernel)",
   "language": "python",
   "name": "python3"
  },
  "language_info": {
   "codemirror_mode": {
    "name": "ipython",
    "version": 3
   },
   "file_extension": ".py",
   "mimetype": "text/x-python",
   "name": "python",
   "nbconvert_exporter": "python",
   "pygments_lexer": "ipython3",
   "version": "3.12.3"
  }
 },
 "nbformat": 4,
 "nbformat_minor": 5
}
