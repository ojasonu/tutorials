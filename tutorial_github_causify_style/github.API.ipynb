{
 "cells": [
  {
   "cell_type": "markdown",
   "id": "155556b4",
   "metadata": {},
   "source": [
    "CONTENTS:\n",
    "- [GitHub API Tutorial](#github-api-tutorial)\n",
    "  - [Setup](#setup)\n",
    "    - [1. Install Dependencies](#1.-install-dependencies)\n",
    "    - [2. Import Required Modules](#2.-import-required-modules)\n",
    "    - [3. Set Up GitHub Authentication](#3.-set-up-github-authentication)\n",
    "  - [Define Config](#define-config)\n",
    "  - [Initialize GitHub Client](#initialize-github-client)\n",
    "  - [Fetch Repositories for the Organization](#fetch-repositories-for-the-organization)\n",
    "  - [Fetch Commit Statistics](#fetch-commit-statistics)\n",
    "    - [**Usage**](#**usage**)\n",
    "    - [**Parameters**](#**parameters**)\n",
    "  - [Fetch Pull Request Statistics](#fetch-pull-request-statistics)\n",
    "    - [**Parameters**](#**parameters**)\n",
    "    - [Fetching Only Closed PRs](#fetching-only-closed-prs)\n",
    "  - [Fetch Unmerged Pull Request Statistics](#fetch-unmerged-pull-request-statistics)\n",
    "    - [**Parameters**](#**parameters**)\n",
    "  - [Fetch Total Issues Statistics](#fetch-total-issues-statistics)\n",
    "    - [**Parameters**](#**parameters**)\n",
    "  - [Fetch Issues Without Assignee](#fetch-issues-without-assignee)\n",
    "    - [**Parameters**](#**parameters**)\n",
    "  - [Fetch Commits by a Specific User](#fetch-commits-by-a-specific-user)\n",
    "    - [**Parameters:**](#**parameters:**)\n",
    "  - [Fetch Pull Requests by a Specific User](#fetch-pull-requests-by-a-specific-user)\n",
    "    - [**Parameters:**](#**parameters:**)\n",
    "  - [Fetch Unmerged Pull Requests by a Specific User](#fetch-unmerged-pull-requests-by-a-specific-user)\n",
    "    - [**Parameters:**](#**parameters:**)"
   ]
  },
  {
   "cell_type": "markdown",
   "id": "a7c65eb7",
   "metadata": {},
   "source": [
    "<a name='github-api-tutorial'></a>\n",
    "# GitHub API Tutorial\n",
    "\n",
    "**Overview:**\n",
    "In this notebook you'll learn how to:\n",
    "- Connect to the GitHub API using a Python client.\n",
    "- Retrieve valuable repository insights such as commit history, pull request statistics, and contributor details.\n",
    "- Perform analytics on repository activity over a given time frame.\n",
    "\n",
    "**Why Use This Notebook?**\n",
    "- Automate repository monitoring for contributions and updates.\n",
    "- Gain insights into open, closed, and unmerged pull requests.\n",
    "- Track commit frequency and user contributions.\n",
    "\n",
    "**Requirements:**\n",
    "\n",
    "To authenticate and interact with the GitHub API, you’ll need a **Personal Access Token** with appropriate scopes (permissions). Follow the steps below to generate one:\n",
    "\n",
    "1. Go to [https://github.com/settings/tokens](https://github.com/settings/tokens) while logged into your GitHub account.\n",
    "2. Click on **\"Generate new token\"** (classic) or **\"Tokens (fine-grained)\"** depending on GitHub's current interface.\n",
    "3. Set a **token name** (e.g., `github-api-notebook`).\n",
    "4. Choose an **expiration date** (recommended: 30 or 90 days for short-term use).\n",
    "5. Select the following scopes:\n",
    "   - `repo` (for private repositories, if applicable)\n",
    "   - `read:org` (to access organization information)\n",
    "   - `read:user` (to access user details)\n",
    "6. Click **Generate token**.\n",
    "7. **Copy and save your token immediately**—you won’t be able to see it again later."
   ]
  },
  {
   "cell_type": "markdown",
   "id": "d85dfd7c",
   "metadata": {},
   "source": [
    "<a name='1.-install-dependencies'></a>\n",
    "<a name='setup'></a>\n",
    "## Setup\n",
    "\n",
    "Before proceeding with API calls, ensure that your environment is correctly set up."
   ]
  },
  {
   "cell_type": "code",
   "execution_count": 1,
   "id": "a4fdf1b4",
   "metadata": {},
   "outputs": [],
   "source": [
    "!sudo /bin/bash -c \"(source /venv/bin/activate; pip install --quiet jupyterlab-vim)\"\n",
    "!jupyter labextension enable"
   ]
  },
  {
   "cell_type": "markdown",
   "id": "a48c7057",
   "metadata": {},
   "source": [
    "<a name='2.-import-required-modules'></a>\n",
    "### Import Required Modules\n",
    "Import the necessary libraries:"
   ]
  },
  {
   "cell_type": "code",
   "execution_count": 2,
   "id": "a20a881c",
   "metadata": {
    "ExecuteTime": {
     "end_time": "2025-04-09T04:41:49.674797Z",
     "start_time": "2025-04-09T04:41:49.585227Z"
    }
   },
   "outputs": [],
   "source": [
    "import logging\n",
    "import os\n",
    "from datetime import datetime\n",
    "\n",
    "import github_utils\n",
    "from github import Github\n",
    "\n",
    "# Enable logging.\n",
    "logging.basicConfig(level=logging.INFO)\n",
    "_LOG = logging.getLogger(__name__)"
   ]
  },
  {
   "cell_type": "markdown",
   "id": "66434834",
   "metadata": {},
   "source": [
    "<a name='3.-set-up-github-authentication'></a>\n",
    "### Set Up GitHub Authentication\n",
    "Store your **GitHub Personal Access Token (PAT)** as an environment variable for security. You can do this in your terminal:"
   ]
  },
  {
   "cell_type": "code",
   "execution_count": 3,
   "id": "764caffa",
   "metadata": {
    "ExecuteTime": {
     "end_time": "2025-04-09T04:42:01.767225Z",
     "start_time": "2025-04-09T04:42:01.758792Z"
    }
   },
   "outputs": [],
   "source": [
    "# Set your GitHub access token here.\n",
    "os.environ[\"GITHUB_ACCESS_TOKEN\"] = \"\""
   ]
  },
  {
   "cell_type": "code",
   "execution_count": 4,
   "id": "169075e9",
   "metadata": {
    "ExecuteTime": {
     "end_time": "2025-04-09T04:42:04.026166Z",
     "start_time": "2025-04-09T04:42:04.020304Z"
    }
   },
   "outputs": [],
   "source": [
    "# Retrieve it when needed.\n",
    "access_token = os.getenv(\"GITHUB_ACCESS_TOKEN\")\n",
    "\n",
    "# Ensure the token is set correctly.\n",
    "if not access_token:\n",
    "    raise ValueError(\n",
    "        \"GitHub Access Token is not set. Please configure it before proceeding.\"\n",
    "    )"
   ]
  },
  {
   "cell_type": "markdown",
   "id": "e895c216",
   "metadata": {},
   "source": [
    "Now, you're ready to interact with the GitHub API!"
   ]
  },
  {
   "cell_type": "markdown",
   "id": "0f11ce05",
   "metadata": {},
   "source": [
    "<a name='define-config'></a>\n",
    "## Define Config\n",
    "Here we define all parameters in a single `config` dictionary.\n",
    "You can easily modify:\n",
    "- The `org_name` to analyze a different GitHub organization.\n",
    "- The `start_date` and `end_date` to change the timeframe."
   ]
  },
  {
   "cell_type": "code",
   "execution_count": 5,
   "id": "207041c1",
   "metadata": {
    "ExecuteTime": {
     "end_time": "2025-04-09T04:42:06.794148Z",
     "start_time": "2025-04-09T04:42:06.791065Z"
    }
   },
   "outputs": [],
   "source": [
    "# Define the configuration settings.\n",
    "config = {\n",
    "    # Replace with actual GitHub organization or username.\n",
    "    \"org_name\": \"causify-ai\",\n",
    "    \"start_date\": (datetime(2025, 1, 20)),\n",
    "    \"end_date\": (datetime(2025, 2, 25)),\n",
    "    # Load from environment variable.\n",
    "    \"access_token\": access_token,\n",
    "}"
   ]
  },
  {
   "cell_type": "markdown",
   "id": "9bd494c8",
   "metadata": {},
   "source": [
    "<a name='initialize-github-client'></a>\n",
    "## Initialize GitHub Client"
   ]
  },
  {
   "cell_type": "code",
   "execution_count": 6,
   "id": "47d37b72",
   "metadata": {
    "ExecuteTime": {
     "end_time": "2025-04-09T04:42:09.521221Z",
     "start_time": "2025-04-09T04:42:09.358399Z"
    }
   },
   "outputs": [
    {
     "name": "stdout",
     "output_type": "stream",
     "text": [
      "Successfully authenticated as: Prahar08modi\n"
     ]
    }
   ],
   "source": [
    "# Initialize the GitHub client using the access token from the config.\n",
    "client = Github(config[\"access_token\"])\n",
    "\n",
    "# Verify authentication by retrieving the authenticated user.\n",
    "try:\n",
    "    authenticated_user = client.get_user().login\n",
    "    print(f\"Successfully authenticated as: {authenticated_user}\")\n",
    "except Exception as e:\n",
    "    print(f\"Authentication failed: {e}\")"
   ]
  },
  {
   "cell_type": "markdown",
   "id": "b9fcb9ae",
   "metadata": {},
   "source": [
    "<a name='fetch-repositories-for-the-organization'></a>\n",
    "## Fetch Repositories for the Organization\n",
    "\n",
    "The `get_repo_names` function retrieves all repositories within a specified GitHub organization. This helps in identifying available repositories before analyzing commits or pull requests."
   ]
  },
  {
   "cell_type": "code",
   "execution_count": 7,
   "id": "de67ea18",
   "metadata": {
    "ExecuteTime": {
     "end_time": "2025-04-08T15:10:11.028399Z",
     "start_time": "2025-04-08T15:10:10.366529Z"
    }
   },
   "outputs": [
    {
     "data": {
      "text/plain": [
       "{'owner': 'causify-ai',\n",
       " 'repositories': ['dev_tools', 'cmamp', 'kaizenflow', 'helpers', 'tutorials']}"
      ]
     },
     "execution_count": 7,
     "metadata": {},
     "output_type": "execute_result"
    }
   ],
   "source": [
    "repos_info = github_utils.get_repo_names(client, config[\"org_name\"])\n",
    "repos_info"
   ]
  },
  {
   "cell_type": "markdown",
   "id": "42f65219",
   "metadata": {},
   "source": [
    "<a name='**parameters**'></a>\n",
    "<a name='**usage**'></a>\n",
    "<a name='fetch-commit-statistics'></a>\n",
    "## Fetch Commit Statistics\n",
    "\n",
    "The `get_total_commits` function allows us to retrieve the number of commits made in the repositories of a specified GitHub organization.\n",
    "\n",
    "### **Usage**\n",
    "- You can fetch **all commits** made during a specific time range.\n",
    "- Additionally, you can **filter commits by specific users** to analyze individual contributions.\n",
    "\n",
    "### **Parameters**\n",
    "- `client` (*Github*): The authenticated GitHub API client.\n",
    "- `org_name` (*str*): The GitHub organization name.\n",
    "- `period` (*Optional[Tuple[datetime, datetime]]*): A tuple containing `start_date` and `end_date`.\n",
    "- `usernames` (*Optional[List[str]]*): A list of GitHub usernames to filter commits by specific users."
   ]
  },
  {
   "cell_type": "code",
   "execution_count": 8,
   "id": "c454c582",
   "metadata": {
    "ExecuteTime": {
     "end_time": "2025-04-08T15:10:18.300360Z",
     "start_time": "2025-04-08T15:10:15.071571Z"
    }
   },
   "outputs": [
    {
     "name": "stderr",
     "output_type": "stream",
     "text": [
      "Processing repositories: 100%|███████████████████████████████████████████████████████████████████████████████████████████████████████████████████████████████████████████████████████████████████████████████████████████| 3/3 [00:02<00:00,  1.18repo/s]\n"
     ]
    },
    {
     "data": {
      "text/plain": [
       "{'total_commits': 52,\n",
       " 'period': '2025-01-20 00:00:00 to 2025-02-25 00:00:00',\n",
       " 'commits_per_repository': {'kaizenflow': 0, 'helpers': 36, 'tutorials': 16}}"
      ]
     },
     "execution_count": 8,
     "metadata": {},
     "output_type": "execute_result"
    }
   ],
   "source": [
    "commit_stats = github_utils.get_total_commits(\n",
    "    client, config[\"org_name\"], period=(config[\"start_date\"], config[\"end_date\"])\n",
    ")\n",
    "commit_stats"
   ]
  },
  {
   "cell_type": "code",
   "execution_count": 8,
   "id": "d285ac97",
   "metadata": {},
   "outputs": [
    {
     "name": "stderr",
     "output_type": "stream",
     "text": [
      "Processing repositories: 100%|█████████████████████████████████████████████████████████████████████████████████████████████████████████| 5/5 [00:04<00:00,  1.19repo/s]\n"
     ]
    },
    {
     "data": {
      "text/plain": [
       "{'total_commits': 33,\n",
       " 'period': '2025-01-20 00:00:00 to 2025-02-25 00:00:00',\n",
       " 'commits_per_repository': {'dev_tools': 0,\n",
       "  'cmamp': 18,\n",
       "  'kaizenflow': 0,\n",
       "  'helpers': 11,\n",
       "  'tutorials': 4}}"
      ]
     },
     "execution_count": 8,
     "metadata": {},
     "output_type": "execute_result"
    }
   ],
   "source": [
    "commit_stats_filtered = github_utils.get_total_commits(\n",
    "    client,\n",
    "    config[\"org_name\"],\n",
    "    period=(config[\"start_date\"], config[\"end_date\"]),\n",
    "    # Replace with actual GitHub usernames.\n",
    "    usernames=[\"heanhsok\"],\n",
    ")\n",
    "commit_stats_filtered"
   ]
  },
  {
   "cell_type": "markdown",
   "id": "97d724de",
   "metadata": {},
   "source": [
    "<a name='**parameters**'></a>\n",
    "<a name='fetch-pull-request-statistics'></a>\n",
    "## Fetch Pull Request Statistics\n",
    "\n",
    "The `get_total_prs` function retrieves the number of pull requests (PRs) made within the repositories of a specified GitHub organization. This function allows filtering PRs by state, author, and time period.\n",
    "\n",
    "### **Parameters**\n",
    "- `client` (*Github*): The authenticated GitHub API client.\n",
    "- `org_name` (*str*): The name of the GitHub organization.\n",
    "- `usernames` (*Optional[List[str]]*): A list of GitHub usernames to filter PRs. If `None`, fetches PRs from all users.\n",
    "- `period` (*Optional[Tuple[datetime, datetime]]*): A tuple containing `start_date` and `end_date` to filter PRs within a time range.\n",
    "- `state` (*str*, default=`'open'`): The state of the pull requests to fetch. Can be:\n",
    "  - `'open'`: Fetch only open PRs.\n",
    "  - `'closed'`: Fetch only closed PRs.\n",
    "  - `'all'`: Fetch all PRs."
   ]
  },
  {
   "cell_type": "code",
   "execution_count": 9,
   "id": "6c4274c6",
   "metadata": {},
   "outputs": [
    {
     "name": "stderr",
     "output_type": "stream",
     "text": [
      "Processing repositories: 100%|█████████████████████████████████████████████████████████████████████████████████████████████████████████| 5/5 [02:19<00:00, 27.85s/repo]\n"
     ]
    },
    {
     "data": {
      "text/plain": [
       "{'total_prs': 14,\n",
       " 'period': '2025-01-20 00:00:00+00:00 to 2025-02-25 00:00:00+00:00',\n",
       " 'prs_per_repository': {'dev_tools': 0,\n",
       "  'cmamp': 9,\n",
       "  'kaizenflow': 0,\n",
       "  'helpers': 4,\n",
       "  'tutorials': 1}}"
      ]
     },
     "execution_count": 9,
     "metadata": {},
     "output_type": "execute_result"
    }
   ],
   "source": [
    "pr_stats = github_utils.get_total_prs(\n",
    "    client, config[\"org_name\"], period=(config[\"start_date\"], config[\"end_date\"])\n",
    ")\n",
    "pr_stats"
   ]
  },
  {
   "cell_type": "markdown",
   "id": "e5223452",
   "metadata": {},
   "source": [
    "<a name='fetching-only-closed-prs'></a>\n",
    "### Fetching Only Closed PRs"
   ]
  },
  {
   "cell_type": "code",
   "execution_count": 10,
   "id": "54a8263a",
   "metadata": {},
   "outputs": [
    {
     "name": "stderr",
     "output_type": "stream",
     "text": [
      "Processing repositories: 100%|████████████████████████████████████████████████████████████████████████████████████████████████████████| 5/5 [10:26<00:00, 125.22s/repo]\n"
     ]
    },
    {
     "data": {
      "text/plain": [
       "{'total_prs': 134,\n",
       " 'period': '2025-01-20 00:00:00+00:00 to 2025-02-25 00:00:00+00:00',\n",
       " 'prs_per_repository': {'dev_tools': 0,\n",
       "  'cmamp': 92,\n",
       "  'kaizenflow': 1,\n",
       "  'helpers': 32,\n",
       "  'tutorials': 9}}"
      ]
     },
     "execution_count": 10,
     "metadata": {},
     "output_type": "execute_result"
    }
   ],
   "source": [
    "pr_stats_closed = github_utils.get_total_prs(\n",
    "    client,\n",
    "    config[\"org_name\"],\n",
    "    period=(config[\"start_date\"], config[\"end_date\"]),\n",
    "    state=\"closed\",\n",
    ")\n",
    "pr_stats_closed"
   ]
  },
  {
   "cell_type": "markdown",
   "id": "c287082a",
   "metadata": {},
   "source": [
    "<a name='**parameters**'></a>\n",
    "<a name='fetch-unmerged-pull-request-statistics'></a>\n",
    "## Fetch Unmerged Pull Request Statistics\n",
    "\n",
    "The `get_prs_not_merged` function retrieves the count of **closed but unmerged** pull requests (PRs) within the repositories of a specified GitHub organization. This helps identify PRs that were closed without being merged, which could indicate rejected changes or abandoned contributions.\n",
    "\n",
    "### **Parameters**\n",
    "- `client` (*Github*): The authenticated GitHub API client.\n",
    "- `org_name` (*str*): The name of the GitHub organization.\n",
    "- `github_names` (*Optional[List[str]]*): A list of GitHub usernames to filter PRs. If `None`, fetches PRs from all users.\n",
    "- `period` (*Optional[Tuple[datetime, datetime]]*): A tuple containing `start_date` and `end_date` to filter PRs within a time range."
   ]
  },
  {
   "cell_type": "code",
   "execution_count": 11,
   "id": "1f8a9227",
   "metadata": {},
   "outputs": [
    {
     "name": "stderr",
     "output_type": "stream",
     "text": [
      "Processing repositories: 100%|████████████████████████████████████████████████████████████████████████████████████████████████████████| 5/5 [10:14<00:00, 122.90s/repo]\n"
     ]
    },
    {
     "data": {
      "text/plain": [
       "{'prs_not_merged': 18,\n",
       " 'period': '2025-01-20 00:00:00+00:00 to 2025-02-25 00:00:00+00:00',\n",
       " 'prs_per_repository': {'dev_tools': 0,\n",
       "  'cmamp': 14,\n",
       "  'kaizenflow': 0,\n",
       "  'helpers': 2,\n",
       "  'tutorials': 2}}"
      ]
     },
     "execution_count": 11,
     "metadata": {},
     "output_type": "execute_result"
    }
   ],
   "source": [
    "unmerged_prs = github_utils.get_prs_not_merged(\n",
    "    client, config[\"org_name\"], period=(config[\"start_date\"], config[\"end_date\"])\n",
    ")\n",
    "unmerged_prs"
   ]
  },
  {
   "cell_type": "markdown",
   "id": "62895719-6e67-443a-98dc-7921c9687083",
   "metadata": {},
   "source": [
    "<a name='**parameters**'></a>\n",
    "<a name='fetch-total-issues-statistics'></a>\n",
    "## Fetch Total Issues Statistics\n",
    "\n",
    "The `get_total_issues` function retrieves the count of issues (excluding pull requests) across all repositories in a GitHub organization. You can filter by issue state (open, closed, or all), a specific time window, or a set of repositories.\n",
    "\n",
    "### **Parameters**\n",
    "- `client` (*Github*): The authenticated GitHub API client.\n",
    "- `org_name` (*str*): The name of the GitHub organization.\n",
    "- `repo_names` (*Optional[List[str]]*): List of repository names to search in. If `None`, it fetches from all repositories.\n",
    "- `state` (*str*): Can be `\"open\"`, `\"closed\"`, or `\"all\"`. Default is `\"open\"`.\n",
    "- `period` (*Optional[Tuple[datetime, datetime]]*): Tuple containing `start_date` and `end_date` for time filtering."
   ]
  },
  {
   "cell_type": "code",
   "execution_count": 12,
   "id": "19d4d7f6-7cc9-4643-88cd-c080f9915345",
   "metadata": {},
   "outputs": [
    {
     "name": "stderr",
     "output_type": "stream",
     "text": [
      "Processing repositories: 100%|█████████████████████████████████████████████████████████████████████████████████████████████████████████| 5/5 [01:41<00:00, 20.33s/repo]\n"
     ]
    },
    {
     "data": {
      "text/plain": [
       "{'total_issues': 38,\n",
       " 'state': 'open',\n",
       " 'period': '2025-01-20 00:00:00+00:00 to 2025-02-25 00:00:00+00:00',\n",
       " 'issues_per_repository': {'dev_tools': 0,\n",
       "  'cmamp': 24,\n",
       "  'kaizenflow': 0,\n",
       "  'helpers': 14,\n",
       "  'tutorials': 0}}"
      ]
     },
     "execution_count": 12,
     "metadata": {},
     "output_type": "execute_result"
    }
   ],
   "source": [
    "# Fetch total issues for the organization\n",
    "total_issues = github_utils.get_total_issues(\n",
    "    client,\n",
    "    config[\"org_name\"],\n",
    "    state=\"open\",\n",
    "    period=(config[\"start_date\"], config[\"end_date\"]),\n",
    ")\n",
    "total_issues"
   ]
  },
  {
   "cell_type": "markdown",
   "id": "e5bda8e8",
   "metadata": {},
   "source": [
    "<a name='**parameters**'></a>\n",
    "<a name='fetch-issues-without-assignee'></a>\n",
    "## Fetch Issues Without Assignee\n",
    "\n",
    "The `get_issues_without_assignee` function returns the number of issues that are **unassigned** across one or more repositories in the organization, within a specified state and time period.\n",
    "\n",
    "### **Parameters**\n",
    "- `client` (*Github*): The authenticated GitHub API client.\n",
    "- `org_name` (*str*): GitHub organization name.\n",
    "- `repo_names` (*Optional[List[str]]*): Repositories to include. If `None`, checks all.\n",
    "- `state` (*str*): State of issues to consider — `\"open\"`, `\"closed\"`, or `\"all\"`.\n",
    "- `period` (*Optional[Tuple[datetime, datetime]]*): Start and end dates for filtering."
   ]
  },
  {
   "cell_type": "code",
   "execution_count": 13,
   "id": "6b861e61-0ee1-439d-8465-badfe5f09c50",
   "metadata": {},
   "outputs": [
    {
     "name": "stderr",
     "output_type": "stream",
     "text": [
      "Processing repositories: 100%|█████████████████████████████████████████████████████████████████████████████████████████████████████████| 5/5 [01:39<00:00, 19.96s/repo]\n"
     ]
    },
    {
     "data": {
      "text/plain": [
       "{'issues_without_assignee': 14,\n",
       " 'state': 'open',\n",
       " 'period': '2025-01-20 00:00:00+00:00 to 2025-02-25 00:00:00+00:00',\n",
       " 'issues_per_repository': {'dev_tools': 0,\n",
       "  'cmamp': 9,\n",
       "  'kaizenflow': 0,\n",
       "  'helpers': 5,\n",
       "  'tutorials': 0}}"
      ]
     },
     "execution_count": 13,
     "metadata": {},
     "output_type": "execute_result"
    }
   ],
   "source": [
    "# Fetch issues without assignees\n",
    "issues_no_assignee = github_utils.get_issues_without_assignee(\n",
    "    client,\n",
    "    config[\"org_name\"],\n",
    "    state=\"open\",\n",
    "    period=(config[\"start_date\"], config[\"end_date\"]),\n",
    ")\n",
    "issues_no_assignee"
   ]
  },
  {
   "cell_type": "markdown",
   "id": "dd1f22ef-a663-4022-b663-c2cc1159cd98",
   "metadata": {},
   "source": [
    "<a name='**parameters:**'></a>\n",
    "<a name='fetch-commits-by-a-specific-user'></a>\n",
    "## Fetch Commits by a Specific User\n",
    "\n",
    "The `get_commits_by_person` function retrieves the number of commits made by a specific GitHub user across repositories in the given organization. This is helpful for assessing an individual’s contribution during a particular time window.\n",
    "\n",
    "### **Parameters:**\n",
    "- `client` (*Github*): The authenticated GitHub API client.\n",
    "- `username` (*str*): GitHub username to filter commits.\n",
    "- `org_name` (*str*): GitHub organization name.\n",
    "- `period` (*Optional[Tuple[datetime, datetime]]*): Date range to filter commits."
   ]
  },
  {
   "cell_type": "code",
   "execution_count": 14,
   "id": "a32b9cdb-0052-49a2-89e6-06f076d91bab",
   "metadata": {},
   "outputs": [
    {
     "name": "stderr",
     "output_type": "stream",
     "text": [
      "Processing repositories: 100%|█████████████████████████████████████████████████████████████████████████████████████████████████████████| 5/5 [00:04<00:00,  1.15repo/s]\n"
     ]
    },
    {
     "data": {
      "text/plain": [
       "{'user': 'heanhsok',\n",
       " 'total_commits': 33,\n",
       " 'period': '2025-01-20 00:00:00 to 2025-02-25 00:00:00',\n",
       " 'commits_per_repository': {'dev_tools': 0,\n",
       "  'cmamp': 18,\n",
       "  'kaizenflow': 0,\n",
       "  'helpers': 11,\n",
       "  'tutorials': 4}}"
      ]
     },
     "execution_count": 14,
     "metadata": {},
     "output_type": "execute_result"
    }
   ],
   "source": [
    "commit_stats_user = github_utils.get_commits_by_person(\n",
    "    client,\n",
    "    # Replace with GitHub username.\n",
    "    username=\"heanhsok\",\n",
    "    org_name=config[\"org_name\"],\n",
    "    period=(config[\"start_date\"], config[\"end_date\"]),\n",
    ")\n",
    "commit_stats_user"
   ]
  },
  {
   "cell_type": "markdown",
   "id": "ec568a56-b1a7-4568-b301-cfa7a93d2f44",
   "metadata": {},
   "source": [
    "<a name='**parameters:**'></a>\n",
    "<a name='fetch-pull-requests-by-a-specific-user'></a>\n",
    "## Fetch Pull Requests by a Specific User\n",
    "\n",
    "The `get_prs_by_person` function returns the number of pull requests created by a specific GitHub user across all repositories in an organization. This is useful to evaluate code contributions in the form of PRs, optionally filtered by state.\n",
    "\n",
    "### **Parameters:**\n",
    "- `client` (*Github*): The authenticated GitHub API client.\n",
    "- `username` (*str*): GitHub username to filter pull requests.\n",
    "- `org_name` (*str*): GitHub organization name.\n",
    "- `period` (*Optional[Tuple[datetime, datetime]]*): Date range to filter PRs.\n",
    "- `state` (*str*): State of PRs to consider (`'open'`, `'closed'`, or `'all'`)."
   ]
  },
  {
   "cell_type": "code",
   "execution_count": 15,
   "id": "dad06272-40bd-4e7c-b043-11895b2e656b",
   "metadata": {},
   "outputs": [
    {
     "name": "stderr",
     "output_type": "stream",
     "text": [
      "Processing repositories: 100%|█████████████████████████████████████████████████████████████████████████████████████████████████████████| 5/5 [02:21<00:00, 28.33s/repo]\n"
     ]
    },
    {
     "data": {
      "text/plain": [
       "{'user': 'heanhsok',\n",
       " 'total_prs': 2,\n",
       " 'period': '2025-01-20 00:00:00+00:00 to 2025-02-25 00:00:00+00:00',\n",
       " 'prs_per_repository': {'dev_tools': 0,\n",
       "  'cmamp': 1,\n",
       "  'kaizenflow': 0,\n",
       "  'helpers': 1,\n",
       "  'tutorials': 0}}"
      ]
     },
     "execution_count": 15,
     "metadata": {},
     "output_type": "execute_result"
    }
   ],
   "source": [
    "prs_stats_user = github_utils.get_prs_by_person(\n",
    "    client,\n",
    "    # Replace with GitHub username.\n",
    "    username=\"heanhsok\",\n",
    "    org_name=config[\"org_name\"],\n",
    "    period=(config[\"start_date\"], config[\"end_date\"]),\n",
    "    # You can use \"open\", \"closed\", or \"all\".\n",
    "    state=\"open\",\n",
    ")\n",
    "prs_stats_user"
   ]
  },
  {
   "cell_type": "markdown",
   "id": "173dc033-97e6-49b8-a9c5-5d3d23d4cd97",
   "metadata": {},
   "source": [
    "<a name='**parameters:**'></a>\n",
    "<a name='fetch-unmerged-pull-requests-by-a-specific-user'></a>\n",
    "## Fetch Unmerged Pull Requests by a Specific User\n",
    "\n",
    "The `get_prs_not_merged_by_person` function fetches all PRs that were closed but not merged, submitted by a particular GitHub user. This helps identify stale or rejected contributions.\n",
    "\n",
    "### **Parameters:**\n",
    "- `client` (*Github*): The authenticated GitHub API client.\n",
    "- `username` (*str*): GitHub username to filter unmerged PRs.\n",
    "- `org_name` (*str*): GitHub organization name.\n",
    "- `period` (*Optional[Tuple[datetime, datetime]]*): Date range to filter PRs."
   ]
  },
  {
   "cell_type": "code",
   "execution_count": 16,
   "id": "eda49503-8616-46f0-8a99-30317b322e25",
   "metadata": {},
   "outputs": [
    {
     "name": "stderr",
     "output_type": "stream",
     "text": [
      "Processing repositories:  20%|█████████████████████                                                                                    | 1/5 [00:01<00:04,  1.23s/repo]Request GET /repos/causify-ai/cmamp/issues/11675 failed with 403: Forbidden\n",
      "INFO:github.GithubRetry:Request GET /repos/causify-ai/cmamp/issues/11675 failed with 403: Forbidden\n",
      "Setting next backoff to 933.725655s\n",
      "INFO:github.GithubRetry:Setting next backoff to 933.725655s\n",
      "Processing repositories: 100%|████████████████████████████████████████████████████████████████████████████████████████████████████████| 5/5 [25:43<00:00, 308.63s/repo]\n"
     ]
    },
    {
     "data": {
      "text/plain": [
       "{'user': 'heanhsok',\n",
       " 'prs_not_merged': 10,\n",
       " 'period': '2025-01-20 00:00:00+00:00 to 2025-02-25 00:00:00+00:00',\n",
       " 'prs_per_repository': {'dev_tools': 0,\n",
       "  'cmamp': 8,\n",
       "  'kaizenflow': 0,\n",
       "  'helpers': 1,\n",
       "  'tutorials': 1}}"
      ]
     },
     "execution_count": 16,
     "metadata": {},
     "output_type": "execute_result"
    }
   ],
   "source": [
    "unmerged_prs_user = github_utils.get_prs_not_merged_by_person(\n",
    "    client,\n",
    "    # Replace with GitHub username.\n",
    "    username=\"heanhsok\",\n",
    "    org_name=config[\"org_name\"],\n",
    "    period=(config[\"start_date\"], config[\"end_date\"]),\n",
    ")\n",
    "unmerged_prs_user"
   ]
  }
 ],
 "metadata": {
  "jupytext": {
   "formats": "ipynb,py:percent"
  },
  "kernelspec": {
   "display_name": "Python 3 (ipykernel)",
   "language": "python",
   "name": "python3"
  },
  "language_info": {
   "codemirror_mode": {
    "name": "ipython",
    "version": 3
   },
   "file_extension": ".py",
   "mimetype": "text/x-python",
   "name": "python",
   "nbconvert_exporter": "python",
   "pygments_lexer": "ipython3",
   "version": "3.12.3"
  },
  "toc": {
   "base_numbering": 1,
   "nav_menu": {},
   "number_sections": true,
   "sideBar": true,
   "skip_h1_title": false,
   "title_cell": "Table of Contents",
   "title_sidebar": "Contents",
   "toc_cell": false,
   "toc_position": {},
   "toc_section_display": true,
   "toc_window_display": false
  }
 },
 "nbformat": 4,
 "nbformat_minor": 5
}
