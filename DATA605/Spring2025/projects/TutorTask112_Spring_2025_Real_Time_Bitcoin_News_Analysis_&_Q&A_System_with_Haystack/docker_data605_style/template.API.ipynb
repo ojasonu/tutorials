{
 "cells": [
  {
   "cell_type": "markdown",
   "id": "a9cd5a69-2768-45c8-84c2-d60e4e288185",
   "metadata": {},
   "source": [
    "# 🔎 Real-Time Bitcoin News Q&A with Haystack\n",
    "This notebook loads Bitcoin news from Elasticsearch, sets up the Haystack pipeline, and answers user questions.\n"
   ]
  },
  {
   "cell_type": "code",
   "execution_count": 19,
   "id": "42ce0da2-0861-44ab-9092-f38cb988a59f",
   "metadata": {},
   "outputs": [
    {
     "name": "stdout",
     "output_type": "stream",
     "text": [
      "⚠️ No answer found. Try rephrasing your question or adding more detailed documents.\n"
     ]
    }
   ],
   "source": [
    "from haystack.document_stores import ElasticsearchDocumentStore\n",
    "from haystack.nodes import BM25Retriever, FARMReader\n",
    "from haystack.pipelines import ExtractiveQAPipeline\n",
    "from haystack.utils import launch_es\n",
    "\n",
    "# 🚀 Start Elasticsearch (only needed if not already running via Docker Compose)\n",
    "launch_es()\n",
    "\n",
    "# 📡 Connect to Elasticsearch Document Store\n",
    "document_store = ElasticsearchDocumentStore(\n",
    "    host=\"localhost\",\n",
    "    username=\"\",\n",
    "    password=\"\",\n",
    "    index=\"bitcoin-news\"\n",
    ")\n",
    "\n",
    "# 🔍 Set up Retriever\n",
    "retriever = BM25Retriever(document_store=document_store)\n",
    "\n",
    "# 🤖 Set up Extractive Reader\n",
    "reader = FARMReader(\n",
    "    model_name_or_path=\"deepset/roberta-base-squad2\",\n",
    "    use_gpu=False\n",
    ")\n",
    "\n",
    "# 🔗 Build the Extractive QA Pipeline\n",
    "pipeline = ExtractiveQAPipeline(reader=reader, retriever=retriever)\n",
    "\n",
    "# ❓ Define Q&A function with safe output handling\n",
    "def ask_question(query):\n",
    "    prediction = pipeline.run(\n",
    "        query=query,\n",
    "        params={\"Retriever\": {\"top_k\": 5}, \"Reader\": {\"top_k\": 3}}\n",
    "    )\n",
    "\n",
    "    if not prediction[\"answers\"]:\n",
    "        print(\"⚠️ No answer found. Try rephrasing your question or adding more detailed documents.\")\n",
    "        return\n",
    "\n",
    "    print(\"📜 Answer:\", prediction[\"answers\"][0].answer)\n",
    "\n",
    "    print(\"\\n📚 Sources:\")\n",
    "    for doc in prediction[\"documents\"]:\n",
    "        print(f\"- {doc.meta.get('source', 'N/A')} | {doc.meta.get('url', '')}\")\n",
    "\n",
    "# 🧪 Example usage\n",
    "ask_question(\"What caused Bitcoin’s price drop this week?\")\n"
   ]
  },
  {
   "cell_type": "code",
   "execution_count": null,
   "id": "14a696ea-b3c0-41f5-81a8-1e719cfd25a4",
   "metadata": {},
   "outputs": [],
   "source": []
  }
 ],
 "metadata": {
  "kernelspec": {
   "display_name": "Python 3 (ipykernel)",
   "language": "python",
   "name": "python3"
  },
  "language_info": {
   "codemirror_mode": {
    "name": "ipython",
    "version": 3
   },
   "file_extension": ".py",
   "mimetype": "text/x-python",
   "name": "python",
   "nbconvert_exporter": "python",
   "pygments_lexer": "ipython3",
   "version": "3.12.7"
  }
 },
 "nbformat": 4,
 "nbformat_minor": 5
}
