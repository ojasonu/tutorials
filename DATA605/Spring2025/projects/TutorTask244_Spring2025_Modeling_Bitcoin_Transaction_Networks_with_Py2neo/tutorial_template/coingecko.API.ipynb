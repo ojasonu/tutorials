{
 "cells": [
  {
   "cell_type": "markdown",
   "id": "183c2248-ea3d-43ba-b87e-d821bba1bbc6",
   "metadata": {},
   "source": [
    "# This notebook reads cryptocurrency data from API and stores the data in Neo4j graph databases using Py2Neo\n",
    "\n",
    "<!-- The name of this notebook should in the following format: -->\n",
    "<!-- - if the notebook is exploring `pycaret API`, then it is `pycaret.API.ipynb` -->\n",
    "\n",
    "<!-- Follow the reference to write notebooks in a clear manner: https://github.com/causify-ai/helpers/blob/master/docs/coding/all.jupyter_notebook.how_to_guide.md -->"
   ]
  },
  {
   "cell_type": "code",
   "execution_count": 1,
   "id": "265e0d58-a7cd-4edf-a0b4-96b60220e801",
   "metadata": {
    "ExecuteTime": {
     "end_time": "2025-05-01T20:59:05.833985Z",
     "start_time": "2025-05-01T20:59:05.507247Z"
    }
   },
   "outputs": [],
   "source": [
    "%load_ext autoreload\n",
    "%autoreload 2\n",
    "%matplotlib inline"
   ]
  },
  {
   "cell_type": "markdown",
   "id": "d3b2f997-5c9b-4238-b6d5-e5f2cea43809",
   "metadata": {},
   "source": [
    "## Imports"
   ]
  },
  {
   "cell_type": "code",
   "execution_count": 2,
   "id": "d1480ee9-d6a6-437d-b927-da6cbb05bdf5",
   "metadata": {
    "ExecuteTime": {
     "end_time": "2025-05-01T20:59:07.386012Z",
     "start_time": "2025-05-01T20:59:07.129010Z"
    }
   },
   "outputs": [],
   "source": [
    "import logging\n",
    "# Import libraries in this section.\n",
    "# Avoid imports like import *, from ... import ..., from ... import *, etc.\n",
    "\n",
    "# import helpers.hdbg as hdbg\n",
    "# import helpers.hprint as hprint\n",
    "import requests\n",
    "import pandas as pd\n",
    "import matplotlib.pyplot as plt\n",
    "from py2neo import Graph, Node\n",
    "import os"
   ]
  },
  {
   "cell_type": "code",
   "execution_count": 3,
   "id": "f4558fe1",
   "metadata": {
    "ExecuteTime": {
     "end_time": "2025-05-01T20:59:08.270064Z",
     "start_time": "2025-05-01T20:59:08.155207Z"
    }
   },
   "outputs": [],
   "source": [
    "graph = Graph(os.getenv(\"NEO4J_URI\"), auth=(os.getenv(\"NEO4J_USER\"), os.getenv(\"NEO4J_PASS\")))"
   ]
  },
  {
   "cell_type": "markdown",
   "id": "f9208cc9-837d-4fec-a312-9c4aa5b7648d",
   "metadata": {},
   "source": [
    "## Configuration"
   ]
  },
  {
   "cell_type": "code",
   "execution_count": null,
   "id": "9a2d7a9c-c6c5-48c9-8445-11c97045d00b",
   "metadata": {},
   "outputs": [
    {
     "name": "stdout",
     "output_type": "stream",
     "text": [
      "\u001b[0mWARNING: Running in Jupyter\n",
      "INFO  > cmd='/venv/lib/python3.12/site-packages/ipykernel_launcher.py -f /home/.local/share/jupyter/runtime/kernel-085a2ce7-6161-4c8a-92d5-492051832f3c.json'\n"
     ]
    }
   ],
   "source": [
    "# hdbg.init_logger(verbosity=logging.INFO)\n",
    "\n",
    "# _LOG = logging.getLogger(__name__)\n",
    "\n",
    "# hprint.config_notebook()"
   ]
  },
  {
   "cell_type": "markdown",
   "id": "79c37ba3-bd5d-4a44-87df-645eee54977a",
   "metadata": {},
   "source": [
    "## Make the notebook flow clear\n",
    "Each notebook needs to follow a clear and logical flow, e.g:\n",
    "- Load data\n",
    "- Compute stats\n",
    "- Clean data\n",
    "- Compute stats\n",
    "- Do analysis\n",
    "- Show results"
   ]
  },
  {
   "cell_type": "code",
   "execution_count": 12,
   "id": "a8a109cd-fc8e-4b9e-9dc0-4fc8d4126ad8",
   "metadata": {
    "ExecuteTime": {
     "end_time": "2025-05-01T21:06:53.012552Z",
     "start_time": "2025-05-01T21:06:52.995970Z"
    }
   },
   "outputs": [],
   "source": [
    "import requests\n",
    "from py2neo import Graph, Node, Relationship\n",
    "\n",
    "class Template:\n",
    "    \"\"\"\n",
    "    Class to handle Bitcoin API data fetching and Neo4j graph insertion.\n",
    "    \"\"\"\n",
    "\n",
    "    def __init__(self, graph):\n",
    "        self.graph = graph\n",
    "\n",
    "    def fetch_price_volume(self, limit=10):\n",
    "        url = \"https://api.coingecko.com/api/v3/coins/bitcoin/market_chart\"\n",
    "        params = {\n",
    "            \"vs_currency\": \"usd\",\n",
    "            \"days\": \"1\"\n",
    "        }\n",
    "\n",
    "        response = requests.get(url, params=params)\n",
    "        if response.status_code != 200:\n",
    "            raise ValueError(f\"API request failed: {response.status_code} - {response.text}\")\n",
    "\n",
    "        data = response.json()\n",
    "        print(\"Response keys:\", data.keys())  # Should include 'prices' and 'total_volumes'\n",
    "\n",
    "        if \"prices\" not in data or \"total_volumes\" not in data:\n",
    "            raise KeyError(\"Missing expected keys in CoinGecko response.\")\n",
    "\n",
    "        prices = data[\"prices\"][:limit]\n",
    "        volumes = data[\"total_volumes\"][:limit]\n",
    "\n",
    "        addresses = [f\"wallet_{i}\" for i in range(5)]\n",
    "        transactions = []\n",
    "\n",
    "        for i in range(len(prices)):\n",
    "            sender = addresses[i % 5]\n",
    "            receiver = addresses[(i + 1) % 5]\n",
    "            timestamp = int(prices[i][0] / 1000)\n",
    "            amount = round(volumes[i][1] / prices[i][1], 5)\n",
    "            transactions.append({\n",
    "                \"sender\": sender,\n",
    "                \"receiver\": receiver,\n",
    "                \"amount\": amount,\n",
    "                \"timestamp\": timestamp\n",
    "            })\n",
    "\n",
    "        return transactions\n",
    "\n",
    "\n",
    "    def insert_transactions(self, transactions):\n",
    "        for tx in transactions:\n",
    "            sender_node = Node(\"Address\", address=tx[\"sender\"])\n",
    "            receiver_node = Node(\"Address\", address=tx[\"receiver\"])\n",
    "\n",
    "            self.graph.merge(sender_node, \"Address\", \"address\")\n",
    "            self.graph.merge(receiver_node, \"Address\", \"address\")\n",
    "\n",
    "            tx_rel = Relationship(sender_node, \"SENT\", receiver_node,\n",
    "                                  amount=tx[\"amount\"], timestamp=tx[\"timestamp\"])\n",
    "            self.graph.create(tx_rel)"
   ]
  },
  {
   "cell_type": "code",
   "execution_count": null,
   "id": "97343689",
   "metadata": {},
   "outputs": [],
   "source": []
  },
  {
   "cell_type": "code",
   "execution_count": 13,
   "id": "32aed995",
   "metadata": {
    "ExecuteTime": {
     "end_time": "2025-05-01T21:06:56.638396Z",
     "start_time": "2025-05-01T21:06:55.279658Z"
    }
   },
   "outputs": [
    {
     "name": "stdout",
     "output_type": "stream",
     "text": [
      "Response keys: dict_keys(['prices', 'market_caps', 'total_volumes'])\n"
     ]
    }
   ],
   "source": [
    "template = Template(graph)\n",
    "transactions = template.fetch_price_volume(limit=15)\n",
    "template.insert_transactions(transactions)"
   ]
  },
  {
   "cell_type": "code",
   "execution_count": 14,
   "id": "2885dc09",
   "metadata": {
    "ExecuteTime": {
     "end_time": "2025-05-01T21:07:34.817514Z",
     "start_time": "2025-05-01T21:07:34.805148Z"
    }
   },
   "outputs": [],
   "source": [
    "def get_top_senders(graph):\n",
    "    return graph.run(\"\"\"\n",
    "        MATCH (a:Address)-[:SENT]->()\n",
    "        RETURN a.address AS sender, count(*) AS tx_count\n",
    "        ORDER BY tx_count DESC\n",
    "        LIMIT 5\n",
    "    \"\"\").to_data_frame()"
   ]
  },
  {
   "cell_type": "code",
   "execution_count": 15,
   "id": "f3c38645",
   "metadata": {
    "ExecuteTime": {
     "end_time": "2025-05-01T21:07:52.152051Z",
     "start_time": "2025-05-01T21:07:52.138714Z"
    }
   },
   "outputs": [],
   "source": [
    "def get_frequent_pairs(graph):\n",
    "    return graph.run(\"\"\"\n",
    "        MATCH (a:Address)-[r:SENT]->(b:Address)\n",
    "        RETURN a.address AS sender, b.address AS receiver, count(*) AS tx_count\n",
    "        ORDER BY tx_count DESC\n",
    "        LIMIT 10\n",
    "    \"\"\").to_data_frame()"
   ]
  },
  {
   "cell_type": "code",
   "execution_count": 16,
   "id": "1a5f4460",
   "metadata": {
    "ExecuteTime": {
     "end_time": "2025-05-01T21:08:00.731408Z",
     "start_time": "2025-05-01T21:08:00.716629Z"
    }
   },
   "outputs": [],
   "source": [
    "def get_mutual_transactions(graph):\n",
    "    return graph.run(\"\"\"\n",
    "        MATCH (a:Address)-[:SENT]->(b:Address)\n",
    "        MATCH (b)-[:SENT]->(a)\n",
    "        RETURN DISTINCT a.address AS one, b.address AS two\n",
    "        LIMIT 10\n",
    "    \"\"\").to_data_frame()"
   ]
  },
  {
   "cell_type": "code",
   "execution_count": 17,
   "id": "6d386323",
   "metadata": {
    "ExecuteTime": {
     "end_time": "2025-05-01T21:10:29.741964Z",
     "start_time": "2025-05-01T21:10:29.623886Z"
    }
   },
   "outputs": [
    {
     "name": "stdout",
     "output_type": "stream",
     "text": [
      "     sender  tx_count\n",
      "0  wallet_0         1\n",
      "1  wallet_1         1\n",
      "2  wallet_2         1\n",
      "3  wallet_3         1\n",
      "4  wallet_4         1\n"
     ]
    }
   ],
   "source": [
    "top_senders = get_top_senders(graph)\n",
    "print(top_senders)"
   ]
  },
  {
   "cell_type": "code",
   "execution_count": 18,
   "id": "236d4530",
   "metadata": {
    "ExecuteTime": {
     "end_time": "2025-05-01T21:10:37.580331Z",
     "start_time": "2025-05-01T21:10:37.507829Z"
    }
   },
   "outputs": [
    {
     "name": "stdout",
     "output_type": "stream",
     "text": [
      "     sender  receiver  tx_count\n",
      "0  wallet_0  wallet_1         1\n",
      "1  wallet_1  wallet_2         1\n",
      "2  wallet_2  wallet_3         1\n",
      "3  wallet_3  wallet_4         1\n",
      "4  wallet_4  wallet_0         1\n"
     ]
    }
   ],
   "source": [
    "frequent_pairs = get_frequent_pairs(graph)\n",
    "print(frequent_pairs)"
   ]
  },
  {
   "cell_type": "code",
   "execution_count": 19,
   "id": "af7f7c44",
   "metadata": {
    "ExecuteTime": {
     "end_time": "2025-05-01T21:10:43.682626Z",
     "start_time": "2025-05-01T21:10:43.592983Z"
    }
   },
   "outputs": [
    {
     "name": "stdout",
     "output_type": "stream",
     "text": [
      "Empty DataFrame\n",
      "Columns: []\n",
      "Index: []\n"
     ]
    }
   ],
   "source": [
    "mutual_tx = get_mutual_transactions(graph)\n",
    "print(mutual_tx)"
   ]
  },
  {
   "cell_type": "code",
   "execution_count": 20,
   "id": "78ce545d",
   "metadata": {
    "ExecuteTime": {
     "end_time": "2025-05-01T21:13:04.061630Z",
     "start_time": "2025-05-01T21:13:03.923296Z"
    }
   },
   "outputs": [
    {
     "data": {
      "image/png": "[encoded data removed]",
      "text/plain": [
       "<Figure size 800x400 with 1 Axes>"
      ]
     },
     "metadata": {},
     "output_type": "display_data"
    }
   ],
   "source": [
    "def plot_top_senders(df):\n",
    "    plt.figure(figsize=(8, 4))\n",
    "    plt.bar(df[\"sender\"], df[\"tx_count\"], color=\"skyblue\")\n",
    "    plt.title(\"Top Senders by Transaction Count\")\n",
    "    plt.xlabel(\"Sender Address\")\n",
    "    plt.ylabel(\"Number of Transactions\")\n",
    "    plt.xticks(rotation=45, ha='right')\n",
    "    plt.tight_layout()\n",
    "    plt.show()\n",
    "plot_top_senders(top_senders)"
   ]
  },
  {
   "cell_type": "code",
   "execution_count": 23,
   "id": "1ffd0a66",
   "metadata": {
    "ExecuteTime": {
     "end_time": "2025-05-01T21:14:42.409187Z",
     "start_time": "2025-05-01T21:14:42.312884Z"
    }
   },
   "outputs": [
    {
     "data": {
      "image/png": "[encoded data removed]",
      "text/plain": [
       "<Figure size 1000x400 with 1 Axes>"
      ]
     },
     "metadata": {},
     "output_type": "display_data"
    }
   ],
   "source": [
    "def plot_frequent_pairs_bar(df):\n",
    "    if df.empty:\n",
    "        print(\"No frequent pairs to plot.\")\n",
    "        return\n",
    "\n",
    "    df[\"pair\"] = df[\"sender\"] + \" → \" + df[\"receiver\"]\n",
    "    plt.figure(figsize=(10, 4))\n",
    "    plt.bar(df[\"pair\"], df[\"tx_count\"], color=\"orange\")\n",
    "    plt.title(\"Frequent Sender-Receiver Pairs\")\n",
    "    plt.xlabel(\"Sender → Receiver\")\n",
    "    plt.ylabel(\"Number of Transactions\")\n",
    "    plt.xticks(rotation=45, ha='right')\n",
    "    plt.tight_layout()\n",
    "    plt.show()\n",
    "\n",
    "plot_frequent_pairs_bar(frequent_pairs)"
   ]
  },
  {
   "cell_type": "code",
   "execution_count": null,
   "id": "7be50ea7",
   "metadata": {},
   "outputs": [],
   "source": []
  }
 ],
 "metadata": {
  "kernelspec": {
   "display_name": "Python 3 (ipykernel)",
   "language": "python",
   "name": "python3"
  },
  "language_info": {
   "codemirror_mode": {
    "name": "ipython",
    "version": 3
   },
   "file_extension": ".py",
   "mimetype": "text/x-python",
   "name": "python",
   "nbconvert_exporter": "python",
   "pygments_lexer": "ipython3",
   "version": "3.8.10"
  },
  "toc": {
   "base_numbering": 1,
   "nav_menu": {},
   "number_sections": true,
   "sideBar": true,
   "skip_h1_title": false,
   "title_cell": "Table of Contents",
   "title_sidebar": "Contents",
   "toc_cell": false,
   "toc_position": {},
   "toc_section_display": true,
   "toc_window_display": false
  }
 },
 "nbformat": 4,
 "nbformat_minor": 5
}
