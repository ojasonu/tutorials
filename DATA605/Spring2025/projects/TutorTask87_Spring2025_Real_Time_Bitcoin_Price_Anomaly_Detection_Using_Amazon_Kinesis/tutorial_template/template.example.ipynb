{
 "cells": [
  {
   "cell_type": "markdown",
   "id": "50f78f7e-2dee-45d6-9d37-7a55eeaae283",
   "metadata": {},
   "source": [
    "# Template Example Notebook\n",
    "\n",
    "This is a template notebook. The first heading should be the title of what notebook is about. For example, if it is a project on neo4j tutorial the heading should be `Project Title`.\n",
    "\n",
    "- Add description of what the notebook does.\n",
    "- Point to references, e.g. (neo4j.example.md)\n",
    "- Add citations.\n",
    "- Keep the notebook flow clear.\n",
    "- Comments should be imperative and have a period at the end.\n",
    "- Your code should be well commented. \n",
    "\n",
    "The name of this notebook should in the following format:\n",
    "- if the notebook is exploring `pycaret API`, then it is `pycaret.example.ipynb`\n",
    "\n",
    "Follow the reference to write notebooks in a clear manner: https://github.com/causify-ai/helpers/blob/master/docs/coding/all.jupyter_notebook.how_to_guide.md"
   ]
  },
  {
   "cell_type": "code",
   "execution_count": 1,
   "id": "6226667e-cab5-479c-be6a-6b7d6f580a97",
   "metadata": {},
   "outputs": [],
   "source": [
    "%load_ext autoreload\n",
    "%autoreload 2\n",
    "%matplotlib inline"
   ]
  },
  {
   "cell_type": "code",
   "execution_count": 2,
   "id": "8020901a-4bc7-4b73-95e8-aaa462b4fc19",
   "metadata": {},
   "outputs": [],
   "source": [
    "import logging\n",
    "# Import libraries in this section.\n",
    "# Avoid imports like import *, from ... import ..., from ... import *, etc.\n",
    "\n",
    "import helpers.hdbg as hdbg\n",
    "import helpers.hprint as hprint"
   ]
  },
  {
   "cell_type": "code",
   "execution_count": 3,
   "id": "4ecb72b2-b21d-4fb0-ac92-e7174da390e6",
   "metadata": {},
   "outputs": [
    {
     "name": "stdout",
     "output_type": "stream",
     "text": [
      "\u001b[0mWARNING: Running in Jupyter\n",
      "INFO  > cmd='/venv/lib/python3.12/site-packages/ipykernel_launcher.py -f /home/.local/share/jupyter/runtime/kernel-783e0930-1631-4d64-8bb4-f3a98bb74fcd.json'\n"
     ]
    }
   ],
   "source": [
    "hdbg.init_logger(verbosity=logging.INFO)\n",
    "\n",
    "_LOG = logging.getLogger(__name__)\n",
    "\n",
    "hprint.config_notebook()"
   ]
  },
  {
   "cell_type": "markdown",
   "id": "1ede6422-bff2-4f0a-8d28-29a01d4786b2",
   "metadata": {},
   "source": [
    "## Make the notebook flow clear\n",
    "Each notebook needs to follow a clear and logical flow, e.g:\n",
    "- Load data\n",
    "- Compute stats\n",
    "- Clean data\n",
    "- Compute stats\n",
    "- Do analysis\n",
    "- Show results"
   ]
  },
  {
   "cell_type": "code",
   "execution_count": 5,
   "id": "8bbd660d-d22f-44fa-bf53-dd622dee0f53",
   "metadata": {},
   "outputs": [],
   "source": [
    "class Template:\n",
    "    \"\"\"\n",
    "    Brief imperative description of what the class does in one line, if needed.\n",
    "    \"\"\"\n",
    "    def __init__(self):\n",
    "        pass\n",
    "    \n",
    "    def method1(self, arg1:int) -> None:\n",
    "        \"\"\"\n",
    "        Brief imperative description of what the method does in one line.\n",
    "\n",
    "        You can elaborate more in the method docstring in this section, for e.g. explaining \n",
    "        the formula/algorithm. Every method/function should have a docstring, typehints and include the\n",
    "        parameters and return as follows:\n",
    "\n",
    "        :param arg1: description of arg1\n",
    "        :return: description of return\n",
    "        \"\"\"\n",
    "        # Code bloks go here.\n",
    "        # Make sure to include comments to explain what the code is doing.\n",
    "        # No empty lines between code blocks.\n",
    "        pass\n",
    "\n",
    "\n",
    "def template_function(arg1:int) -> None:\n",
    "    \"\"\"\n",
    "    Brief imperative description of what the function does in one line.\n",
    "\n",
    "    You can elaborate more in the function docstring in this section, for e.g. explaining \n",
    "    the formula/algorithm. Every function should have a docstring, typehints and include the\n",
    "    parameters and return as follows:\n",
    "\n",
    "    :param arg1: description of arg1\n",
    "    :return: description of return\n",
    "    \"\"\"\n",
    "    # Code bloks go here.\n",
    "    # Make sure to include comments to explain what the code is doing.\n",
    "    # No empty lines between code blocks.\n",
    "    pass\n"
   ]
  },
  {
   "cell_type": "markdown",
   "id": "103f6e36-54cf-442c-b137-8091d48805a7",
   "metadata": {},
   "source": [
    "## The flow should be highlighted using headings in markdown\n",
    "```\n",
    "# Level 1\n",
    "## Level 2\n",
    "### Level 3\n",
    "```"
   ]
  },
  {
   "cell_type": "code",
   "execution_count": null,
   "id": "d05d52af-67ba-4a4f-a561-af453e43854f",
   "metadata": {},
   "outputs": [],
   "source": []
  }
 ],
 "metadata": {
  "kernelspec": {
   "display_name": "Python 3 (ipykernel)",
   "language": "python",
   "name": "python3"
  },
  "language_info": {
   "codemirror_mode": {
    "name": "ipython",
    "version": 3
   },
   "file_extension": ".py",
   "mimetype": "text/x-python",
   "name": "python",
   "nbconvert_exporter": "python",
   "pygments_lexer": "ipython3",
   "version": "3.12.3"
  }
 },
 "nbformat": 4,
 "nbformat_minor": 5
}
