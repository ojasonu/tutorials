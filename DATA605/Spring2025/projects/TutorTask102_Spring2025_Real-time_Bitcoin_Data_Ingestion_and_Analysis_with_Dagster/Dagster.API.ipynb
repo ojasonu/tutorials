{
 "cells": [
  {
   "cell_type": "markdown",
   "id": "13837c45",
   "metadata": {},
   "source": [
    "# Dagster Bitcoin API\n",
    "\n",
    "This notebook demonstrates how to interact with the CoinGecko API using Dagster. It provides practical examples of retrieving cryptocurrency data, calculating financial metrics, and detecting anomalies for enhanced crypto analysis.\n",
    "\n",
    "## Notebook Objectives\n",
    "It focuses on showcasing the utility functions used to:\n",
    "- Fetch Bitcoin prices from the CoinGecko API\n",
    "- Transform the data into a structured format\n",
    "- Persist the data to disk\n",
    "\n",
    "# References\n",
    "\n",
    "- CoinGecko API Docs: https://www.coingecko.com/en/api\n",
    "- Dagster Documentation: https://docs.dagster.io\n",
    "- Getting started with Dagster: https://docs.dagster.io/getting-started\n",
    "\n",
    "# Citations\n",
    "CoinGecko. (2024). CoinGecko API v3. Retrieved from https://www.coingecko.com/en/api/documentation"
   ]
  },
  {
   "cell_type": "markdown",
   "id": "c8a75481",
   "metadata": {},
   "source": [
    "## Setup and Imports\n",
    "\n",
    "This section sets up the notebook environment and imports core utility functions needed for interacting with the CoinGecko API via Dagster."
   ]
  },
  {
   "cell_type": "code",
   "execution_count": 9,
   "id": "bea12473",
   "metadata": {},
   "outputs": [],
   "source": [
    "from Dagster_utils import (\n",
    "    fetch_bitcoin_price,\n",
    "    process_price_data,\n",
    "    get_historical_bitcoin_data,\n",
    "    calculate_moving_average,\n",
    "    detect_trend,\n",
    "    detect_anomalies_zscore,\n",
    "    plot_price_with_moving_average\n",
    ")"
   ]
  },
  {
   "cell_type": "markdown",
   "id": "71151328",
   "metadata": {},
   "source": [
    "## Fetch Current Price"
   ]
  },
  {
   "cell_type": "code",
   "execution_count": 10,
   "id": "99ec833c",
   "metadata": {},
   "outputs": [
    {
     "name": "stdout",
     "output_type": "stream",
     "text": [
      "Live Price Data: {'timestamp': datetime.datetime(2025, 5, 1, 20, 18, 47, 225894), 'price': 96641}\n"
     ]
    }
   ],
   "source": [
    "# Fetch current price from CoinGecko API\n",
    "live_price = fetch_bitcoin_price()\n",
    "print(\"Live Price Data:\", live_price)"
   ]
  },
  {
   "cell_type": "markdown",
   "id": "4ff21776",
   "metadata": {},
   "source": [
    "## Format Price into DataFrame"
   ]
  },
  {
   "cell_type": "code",
   "execution_count": 11,
   "id": "a847bc62",
   "metadata": {},
   "outputs": [
    {
     "data": {
      "text/html": [
       "<div>\n",
       "<style scoped>\n",
       "    .dataframe tbody tr th:only-of-type {\n",
       "        vertical-align: middle;\n",
       "    }\n",
       "\n",
       "    .dataframe tbody tr th {\n",
       "        vertical-align: top;\n",
       "    }\n",
       "\n",
       "    .dataframe thead th {\n",
       "        text-align: right;\n",
       "    }\n",
       "</style>\n",
       "<table border=\"1\" class=\"dataframe\">\n",
       "  <thead>\n",
       "    <tr style=\"text-align: right;\">\n",
       "      <th></th>\n",
       "      <th>timestamp</th>\n",
       "      <th>price</th>\n",
       "    </tr>\n",
       "  </thead>\n",
       "  <tbody>\n",
       "    <tr>\n",
       "      <th>0</th>\n",
       "      <td>2025-05-01 20:18:47.225894</td>\n",
       "      <td>96641</td>\n",
       "    </tr>\n",
       "  </tbody>\n",
       "</table>\n",
       "</div>"
      ],
      "text/plain": [
       "                   timestamp  price\n",
       "0 2025-05-01 20:18:47.225894  96641"
      ]
     },
     "execution_count": 11,
     "metadata": {},
     "output_type": "execute_result"
    }
   ],
   "source": [
    "# Convert price dict into DataFrame\n",
    "df_price = process_price_data(live_price)\n",
    "df_price"
   ]
  },
  {
   "cell_type": "markdown",
   "id": "2d1498cd",
   "metadata": {},
   "source": [
    "##  Fetch Historical Data"
   ]
  },
  {
   "cell_type": "code",
   "execution_count": 12,
   "id": "75636fe3",
   "metadata": {},
   "outputs": [
    {
     "data": {
      "text/html": [
       "<div>\n",
       "<style scoped>\n",
       "    .dataframe tbody tr th:only-of-type {\n",
       "        vertical-align: middle;\n",
       "    }\n",
       "\n",
       "    .dataframe tbody tr th {\n",
       "        vertical-align: top;\n",
       "    }\n",
       "\n",
       "    .dataframe thead th {\n",
       "        text-align: right;\n",
       "    }\n",
       "</style>\n",
       "<table border=\"1\" class=\"dataframe\">\n",
       "  <thead>\n",
       "    <tr style=\"text-align: right;\">\n",
       "      <th></th>\n",
       "      <th>date</th>\n",
       "      <th>price</th>\n",
       "    </tr>\n",
       "  </thead>\n",
       "  <tbody>\n",
       "    <tr>\n",
       "      <th>0</th>\n",
       "      <td>2025-04-02</td>\n",
       "      <td>85151.383599</td>\n",
       "    </tr>\n",
       "    <tr>\n",
       "      <th>1</th>\n",
       "      <td>2025-04-02</td>\n",
       "      <td>84981.394128</td>\n",
       "    </tr>\n",
       "    <tr>\n",
       "      <th>2</th>\n",
       "      <td>2025-04-02</td>\n",
       "      <td>85152.656324</td>\n",
       "    </tr>\n",
       "    <tr>\n",
       "      <th>3</th>\n",
       "      <td>2025-04-02</td>\n",
       "      <td>84728.417899</td>\n",
       "    </tr>\n",
       "    <tr>\n",
       "      <th>4</th>\n",
       "      <td>2025-04-02</td>\n",
       "      <td>84650.330332</td>\n",
       "    </tr>\n",
       "  </tbody>\n",
       "</table>\n",
       "</div>"
      ],
      "text/plain": [
       "         date         price\n",
       "0  2025-04-02  85151.383599\n",
       "1  2025-04-02  84981.394128\n",
       "2  2025-04-02  85152.656324\n",
       "3  2025-04-02  84728.417899\n",
       "4  2025-04-02  84650.330332"
      ]
     },
     "execution_count": 12,
     "metadata": {},
     "output_type": "execute_result"
    }
   ],
   "source": [
    "# Get last 30 days of historical BTC prices\n",
    "df_hist = get_historical_bitcoin_data(days=30)\n",
    "df_hist.head()"
   ]
  },
  {
   "cell_type": "markdown",
   "id": "fa07237e",
   "metadata": {},
   "source": [
    "## Test Moving Average"
   ]
  },
  {
   "cell_type": "code",
   "execution_count": 13,
   "id": "7d02dfb4",
   "metadata": {},
   "outputs": [
    {
     "data": {
      "text/html": [
       "<div>\n",
       "<style scoped>\n",
       "    .dataframe tbody tr th:only-of-type {\n",
       "        vertical-align: middle;\n",
       "    }\n",
       "\n",
       "    .dataframe tbody tr th {\n",
       "        vertical-align: top;\n",
       "    }\n",
       "\n",
       "    .dataframe thead th {\n",
       "        text-align: right;\n",
       "    }\n",
       "</style>\n",
       "<table border=\"1\" class=\"dataframe\">\n",
       "  <thead>\n",
       "    <tr style=\"text-align: right;\">\n",
       "      <th></th>\n",
       "      <th>date</th>\n",
       "      <th>price</th>\n",
       "      <th>moving_average</th>\n",
       "    </tr>\n",
       "  </thead>\n",
       "  <tbody>\n",
       "    <tr>\n",
       "      <th>0</th>\n",
       "      <td>2025-04-02</td>\n",
       "      <td>85151.383599</td>\n",
       "      <td>85151.383599</td>\n",
       "    </tr>\n",
       "    <tr>\n",
       "      <th>1</th>\n",
       "      <td>2025-04-02</td>\n",
       "      <td>84981.394128</td>\n",
       "      <td>85066.388863</td>\n",
       "    </tr>\n",
       "    <tr>\n",
       "      <th>2</th>\n",
       "      <td>2025-04-02</td>\n",
       "      <td>85152.656324</td>\n",
       "      <td>85095.144684</td>\n",
       "    </tr>\n",
       "    <tr>\n",
       "      <th>3</th>\n",
       "      <td>2025-04-02</td>\n",
       "      <td>84728.417899</td>\n",
       "      <td>85003.462988</td>\n",
       "    </tr>\n",
       "    <tr>\n",
       "      <th>4</th>\n",
       "      <td>2025-04-02</td>\n",
       "      <td>84650.330332</td>\n",
       "      <td>84932.836456</td>\n",
       "    </tr>\n",
       "  </tbody>\n",
       "</table>\n",
       "</div>"
      ],
      "text/plain": [
       "         date         price  moving_average\n",
       "0  2025-04-02  85151.383599    85151.383599\n",
       "1  2025-04-02  84981.394128    85066.388863\n",
       "2  2025-04-02  85152.656324    85095.144684\n",
       "3  2025-04-02  84728.417899    85003.462988\n",
       "4  2025-04-02  84650.330332    84932.836456"
      ]
     },
     "execution_count": 13,
     "metadata": {},
     "output_type": "execute_result"
    }
   ],
   "source": [
    "# Compute 5-day moving average on historical data\n",
    "df_ma = calculate_moving_average(df_hist, window_days=5)\n",
    "df_ma.head()"
   ]
  },
  {
   "cell_type": "markdown",
   "id": "2a81951b",
   "metadata": {},
   "source": [
    "## Trends and Anomoli Detection"
   ]
  },
  {
   "cell_type": "code",
   "execution_count": 16,
   "id": "fdd6aeed",
   "metadata": {},
   "outputs": [
    {
     "name": "stdout",
     "output_type": "stream",
     "text": [
      "Trend: upward\n"
     ]
    },
    {
     "data": {
      "text/html": [
       "<div>\n",
       "<style scoped>\n",
       "    .dataframe tbody tr th:only-of-type {\n",
       "        vertical-align: middle;\n",
       "    }\n",
       "\n",
       "    .dataframe tbody tr th {\n",
       "        vertical-align: top;\n",
       "    }\n",
       "\n",
       "    .dataframe thead th {\n",
       "        text-align: right;\n",
       "    }\n",
       "</style>\n",
       "<table border=\"1\" class=\"dataframe\">\n",
       "  <thead>\n",
       "    <tr style=\"text-align: right;\">\n",
       "      <th></th>\n",
       "      <th>date</th>\n",
       "      <th>price</th>\n",
       "      <th>moving_average</th>\n",
       "      <th>z_score</th>\n",
       "      <th>anomaly</th>\n",
       "    </tr>\n",
       "  </thead>\n",
       "  <tbody>\n",
       "  </tbody>\n",
       "</table>\n",
       "</div>"
      ],
      "text/plain": [
       "Empty DataFrame\n",
       "Columns: [date, price, moving_average, z_score, anomaly]\n",
       "Index: []"
      ]
     },
     "execution_count": 16,
     "metadata": {},
     "output_type": "execute_result"
    }
   ],
   "source": [
    "# Analyze basic trend using linear regression slope\n",
    "trend_result = detect_trend(df_ma)\n",
    "print(\"Trend:\", trend_result)\n",
    "\n",
    "# Identify outliers in price movement\n",
    "df_anom = detect_anomalies_zscore(df_ma)\n",
    "df_anom[df_anom[\"anomaly\"] == True].head()"
   ]
  },
  {
   "cell_type": "markdown",
   "id": "fa8decb4",
   "metadata": {},
   "source": [
    "## Visualizations"
   ]
  },
  {
   "cell_type": "code",
   "execution_count": 17,
   "id": "31879350",
   "metadata": {},
   "outputs": [
    {
     "data": {
      "image/png": "[encoded data removed]",
      "text/plain": [
       "<Figure size 1000x500 with 1 Axes>"
      ]
     },
     "metadata": {},
     "output_type": "display_data"
    }
   ],
   "source": [
    "# Visualize price + moving average line\n",
    "plot_price_with_moving_average(df_anom)"
   ]
  },
  {
   "cell_type": "code",
   "execution_count": null,
   "id": "3cdc6a7b",
   "metadata": {},
   "outputs": [],
   "source": []
  }
 ],
 "metadata": {
  "kernelspec": {
   "display_name": "Python 3 (ipykernel)",
   "language": "python",
   "name": "python3"
  },
  "language_info": {
   "codemirror_mode": {
    "name": "ipython",
    "version": 3
   },
   "file_extension": ".py",
   "mimetype": "text/x-python",
   "name": "python",
   "nbconvert_exporter": "python",
   "pygments_lexer": "ipython3",
   "version": "3.9.16"
  }
 },
 "nbformat": 4,
 "nbformat_minor": 5
}
