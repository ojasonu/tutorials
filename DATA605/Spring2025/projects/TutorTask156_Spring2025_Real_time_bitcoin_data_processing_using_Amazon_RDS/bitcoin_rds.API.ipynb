{
 "cells": [
  {
   "cell_type": "markdown",
   "id": "183c2248-ea3d-43ba-b87e-d821bba1bbc6",
   "metadata": {},
   "source": [
    "\n",
    "\n",
    "\n",
    "\n",
    "\n",
    "\n",
    "\n",
    "\n",
    "\n",
    "\n",
    "\n",
    "\n",
    "\n",
    "\n",
    "\n",
    "\n",
    "\n",
    "\n",
    "\n",
    "\n",
    "\n",
    "\n",
    "\n",
    "\n",
    "\n",
    "\n",
    "\n",
    "\n",
    "\n",
    "\n",
    "\n",
    "\n",
    "\n",
    "\n",
    "\n",
    "\n",
    "\n",
    "\n",
    "\n",
    "\n",
    "\n",
    "\n",
    "\n",
    "\n",
    "\n",
    "\n",
    "\n",
    "\n",
    "\n",
    "\n",
    "\n",
    "\n",
    "\n",
    "\n",
    "\n",
    "\n",
    "\n",
    "\n",
    "\n",
    "\n",
    "\n",
    "\n",
    "\n",
    "\n",
    "\n",
    "\n",
    "\n",
    "\n",
    "\n",
    "\n",
    "\n",
    "\n",
    "\n",
    "\n",
    "\n",
    "\n",
    "\n",
    "\n",
    "\n",
    "\n",
    "\n",
    "\n",
    "\n",
    "\n",
    "\n",
    "\n",
    "\n",
    "\n",
    "\n",
    "\n",
    "\n",
    "\n",
    "\n",
    "\n",
    "\n",
    "\n",
    "\n",
    "\n",
    "\n",
    "\n",
    "\n",
    "\n",
    "\n",
    "\n",
    "\n",
    "\n",
    "\n",
    "\n",
    "\n",
    "\n",
    "\n",
    "\n",
    "\n",
    "\n",
    "\n",
    "\n",
    "\n",
    "\n",
    "\n",
    "\n",
    "\n",
    "\n",
    "\n",
    "\n",
    "\n",
    "\n",
    "\n",
    "\n",
    "\n",
    "\n",
    "\n",
    "\n",
    "\n",
    "\n",
    "\n",
    "\n",
    "\n",
    "\n",
    "\n",
    "\n",
    "\n",
    "\n",
    "\n",
    "\n",
    "\n",
    "\n",
    "\n",
    "\n",
    "\n",
    "\n",
    "\n",
    "\n",
    "\n",
    "\n",
    "\n",
    "\n",
    "\n",
    "\n",
    "\n",
    "\n",
    "\n",
    "\n",
    "\n",
    "\n",
    "\n",
    "\n",
    "# Amazon RDS Bitcoin API\n",
    "\n",
    "This notebook demonstrates how to interact with Amazon RDS for Bitcoin price data processing. It covers:\n",
    "\n",
    "- Connecting to an Amazon RDS PostgreSQL instance.\n",
    "- Creating database tables for Bitcoin price data.\n",
    "- Fetching real-time Bitcoin data from CoinGecko API.\n",
    "- Storing and retrieving Bitcoin data from the database.\n",
    "- Performing time series analysis on the stored data.\n",
    "\n"
   ]
  },
  {
   "cell_type": "markdown",
   "id": "3a0ccd35",
   "metadata": {},
   "source": [
    "*Utility Functions*  \n",
    "\n",
    "bitcoin_rds_utils.py module connects these services by:\n",
    "- Managing database connections and schema\n",
    "- Fetching data from CoinGecko\n",
    "- Processing and storing data in RDS\n",
    "- Providing analysis functions for the stored data"
   ]
  },
  {
   "cell_type": "code",
   "execution_count": 1,
   "id": "265e0d58-a7cd-4edf-a0b4-96b60220e801",
   "metadata": {
    "ExecuteTime": {
     "end_time": "2025-05-16T21:26:53.834296Z",
     "start_time": "2025-05-16T21:26:52.408354Z"
    }
   },
   "outputs": [],
   "source": [
    "%load_ext autoreload\n",
    "%autoreload 2\n",
    "%matplotlib inline"
   ]
  },
  {
   "cell_type": "markdown",
   "id": "d3b2f997-5c9b-4238-b6d5-e5f2cea43809",
   "metadata": {},
   "source": [
    "## Imports"
   ]
  },
  {
   "cell_type": "code",
   "execution_count": 2,
   "id": "d1480ee9-d6a6-437d-b927-da6cbb05bdf5",
   "metadata": {
    "ExecuteTime": {
     "end_time": "2025-05-16T21:26:57.256224Z",
     "start_time": "2025-05-16T21:26:53.845556Z"
    }
   },
   "outputs": [],
   "source": [
    "import logging\n",
    "import pandas as pd\n",
    "import matplotlib.pyplot as plt\n",
    "import seaborn as sns\n",
    "from datetime import datetime, timedelta\n",
    "\n",
    "# Import your utility functions\n",
    "import bitcoin_rds_utils as brds\n",
    "\n",
    "# Configure basic logging \n",
    "logging.basicConfig(level=logging.INFO, \n",
    "                    format='%(asctime)s - %(name)s - %(levelname)s - %(message)s')\n",
    "_LOG = logging.getLogger(__name__)"
   ]
  },
  {
   "cell_type": "markdown",
   "id": "2b589fe4",
   "metadata": {},
   "source": [
    "Check if the enviroment variables (RDS and API key) are loaded properly"
   ]
  },
  {
   "cell_type": "code",
   "execution_count": 3,
   "id": "68a0145a",
   "metadata": {
    "ExecuteTime": {
     "end_time": "2025-05-16T21:26:57.743752Z",
     "start_time": "2025-05-16T21:26:57.276049Z"
    }
   },
   "outputs": [
    {
     "name": "stdout",
     "output_type": "stream",
     "text": [
      "Config: {'host': 'bitcoin-price-db.cf8q8ya0ca68.us-east-2.rds.amazonaws.com', 'port': '5432', 'database': 'bitcoin_db', 'user': 'bitcoin', 'password': '********'}\n",
      "Successfully connected to the database!\n"
     ]
    }
   ],
   "source": [
    "import os\n",
    "from dotenv import load_dotenv\n",
    "import psycopg2\n",
    "\n",
    "# Load environment variables\n",
    "load_dotenv()\n",
    "\n",
    "# Print config (with password masked)\n",
    "config = {\n",
    "    'host': os.getenv('RDS_HOST'),\n",
    "    'port': os.getenv('RDS_PORT'),\n",
    "    'database': os.getenv('RDS_DATABASE'),\n",
    "    'user': os.getenv('RDS_USER'),\n",
    "    'password': '********' if os.getenv('RDS_PASSWORD') else None\n",
    "}\n",
    "print(\"Config:\", config)\n",
    "\n",
    "# Test connection\n",
    "try:\n",
    "    conn = psycopg2.connect(\n",
    "        host=os.getenv('RDS_HOST'),\n",
    "        port=os.getenv('RDS_PORT'),\n",
    "        database=os.getenv('RDS_DATABASE'),\n",
    "        user=os.getenv('RDS_USER'),\n",
    "        password=os.getenv('RDS_PASSWORD')\n",
    "    )\n",
    "    print(\"Successfully connected to the database!\")\n",
    "    conn.close()\n",
    "except Exception as e:\n",
    "    print(f\"Connection failed: {e}\")"
   ]
  },
  {
   "cell_type": "markdown",
   "id": "6bda229a",
   "metadata": {},
   "source": [
    "## Database Connection and Setup"
   ]
  },
  {
   "cell_type": "markdown",
   "id": "2f85899a",
   "metadata": {},
   "source": [
    "### Connecting to RDS\n",
    "First, we'll test the connection to our Amazon RDS PostgreSQL instance."
   ]
  },
  {
   "cell_type": "code",
   "execution_count": 4,
   "id": "782b6b2b",
   "metadata": {
    "ExecuteTime": {
     "end_time": "2025-05-16T21:26:58.284746Z",
     "start_time": "2025-05-16T21:26:57.756537Z"
    }
   },
   "outputs": [
    {
     "name": "stderr",
     "output_type": "stream",
     "text": [
      "2025-05-16 21:26:57,958 - bitcoin_rds_utils - INFO - Creating database connection pool\n",
      "2025-05-16 21:26:58,204 - bitcoin_rds_utils - INFO - Connection pool created with 1-10 connections\n",
      "2025-05-16 21:26:58,210 - __main__ - INFO - Successfully connected to the database!\n",
      "2025-05-16 21:26:58,272 - __main__ - INFO - PostgreSQL database version: PostgreSQL 17.2 on x86_64-pc-linux-gnu, compiled by gcc (GCC) 12.4.0, 64-bit\n"
     ]
    }
   ],
   "source": [
    "# Test database connection\n",
    "try:\n",
    "    conn = brds.get_db_connection()\n",
    "    _LOG.info(\"Successfully connected to the database!\")\n",
    "    \n",
    "    # Get PostgreSQL version\n",
    "    cur = conn.cursor()\n",
    "    cur.execute(\"SELECT version();\")\n",
    "    db_version = cur.fetchone()\n",
    "    _LOG.info(f\"PostgreSQL database version: {db_version[0]}\")\n",
    "    \n",
    "    cur.close()\n",
    "    conn.close()\n",
    "except Exception as e:\n",
    "    _LOG.error(f\"Failed to connect to the database: {e}\")"
   ]
  },
  {
   "cell_type": "markdown",
   "id": "19af5df1",
   "metadata": {},
   "source": [
    "## Create Database Tables"
   ]
  },
  {
   "cell_type": "markdown",
   "id": "5ef8da11",
   "metadata": {},
   "source": [
    "### Database Schema\n",
    "Now we'll create the necessary tables for storing Bitcoin price data if they don't already exist."
   ]
  },
  {
   "cell_type": "markdown",
   "id": "fe1125ca",
   "metadata": {},
   "source": [
    "The database uses two main tables:\n",
    "- raw_bitcoin_prices - Stores raw price data points with timestamp\n",
    "- hourly_bitcoin_prices - Stores OHLC (Open, High, Low, Close) aggregated hourly data"
   ]
  },
  {
   "cell_type": "code",
   "execution_count": 5,
   "id": "59828308",
   "metadata": {
    "ExecuteTime": {
     "end_time": "2025-05-16T21:26:58.827767Z",
     "start_time": "2025-05-16T21:26:58.294832Z"
    }
   },
   "outputs": [
    {
     "name": "stderr",
     "output_type": "stream",
     "text": [
      "2025-05-16 21:26:58,473 - bitcoin_rds_utils - INFO - Creating tables if they don't exist\n",
      "2025-05-16 21:26:58,797 - bitcoin_rds_utils - INFO - Tables created successfully\n",
      "2025-05-16 21:26:58,802 - __main__ - INFO - Tables are ready!\n"
     ]
    }
   ],
   "source": [
    "# Create tables if they don't exist\n",
    "try:\n",
    "    brds.create_tables_if_not_exist()\n",
    "    _LOG.info(\"Tables are ready!\")\n",
    "except Exception as e:\n",
    "    _LOG.error(f\"Error creating tables: {e}\")"
   ]
  },
  {
   "cell_type": "markdown",
   "id": "1791a055",
   "metadata": {},
   "source": [
    "## Fetch and Store Bitcoin Data"
   ]
  },
  {
   "cell_type": "markdown",
   "id": "0b078f1a",
   "metadata": {},
   "source": [
    "### Data Fetching\n",
    "Next, we'll fetch current Bitcoin price data from CoinGecko API and store it in our database."
   ]
  },
  {
   "cell_type": "code",
   "execution_count": 6,
   "id": "83666d80",
   "metadata": {
    "ExecuteTime": {
     "end_time": "2025-05-16T21:26:59.239219Z",
     "start_time": "2025-05-16T21:26:58.841729Z"
    }
   },
   "outputs": [
    {
     "name": "stderr",
     "output_type": "stream",
     "text": [
      "2025-05-16 21:26:59,040 - bitcoin_rds_utils - INFO - Fetching Bitcoin data from CoinGecko\n",
      "2025-05-16 21:26:59,178 - __main__ - INFO - Current Bitcoin price: $103,694.00\n",
      "2025-05-16 21:26:59,185 - __main__ - INFO - 24h Volume: $27,134,479,079.00\n",
      "2025-05-16 21:26:59,194 - __main__ - INFO - Market Cap: $2,059,918,197,993.00\n"
     ]
    }
   ],
   "source": [
    "# Fetch Bitcoin data\n",
    "try:\n",
    "    bitcoin_data = brds.fetch_bitcoin_data_from_coingecko()\n",
    "    _LOG.info(f\"Current Bitcoin price: ${bitcoin_data['price_usd']:,.2f}\")\n",
    "    _LOG.info(f\"24h Volume: ${bitcoin_data['volume_usd']:,.2f}\")\n",
    "    _LOG.info(f\"Market Cap: ${bitcoin_data['market_cap_usd']:,.2f}\")\n",
    "    \n",
    "    # Display the data as a DataFrame for better visualization\n",
    "    df_current = pd.DataFrame([bitcoin_data])\n",
    "    df_current['timestamp'] = df_current['timestamp'].apply(lambda x: x.strftime('%Y-%m-%d %H:%M:%S'))\n",
    "    df_current\n",
    "except Exception as e:\n",
    "    _LOG.error(f\"Error fetching Bitcoin data: {e}\")"
   ]
  },
  {
   "cell_type": "markdown",
   "id": "3952cdd4",
   "metadata": {},
   "source": [
    "### Storing Data in RDS"
   ]
  },
  {
   "cell_type": "markdown",
   "id": "7b752afd",
   "metadata": {},
   "source": [
    "After fetching data, we can store it in our RDS database:"
   ]
  },
  {
   "cell_type": "code",
   "execution_count": 7,
   "id": "939954a8",
   "metadata": {
    "ExecuteTime": {
     "end_time": "2025-05-16T21:26:59.544138Z",
     "start_time": "2025-05-16T21:26:59.273306Z"
    }
   },
   "outputs": [
    {
     "name": "stderr",
     "output_type": "stream",
     "text": [
      "2025-05-16 21:26:59,429 - bitcoin_rds_utils - INFO - Inserting raw Bitcoin data into database\n",
      "2025-05-16 21:26:59,512 - bitcoin_rds_utils - INFO - Data inserted successfully with ID: 17782\n",
      "2025-05-16 21:26:59,522 - __main__ - INFO - Data stored successfully with ID: 17782\n"
     ]
    }
   ],
   "source": [
    "# Store Bitcoin data in the database\n",
    "try:\n",
    "    record_id = brds.insert_raw_bitcoin_data(bitcoin_data)\n",
    "    _LOG.info(f\"Data stored successfully with ID: {record_id}\")\n",
    "except Exception as e:\n",
    "    _LOG.error(f\"Error storing data: {e}\")"
   ]
  },
  {
   "cell_type": "markdown",
   "id": "724dd31e",
   "metadata": {},
   "source": [
    "## Retrieve Historical Data"
   ]
  },
  {
   "cell_type": "markdown",
   "id": "f3e33312",
   "metadata": {},
   "source": [
    "### Simple Data Retrieval and Analysis\n",
    "Now we'll retrieve historical Bitcoin price data from our database and perform some basic analysis."
   ]
  },
  {
   "cell_type": "code",
   "execution_count": 8,
   "id": "a28bd949",
   "metadata": {
    "ExecuteTime": {
     "end_time": "2025-05-16T21:27:17.457019Z",
     "start_time": "2025-05-16T21:26:59.554861Z"
    }
   },
   "outputs": [
    {
     "name": "stderr",
     "output_type": "stream",
     "text": [
      "2025-05-16 21:26:59,819 - bitcoin_rds_utils - INFO - Fetching historical Bitcoin data for the past 30 days\n",
      "2025-05-16 21:26:59,902 - bitcoin_rds_utils - INFO - Cleared existing data from the past 30 days\n",
      "2025-05-16 21:26:59,909 - bitcoin_rds_utils - INFO - Making single API call for 30 days of data\n",
      "2025-05-16 21:27:00,045 - bitcoin_rds_utils - INFO - Received 720 price data points from API\n",
      "2025-05-16 21:27:17,416 - bitcoin_rds_utils - INFO - Successfully inserted 720 new records\n",
      "2025-05-16 21:27:17,426 - bitcoin_rds_utils - INFO - Historical data fetch complete. Inserted 720 new records\n",
      "2025-05-16 21:27:17,429 - __main__ - INFO - Added 720 historical data points\n"
     ]
    }
   ],
   "source": [
    "# set how many days of bitcoin price data you like\n",
    "day = 30  # Change this value to whatever number of days you want\n",
    "\n",
    "try:\n",
    "    records_inserted = brds.fetch_and_store_historical_bitcoin_data(days=day)\n",
    "    _LOG.info(f\"Added {records_inserted} historical data points\")\n",
    "except Exception as e:\n",
    "    _LOG.error(f\"Error fetching historical data: {e}\")"
   ]
  },
  {
   "cell_type": "markdown",
   "id": "07eff573",
   "metadata": {},
   "source": [
    "### Retrieving Data from RDS"
   ]
  },
  {
   "cell_type": "markdown",
   "id": "e4194c68",
   "metadata": {},
   "source": [
    "We can retrieve stored data for analysis:"
   ]
  },
  {
   "cell_type": "code",
   "execution_count": 9,
   "id": "1d62fbbb",
   "metadata": {
    "ExecuteTime": {
     "end_time": "2025-05-16T21:27:17.846251Z",
     "start_time": "2025-05-16T21:27:17.482824Z"
    }
   },
   "outputs": [
    {
     "name": "stderr",
     "output_type": "stream",
     "text": [
      "2025-05-16 21:27:17,660 - bitcoin_rds_utils - INFO - Retrieving 30 days of Bitcoin price history (hourly=False)\n",
      "/project/bitcoin_rds_utils.py:566: UserWarning: pandas only supports SQLAlchemy connectable (engine/connection) or database string URI or sqlite3 DBAPI2 connection. Other DBAPI2 objects are not tested. Please consider using SQLAlchemy.\n",
      "  df = pd.read_sql_query(query, conn, params=(days,))\n",
      "2025-05-16 21:27:17,794 - bitcoin_rds_utils - INFO - Retrieved 719 records of Bitcoin price history\n",
      "2025-05-16 21:27:17,829 - __main__ - INFO - Retrieved 719 records\n"
     ]
    }
   ],
   "source": [
    "# Retrieve Bitcoin price history (specify days to get all historical data)\n",
    "try:\n",
    "    df_history = brds.get_bitcoin_price_history(days=day)\n",
    "    _LOG.info(f\"Retrieved {len(df_history)} records\")\n",
    "    \n",
    "    # Display the first few rows\n",
    "    df_history.head()\n",
    "except Exception as e:\n",
    "    _LOG.error(f\"Error retrieving price history: {e}\")"
   ]
  },
  {
   "cell_type": "markdown",
   "id": "c882fdf3",
   "metadata": {},
   "source": [
    "## Basic Analysis Functions"
   ]
  },
  {
   "cell_type": "markdown",
   "id": "594e1fce",
   "metadata": {},
   "source": [
    "#### Hourly Data Aggregation\n",
    "Raw price data can be aggregated into hourly OHLC format:"
   ]
  },
  {
   "cell_type": "code",
   "execution_count": 10,
   "id": "aabe5f1f",
   "metadata": {
    "ExecuteTime": {
     "end_time": "2025-05-16T21:27:18.184678Z",
     "start_time": "2025-05-16T21:27:17.856230Z"
    }
   },
   "outputs": [
    {
     "name": "stderr",
     "output_type": "stream",
     "text": [
      "2025-05-16 21:27:18,028 - bitcoin_rds_utils - INFO - Aggregating hourly Bitcoin data for the last 7 days\n",
      "2025-05-16 21:27:18,094 - bitcoin_rds_utils - INFO - No new hours to aggregate\n",
      "2025-05-16 21:27:18,123 - __main__ - INFO - Hourly data aggregated successfully\n",
      "/tmp/ipykernel_101/2885578866.py:14: UserWarning: pandas only supports SQLAlchemy connectable (engine/connection) or database string URI or sqlite3 DBAPI2 connection. Other DBAPI2 objects are not tested. Please consider using SQLAlchemy.\n",
      "  df_hourly = pd.read_sql_query(hourly_query, conn)\n"
     ]
    }
   ],
   "source": [
    "# Aggregate hourly data\n",
    "try:\n",
    "    brds.aggregate_hourly_data()\n",
    "    _LOG.info(\"Hourly data aggregated successfully\")\n",
    "    \n",
    "    # Query the hourly data to verify\n",
    "    conn = brds.get_db_connection()\n",
    "    hourly_query = \"\"\"\n",
    "    SELECT timestamp, open_price_usd, high_price_usd, low_price_usd, close_price_usd, volume_usd\n",
    "    FROM hourly_bitcoin_prices\n",
    "    ORDER BY timestamp DESC\n",
    "    LIMIT 5;\n",
    "    \"\"\"\n",
    "    df_hourly = pd.read_sql_query(hourly_query, conn)\n",
    "    conn.close()\n",
    "    \n",
    "    # Display the hourly data\n",
    "    df_hourly\n",
    "except Exception as e:\n",
    "    _LOG.error(f\"Error with hourly aggregation: {e}\")"
   ]
  },
  {
   "cell_type": "markdown",
   "id": "82355a29",
   "metadata": {},
   "source": [
    "#### Time Series Analysis"
   ]
  },
  {
   "cell_type": "markdown",
   "id": "0f1c20fb",
   "metadata": {},
   "source": [
    "Calculate moving averages to identify trends:"
   ]
  },
  {
   "cell_type": "code",
   "execution_count": 11,
   "id": "55840965",
   "metadata": {
    "ExecuteTime": {
     "end_time": "2025-05-16T21:27:18.442897Z",
     "start_time": "2025-05-16T21:27:18.205203Z"
    }
   },
   "outputs": [
    {
     "name": "stderr",
     "output_type": "stream",
     "text": [
      "2025-05-16 21:27:18,408 - bitcoin_rds_utils - INFO - Calculating 24-hour moving average\n"
     ]
    }
   ],
   "source": [
    "# Calculate moving averages\n",
    "try:\n",
    "    if len(df_history) > 24:  # Need at least 24 data points for a 24-hour MA\n",
    "        # Calculate moving averages\n",
    "        df_with_ma = brds.calculate_moving_average(df_history, window=24)\n",
    "        \n",
    "        # Display the data with moving average\n",
    "        df_with_ma.tail()\n",
    "    else:\n",
    "        _LOG.warning(\"Not enough data for moving average calculation.\")\n",
    "except Exception as e:\n",
    "    _LOG.error(f\"Error calculating moving averages: {e}\")"
   ]
  },
  {
   "cell_type": "markdown",
   "id": "36285a7c",
   "metadata": {},
   "source": [
    "## Basic Visualization"
   ]
  },
  {
   "cell_type": "markdown",
   "id": "bf567a82",
   "metadata": {},
   "source": [
    "Visualize the price data to understand trends:"
   ]
  },
  {
   "cell_type": "code",
   "execution_count": 12,
   "id": "f2be73d3",
   "metadata": {
    "ExecuteTime": {
     "end_time": "2025-05-16T21:27:19.736651Z",
     "start_time": "2025-05-16T21:27:18.465755Z"
    }
   },
   "outputs": [
    {
     "data": {
      "image/png": "[encoded data removed]",
      "text/plain": [
       "<Figure size 1000x500 with 1 Axes>"
      ]
     },
     "metadata": {},
     "output_type": "display_data"
    }
   ],
   "source": [
    "\n",
    "if len(df_history) > 0:\n",
    "    plt.figure(figsize=(10, 5))\n",
    "    plt.plot(df_history['timestamp'], df_history['price_usd'])\n",
    "    plt.title(f'Bitcoin Price History (Last {day} Days)')\n",
    "    plt.xlabel('Date')\n",
    "    plt.ylabel('Price (USD)')\n",
    "    plt.grid(True)\n",
    "    \n",
    "    # Format x-axis dates clearly for better visibility\n",
    "    import matplotlib.dates as mdates\n",
    "    plt.gca().xaxis.set_major_formatter(mdates.DateFormatter('%Y-%m-%d'))\n",
    "    \n",
    "    # Adjust tick spacing based on number of days\n",
    "    if day <= 10:\n",
    "        interval = 1  # Daily ticks for short periods\n",
    "    elif day <= 30:\n",
    "        interval = 3  # Every 3 days for medium periods\n",
    "    else:\n",
    "        interval = 7  # Weekly ticks for longer periods\n",
    "        \n",
    "    plt.gca().xaxis.set_major_locator(mdates.DayLocator(interval=interval))\n",
    "    \n",
    "    plt.xticks(rotation=45)\n",
    "    plt.tight_layout()\n",
    "    plt.show()\n",
    "else:\n",
    "    _LOG.warning(\"Not enough data for visualization.\")"
   ]
  },
  {
   "cell_type": "code",
   "execution_count": null,
   "id": "01a6cac3",
   "metadata": {},
   "outputs": [],
   "source": []
  }
 ],
 "metadata": {
  "kernelspec": {
   "display_name": "Python 3 (ipykernel)",
   "language": "python",
   "name": "python3"
  },
  "language_info": {
   "codemirror_mode": {
    "name": "ipython",
    "version": 3
   },
   "file_extension": ".py",
   "mimetype": "text/x-python",
   "name": "python",
   "nbconvert_exporter": "python",
   "pygments_lexer": "ipython3",
   "version": "3.8.10"
  },
  "toc": {
   "base_numbering": 1,
   "nav_menu": {},
   "number_sections": true,
   "sideBar": true,
   "skip_h1_title": false,
   "title_cell": "Table of Contents",
   "title_sidebar": "Contents",
   "toc_cell": false,
   "toc_position": {},
   "toc_section_display": true,
   "toc_window_display": false
  }
 },
 "nbformat": 4,
 "nbformat_minor": 5
}
