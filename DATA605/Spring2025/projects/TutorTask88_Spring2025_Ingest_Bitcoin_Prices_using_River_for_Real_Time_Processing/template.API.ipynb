{
 "cells": [
  {
   "cell_type": "markdown",
   "id": "183c2248-ea3d-43ba-b87e-d821bba1bbc6",
   "metadata": {},
   "source": [
    "# Template API Notebook\n",
    "\n",
    "This is a template notebook. The first heading should be the title of what notebook is about. For example, if it is a neo4j tutorial the heading should be `Neo4j API`.\n",
    "\n",
    "- Add description of what the notebook does.\n",
    "- Point to references, e.g. (neo4j.API.md)\n",
    "- Add citations.\n",
    "- Keep the notebook flow clear.\n",
    "- Comments should be imperative and have a period at the end.\n",
    "- Your code should be well commented. \n",
    "\n",
    "The name of this notebook should in the following format:\n",
    "- if the notebook is exploring `pycaret API`, then it is `pycaret.API.ipynb`\n",
    "\n",
    "Follow the reference to write notebooks in a clear manner: https://github.com/causify-ai/helpers/blob/master/docs/coding/all.jupyter_notebook.how_to_guide.md"
   ]
  },
  {
   "cell_type": "code",
   "execution_count": 37,
   "id": "265e0d58-a7cd-4edf-a0b4-96b60220e801",
   "metadata": {
    "ExecuteTime": {
     "end_time": "2025-05-02T00:32:57.966058Z",
     "start_time": "2025-05-02T00:32:57.868259Z"
    }
   },
   "outputs": [
    {
     "name": "stdout",
     "output_type": "stream",
     "text": [
      "The autoreload extension is already loaded. To reload it, use:\n",
      "  %reload_ext autoreload\n"
     ]
    }
   ],
   "source": [
    "%load_ext autoreload\n",
    "%autoreload 2\n",
    "%matplotlib inline"
   ]
  },
  {
   "cell_type": "markdown",
   "id": "d3b2f997-5c9b-4238-b6d5-e5f2cea43809",
   "metadata": {},
   "source": [
    "## Imports"
   ]
  },
  {
   "cell_type": "code",
   "execution_count": 46,
   "id": "d1480ee9-d6a6-437d-b927-da6cbb05bdf5",
   "metadata": {
    "ExecuteTime": {
     "end_time": "2025-05-02T00:55:07.438862Z",
     "start_time": "2025-05-02T00:55:07.412609Z"
    },
    "scrolled": true
   },
   "outputs": [],
   "source": [
    "import logging\n",
    "# Import libraries in this section.\n",
    "# Avoid imports like import *, from ... import ..., from ... import *, etc.\n",
    "import template_utils\n",
    "import river\n",
    "import river.linear_model\n",
    "import river.metrics\n",
    "import river.optim\n",
    "import time\n",
    "import typing\n",
    "import matplotlib.pyplot as plt\n",
    "import collections"
   ]
  },
  {
   "cell_type": "markdown",
   "id": "f9208cc9-837d-4fec-a312-9c4aa5b7648d",
   "metadata": {},
   "source": [
    "## Configuration"
   ]
  },
  {
   "cell_type": "code",
   "execution_count": 39,
   "id": "9a2d7a9c-c6c5-48c9-8445-11c97045d00b",
   "metadata": {
    "ExecuteTime": {
     "end_time": "2025-05-02T00:33:01.094959Z",
     "start_time": "2025-05-02T00:33:01.067726Z"
    }
   },
   "outputs": [],
   "source": [
    "#hdbg.init_logger(verbosity=logging.INFO)\n",
    "\n",
    "_LOG = logging.getLogger(__name__)\n",
    "\n",
    "#hprint.config_notebook()"
   ]
  },
  {
   "cell_type": "markdown",
   "id": "79c37ba3-bd5d-4a44-87df-645eee54977a",
   "metadata": {},
   "source": [
    "## Make the notebook flow clear\n",
    "Each notebook needs to follow a clear and logical flow, e.g:\n",
    "- Load data\n",
    "- Compute stats\n",
    "- Clean data\n",
    "- Compute stats\n",
    "- Do analysis\n",
    "- Show results"
   ]
  },
  {
   "cell_type": "markdown",
   "id": "1ad43a12",
   "metadata": {},
   "source": [
    "## Loading the Data\n",
    "We load the current Bitcoin price using the CoinGecko API.\n"
   ]
  },
  {
   "cell_type": "code",
   "execution_count": 41,
   "id": "3d8cf637",
   "metadata": {
    "ExecuteTime": {
     "end_time": "2025-05-02T00:33:43.000781Z",
     "start_time": "2025-05-02T00:33:42.906602Z"
    }
   },
   "outputs": [
    {
     "name": "stdout",
     "output_type": "stream",
     "text": [
      "Current Bitcoin Price (USD): 96812\n"
     ]
    }
   ],
   "source": [
    "#Load the current bitcoin price\n",
    "btc_price=template_utils.get_bitcoin_price()\n",
    "print(f\"Current Bitcoin Price (USD): {btc_price}\")"
   ]
  },
  {
   "cell_type": "markdown",
   "id": "e290ad4e",
   "metadata": {},
   "source": [
    "## Clean the Data \n",
    "API calls may fail or return rate-limited responses. Our model skips `None` values internally using checks inside the `Template` class.\n"
   ]
  },
  {
   "cell_type": "markdown",
   "id": "1e33ea00",
   "metadata": {},
   "source": [
    "## Initial stats \n",
    "\n",
    "\n",
    "We collect a few sample prices to get a sense of data variability.\n"
   ]
  },
  {
   "cell_type": "code",
   "execution_count": 43,
   "id": "b7b2e6e7",
   "metadata": {
    "ExecuteTime": {
     "end_time": "2025-05-02T00:34:56.059969Z",
     "start_time": "2025-05-02T00:34:55.661524Z"
    }
   },
   "outputs": [
    {
     "name": "stdout",
     "output_type": "stream",
     "text": [
      "Sample Prices: [96859, 96859, 96859, 96859, 96859]\n"
     ]
    }
   ],
   "source": [
    "prices = [template_utils.get_bitcoin_price() for _ in range(5)]\n",
    "prices = [p for p in prices if p is not None]\n",
    "print(\"Sample Prices:\", prices)"
   ]
  },
  {
   "cell_type": "markdown",
   "id": "610ebd43",
   "metadata": {},
   "source": [
    "## 4. Stream, Train, and Visualize Bitcoin Price Predictions\n",
    "\n",
    "This block contains the main implementation of real-time Bitcoin price prediction using an online learning model (River's `LinearRegression`). The logic is encapsulated in a class called `Template` which performs the following:\n",
    "\n",
    "- **Model Initialization**:\n",
    "  - Sets up a linear regression model (`river.linear_model.LinearRegression`) using stochastic gradient descent.\n",
    "  - Initializes a Mean Absolute Error (MAE) metric.\n",
    "  - Fetches the initial Bitcoin price from the CoinGecko API.\n",
    "  - Initializes lists to track actual and predicted prices over time.\n",
    "\n",
    "- **Streaming Training Loop** (`method1()`):\n",
    "  - For a given number of steps:\n",
    "    - It fetches the current Bitcoin price from the API.\n",
    "    - It predicts the price using the model based on the previous price.\n",
    "    - The model is updated (trained) incrementally with the new price using `.learn_one()`.\n",
    "    - MAE is updated using `.update()`.\n",
    "    - Both actual and predicted values are stored for visualization.\n",
    "    - The loop sleeps for 10 seconds to simulate streaming data.\n",
    "\n",
    "- **Plotting Results** (`plot_results()`):\n",
    "  - After training, this function plots the actual vs predicted Bitcoin prices.\n",
    "  - The plot helps assess how well the model tracks price movements over time.\n",
    "\n",
    "- **Execution Block**:\n",
    "  - Creates a `Template` object.\n",
    "  - Runs the training loop for 10 steps.\n",
    "  - Finally, it plots the results.\n"
   ]
  },
  {
   "cell_type": "code",
   "execution_count": 47,
   "id": "a8a109cd-fc8e-4b9e-9dc0-4fc8d4126ad8",
   "metadata": {
    "ExecuteTime": {
     "end_time": "2025-05-02T00:56:07.943964Z",
     "start_time": "2025-05-02T00:55:25.687753Z"
    },
    "scrolled": true
   },
   "outputs": [
    {
     "name": "stdout",
     "output_type": "stream",
     "text": [
      "Step 1: Actual = 96920 | Predicted = 0.00 | MAE = 96920.00\n",
      "Step 2: Actual = 96920 | Predicted = 18208334039698.40 | MAE = 9104167019849.20\n",
      "Step 3: Actual = 96920 | Predicted = -93934845801665953792.00 | MAE = 31311621336666693632.00\n",
      "Step 4: Actual = 96920 | Predicted = 18208334039698.40 | MAE = 23483720554583506944.00\n"
     ]
    },
    {
     "data": {
      "image/png": "[encoded data removed]",
      "text/plain": [
       "<Figure size 1000x500 with 1 Axes>"
      ]
     },
     "metadata": {},
     "output_type": "display_data"
    }
   ],
   "source": [
    "class Template:\n",
    "    \"\"\"\n",
    "    A class to stream Bitcoin prices and perform online learning using River.\n",
    "    \"\"\"\n",
    "\n",
    "    def __init__(self):\n",
    "        \"\"\"\n",
    "        Initializes the linear regression model and MAE metric.\n",
    "        \"\"\"\n",
    "        self.model = river.linear_model.LinearRegression(optimizer=river.optim.SGD(0.01))\n",
    "        self.metric = river.metrics.MAE()\n",
    "        self.prev_price: typing.Optional[float] = template_utils.get_bitcoin_price()\n",
    "        self.window_size = 20  # Rolling window of last 20 points\n",
    "        self.actuals = collections.deque(maxlen=self.window_size)\n",
    "        self.predictions = collections.deque(maxlen=self.window_size)\n",
    "        #self.actuals = []\n",
    "        #self.predictions = []\n",
    "\n",
    "    def method1(self, steps: int = 30) -> None:\n",
    "        \"\"\"\n",
    "        Runs the online learning loop for a given number of steps.\n",
    "\n",
    "        :param steps: Number of streaming data points to train on.\n",
    "        :return: None\n",
    "        \"\"\"\n",
    "        for step in range(steps):\n",
    "            current_price = template_utils.get_bitcoin_price()\n",
    "            if current_price is None or self.prev_price is None:\n",
    "                _LOG.warning(\"Skipping due to missing price data.\")\n",
    "                continue\n",
    "\n",
    "            prediction = self.model.predict_one({'prev_price': self.prev_price})\n",
    "            self.model.learn_one({'prev_price': self.prev_price}, current_price)\n",
    "            self.metric.update(current_price, prediction)\n",
    "            self.actuals.append(current_price)\n",
    "            self.predictions.append(prediction)\n",
    "            \n",
    "            print(\n",
    "                f\"Step {step + 1}: Actual = {current_price} | \"\n",
    "                f\"Predicted = {prediction:.2f} | MAE = {self.metric.get():.2f}\"\n",
    "            )\n",
    "\n",
    "            self.prev_price = current_price\n",
    "            time.sleep(10)\n",
    "        \n",
    "    def plot_results(self) -> None:\n",
    "        \"\"\"\n",
    "        Plots the actual vs predicted Bitcoin prices after training.\n",
    "        \"\"\"\n",
    "        if not self.actuals or not self.predictions:\n",
    "            print(\"No data to plot.\")\n",
    "            return\n",
    "\n",
    "        plt.figure(figsize=(10, 5))\n",
    "        plt.plot(self.actuals, label=\"Actual\")\n",
    "        plt.plot(self.predictions, label=\"Predicted\", linestyle=\"--\")\n",
    "        plt.title(\"Bitcoin Price Prediction using River\")\n",
    "        plt.xlabel(\"Step\")\n",
    "        plt.ylabel(\"Price (USD)\")\n",
    "        plt.legend()\n",
    "        plt.grid(True)\n",
    "        plt.show()\n",
    "\n",
    "def template_function(arg1: int) -> None:\n",
    "    \"\"\"\n",
    "    Placeholder function for demonstration purposes.\n",
    "\n",
    "    :param arg1: An integer argument (unused here).\n",
    "    :return: None\n",
    "    \"\"\"\n",
    "    print(f\"This is a placeholder function. Received arg1 = {arg1}\")\n",
    "\n",
    "\n",
    "if __name__ == \"__main__\":\n",
    "    model = Template()\n",
    "    model.method1(steps=4)\n",
    "    model.plot_results()"
   ]
  },
  {
   "cell_type": "markdown",
   "id": "00926523-ae59-497d-bba8-b22e58333849",
   "metadata": {},
   "source": [
    "## The flow should be highlighted using headings in markdown\n",
    "```\n",
    "# Level 1\n",
    "## Level 2\n",
    "### Level 3\n",
    "```"
   ]
  }
 ],
 "metadata": {
  "kernelspec": {
   "display_name": "Python 3 (ipykernel)",
   "language": "python",
   "name": "python3"
  },
  "language_info": {
   "codemirror_mode": {
    "name": "ipython",
    "version": 3
   },
   "file_extension": ".py",
   "mimetype": "text/x-python",
   "name": "python",
   "nbconvert_exporter": "python",
   "pygments_lexer": "ipython3",
   "version": "3.8.10"
  },
  "toc": {
   "base_numbering": 1,
   "nav_menu": {},
   "number_sections": true,
   "sideBar": true,
   "skip_h1_title": false,
   "title_cell": "Table of Contents",
   "title_sidebar": "Contents",
   "toc_cell": false,
   "toc_position": {},
   "toc_section_display": true,
   "toc_window_display": false
  }
 },
 "nbformat": 4,
 "nbformat_minor": 5
}
