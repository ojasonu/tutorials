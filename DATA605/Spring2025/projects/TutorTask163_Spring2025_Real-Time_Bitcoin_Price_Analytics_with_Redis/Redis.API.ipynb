{
 "cells": [
  {
   "cell_type": "markdown",
   "id": "f7a0875d",
   "metadata": {},
   "source": [
    "# Redis API for Bitcoin Price Analytics\n",
    "\n",
    "This notebook demonstrates the functionality of our Redis and CoinGecko API wrapper layer for Bitcoin price analytics. The API allows for:\n",
    "\n",
    "- Connecting to Redis cloud database\n",
    "- Fetching Bitcoin price data from CoinGecko API\n",
    "- Storing Bitcoin data in Redis using various data structures\n",
    "- Retrieving and analyzing historical price data\n",
    "- Real-time price updates using Redis Pub/Sub\n",
    "- Time series analysis and visualization\n",
    "\n",
    "Refer to Redis.API.md for detailed documentation on the API design and implementation."
   ]
  },
  {
   "cell_type": "code",
   "execution_count": 1,
   "id": "265e0d58-a7cd-4edf-a0b4-96b60220e801",
   "metadata": {},
   "outputs": [],
   "source": [
    "%load_ext autoreload\n",
    "%autoreload 2\n",
    "%matplotlib inline"
   ]
  },
  {
   "cell_type": "markdown",
   "id": "d3b2f997-5c9b-4238-b6d5-e5f2cea43809",
   "metadata": {},
   "source": [
    "## Imports"
   ]
  },
  {
   "cell_type": "code",
   "execution_count": 2,
   "id": "d1480ee9-d6a6-437d-b927-da6cbb05bdf5",
   "metadata": {},
   "outputs": [],
   "source": [
    "import json\n",
    "import time\n",
    "import pandas as pd\n",
    "import matplotlib.pyplot as plt\n",
    "import numpy as np\n",
    "from datetime import datetime, timedelta\n",
    "import logging\n",
    "\n",
    "# Import our Redis utils\n",
    "from Redis_utils import *\n",
    "\n",
    "# Configure logging\n",
    "logging.basicConfig(level=logging.INFO,\n",
    "                    format='%(asctime)s - %(name)s - %(levelname)s - %(message)s')\n",
    "logger = logging.getLogger(__name__)"
   ]
  },
  {
   "cell_type": "markdown",
   "id": "922c3443",
   "metadata": {},
   "source": [
    "## Database Connection and Setup "
   ]
  },
  {
   "cell_type": "markdown",
   "id": "ffc05545",
   "metadata": {},
   "source": [
    "## Redis Connection and Setup\n",
    "\n",
    "First, we'll connect to our Redis cloud instance using the connection parameters. Redis Cloud provides a fully-managed Redis service with data persistence."
   ]
  },
  {
   "cell_type": "markdown",
   "id": "d5408701",
   "metadata": {},
   "source": [
    "### Redis Connection "
   ]
  },
  {
   "cell_type": "code",
   "execution_count": 3,
   "id": "d6c7b182",
   "metadata": {},
   "outputs": [
    {
     "name": "stderr",
     "output_type": "stream",
     "text": [
      "2025-05-01 15:43:06,222 - Redis_utils - INFO - Successfully connected to Redis\n"
     ]
    },
    {
     "name": "stdout",
     "output_type": "stream",
     "text": [
      "Connected to Redis successfully\n"
     ]
    }
   ],
   "source": [
    "# Redis connection parameters\n",
    "REDIS_HOST = ''\n",
    "REDIS_PORT = 14816\n",
    "REDIS_PASSWORD = ''\n",
    "\n",
    "# Connect to Redis\n",
    "redis_conn = connect_to_redis(REDIS_HOST, REDIS_PORT, REDIS_PASSWORD)\n",
    "print(\"Connected to Redis successfully\")"
   ]
  },
  {
   "cell_type": "markdown",
   "id": "4da1e0b2",
   "metadata": {},
   "source": [
    "## Fetch and Store Bitcoin Data\n",
    "\n",
    "Now we'll fetch Bitcoin price data from the CoinGecko API and store it in Redis. We'll use various Redis data structures:\n",
    "\n",
    "- Strings for current price\n",
    "- Hashes for complete data points\n",
    "- Sorted Sets for time series data\n",
    "\n",
    "This demonstrates how Redis can be used for different data access patterns."
   ]
  },
  {
   "cell_type": "markdown",
   "id": "7a920ced",
   "metadata": {},
   "source": [
    "### Data Fetching "
   ]
  },
  {
   "cell_type": "code",
   "execution_count": 4,
   "id": "368f1b52",
   "metadata": {},
   "outputs": [
    {
     "name": "stderr",
     "output_type": "stream",
     "text": [
      "2025-05-01 15:43:33,277 - Redis_utils - INFO - Successfully fetched Bitcoin price: 96650 USD\n",
      "2025-05-01 15:43:33,311 - Redis_utils - INFO - Successfully stored Bitcoin price data in Redis\n"
     ]
    },
    {
     "name": "stdout",
     "output_type": "stream",
     "text": [
      "Current Bitcoin price: $96,650.00\n",
      "24h change: 2.89%\n",
      "Market cap: $1,919,379,356,304.60\n",
      "Data stored successfully: True\n",
      "Retrieved current price from Redis: $96,650.00\n"
     ]
    }
   ],
   "source": [
    "# Fetch current Bitcoin price data\n",
    "bitcoin_data = fetch_bitcoin_price(currency='usd')\n",
    "print(f\"Current Bitcoin price: ${bitcoin_data['usd']:,.2f}\")\n",
    "print(f\"24h change: {bitcoin_data['usd_24h_change']:.2f}%\")\n",
    "print(f\"Market cap: ${bitcoin_data['usd_market_cap']:,.2f}\")\n",
    "\n",
    "# Store data in Redis\n",
    "success = store_bitcoin_price(redis_conn, bitcoin_data)\n",
    "print(f\"Data stored successfully: {success}\")\n",
    "\n",
    "# Get stored current price\n",
    "stored_price = get_current_bitcoin_price(redis_conn)\n",
    "print(f\"Retrieved current price from Redis: ${stored_price:,.2f}\")"
   ]
  },
  {
   "cell_type": "markdown",
   "id": "0d3ac468",
   "metadata": {},
   "source": [
    "### Retrieve Historical Data"
   ]
  },
  {
   "cell_type": "markdown",
   "id": "38b886ee",
   "metadata": {},
   "source": [
    "Fetch Historical Bitcoin Data\n",
    "\n",
    "Let's fetch some historical Bitcoin price data from CoinGecko API and store it in Redis for analysis."
   ]
  },
  {
   "cell_type": "code",
   "execution_count": 5,
   "id": "fba6abae",
   "metadata": {},
   "outputs": [
    {
     "name": "stderr",
     "output_type": "stream",
     "text": [
      "2025-05-01 15:43:39,823 - Redis_utils - INFO - Successfully fetched historical Bitcoin data for the last 7 days\n"
     ]
    },
    {
     "name": "stdout",
     "output_type": "stream",
     "text": [
      "Retrieved 169 price data points\n",
      "Retrieved 169 market cap data points\n",
      "Retrieved 169 volume data points\n",
      "2025-04-24 16:04:41.416000: $93,646.96\n",
      "2025-04-24 17:04:09.109000: $93,499.23\n",
      "2025-04-24 18:00:03.429000: $93,368.36\n",
      "2025-04-24 19:01:45.573000: $93,463.48\n",
      "2025-04-24 20:06:42.330000: $93,950.40\n"
     ]
    }
   ],
   "source": [
    "# Fetch historical data (last 7 days)\n",
    "historical_data = fetch_bitcoin_historical(days=7, currency='usd')\n",
    "\n",
    "# Display basic info about the data\n",
    "print(f\"Retrieved {len(historical_data['prices'])} price data points\")\n",
    "print(f\"Retrieved {len(historical_data['market_caps'])} market cap data points\")\n",
    "print(f\"Retrieved {len(historical_data['total_volumes'])} volume data points\")\n",
    "\n",
    "# Sample the first few price points\n",
    "for timestamp_ms, price in historical_data['prices'][:5]:\n",
    "    timestamp = datetime.fromtimestamp(timestamp_ms/1000)\n",
    "    print(f\"{timestamp}: ${price:,.2f}\")"
   ]
  },
  {
   "cell_type": "markdown",
   "id": "c16616fd",
   "metadata": {},
   "source": [
    "### Store Historical Data"
   ]
  },
  {
   "cell_type": "code",
   "execution_count": 7,
   "id": "57fc1c25",
   "metadata": {},
   "outputs": [
    {
     "name": "stderr",
     "output_type": "stream",
     "text": [
      "2025-05-01 15:44:26,828 - Redis_utils - INFO - Successfully stored Bitcoin price data in Redis\n",
      "2025-05-01 15:44:26,876 - Redis_utils - INFO - Successfully stored Bitcoin price data in Redis\n",
      "2025-05-01 15:44:26,949 - Redis_utils - INFO - Successfully stored Bitcoin price data in Redis\n",
      "2025-05-01 15:44:26,986 - Redis_utils - INFO - Successfully stored Bitcoin price data in Redis\n",
      "2025-05-01 15:44:27,041 - Redis_utils - INFO - Successfully stored Bitcoin price data in Redis\n",
      "2025-05-01 15:44:27,093 - Redis_utils - INFO - Successfully stored Bitcoin price data in Redis\n"
     ]
    },
    {
     "name": "stderr",
     "output_type": "stream",
     "text": [
      "2025-05-01 15:44:27,138 - Redis_utils - INFO - Successfully stored Bitcoin price data in Redis\n",
      "2025-05-01 15:44:27,200 - Redis_utils - INFO - Successfully stored Bitcoin price data in Redis\n",
      "2025-05-01 15:44:27,247 - Redis_utils - INFO - Successfully stored Bitcoin price data in Redis\n",
      "2025-05-01 15:44:27,294 - Redis_utils - INFO - Successfully stored Bitcoin price data in Redis\n",
      "2025-05-01 15:44:27,368 - Redis_utils - INFO - Successfully stored Bitcoin price data in Redis\n",
      "2025-05-01 15:44:27,405 - Redis_utils - INFO - Successfully stored Bitcoin price data in Redis\n",
      "2025-05-01 15:44:27,445 - Redis_utils - INFO - Successfully stored Bitcoin price data in Redis\n",
      "2025-05-01 15:44:27,490 - Redis_utils - INFO - Successfully stored Bitcoin price data in Redis\n",
      "2025-05-01 15:44:27,537 - Redis_utils - INFO - Successfully stored Bitcoin price data in Redis\n",
      "2025-05-01 15:44:27,587 - Redis_utils - INFO - Successfully stored Bitcoin price data in Redis\n",
      "2025-05-01 15:44:27,624 - Redis_utils - INFO - Successfully stored Bitcoin price data in Redis\n",
      "2025-05-01 15:44:27,656 - Redis_utils - INFO - Successfully stored Bitcoin price data in Redis\n",
      "2025-05-01 15:44:27,694 - Redis_utils - INFO - Successfully stored Bitcoin price data in Redis\n",
      "2025-05-01 15:44:27,725 - Redis_utils - INFO - Successfully stored Bitcoin price data in Redis\n",
      "2025-05-01 15:44:27,770 - Redis_utils - INFO - Successfully stored Bitcoin price data in Redis\n",
      "2025-05-01 15:44:27,816 - Redis_utils - INFO - Successfully stored Bitcoin price data in Redis\n",
      "2025-05-01 15:44:27,853 - Redis_utils - INFO - Successfully stored Bitcoin price data in Redis\n",
      "2025-05-01 15:44:27,902 - Redis_utils - INFO - Successfully stored Bitcoin price data in Redis\n",
      "2025-05-01 15:44:27,953 - Redis_utils - INFO - Successfully stored Bitcoin price data in Redis\n",
      "2025-05-01 15:44:28,005 - Redis_utils - INFO - Successfully stored Bitcoin price data in Redis\n",
      "2025-05-01 15:44:28,047 - Redis_utils - INFO - Successfully stored Bitcoin price data in Redis\n",
      "2025-05-01 15:44:28,092 - Redis_utils - INFO - Successfully stored Bitcoin price data in Redis\n",
      "2025-05-01 15:44:28,136 - Redis_utils - INFO - Successfully stored Bitcoin price data in Redis\n",
      "2025-05-01 15:44:28,171 - Redis_utils - INFO - Successfully stored Bitcoin price data in Redis\n",
      "2025-05-01 15:44:28,227 - Redis_utils - INFO - Successfully stored Bitcoin price data in Redis\n",
      "2025-05-01 15:44:28,273 - Redis_utils - INFO - Successfully stored Bitcoin price data in Redis\n",
      "2025-05-01 15:44:28,320 - Redis_utils - INFO - Successfully stored Bitcoin price data in Redis\n",
      "2025-05-01 15:44:28,362 - Redis_utils - INFO - Successfully stored Bitcoin price data in Redis\n",
      "2025-05-01 15:44:28,419 - Redis_utils - INFO - Successfully stored Bitcoin price data in Redis\n",
      "2025-05-01 15:44:28,457 - Redis_utils - INFO - Successfully stored Bitcoin price data in Redis\n",
      "2025-05-01 15:44:28,498 - Redis_utils - INFO - Successfully stored Bitcoin price data in Redis\n",
      "2025-05-01 15:44:28,544 - Redis_utils - INFO - Successfully stored Bitcoin price data in Redis\n",
      "2025-05-01 15:44:28,595 - Redis_utils - INFO - Successfully stored Bitcoin price data in Redis\n",
      "2025-05-01 15:44:28,643 - Redis_utils - INFO - Successfully stored Bitcoin price data in Redis\n",
      "2025-05-01 15:44:28,681 - Redis_utils - INFO - Successfully stored Bitcoin price data in Redis\n",
      "2025-05-01 15:44:28,717 - Redis_utils - INFO - Successfully stored Bitcoin price data in Redis\n",
      "2025-05-01 15:44:28,751 - Redis_utils - INFO - Successfully stored Bitcoin price data in Redis\n",
      "2025-05-01 15:44:28,793 - Redis_utils - INFO - Successfully stored Bitcoin price data in Redis\n",
      "2025-05-01 15:44:28,836 - Redis_utils - INFO - Successfully stored Bitcoin price data in Redis\n",
      "2025-05-01 15:44:28,879 - Redis_utils - INFO - Successfully stored Bitcoin price data in Redis\n",
      "2025-05-01 15:44:28,920 - Redis_utils - INFO - Successfully stored Bitcoin price data in Redis\n",
      "2025-05-01 15:44:28,969 - Redis_utils - INFO - Successfully stored Bitcoin price data in Redis\n",
      "2025-05-01 15:44:29,011 - Redis_utils - INFO - Successfully stored Bitcoin price data in Redis\n",
      "2025-05-01 15:44:29,071 - Redis_utils - INFO - Successfully stored Bitcoin price data in Redis\n",
      "2025-05-01 15:44:29,105 - Redis_utils - INFO - Successfully stored Bitcoin price data in Redis\n",
      "2025-05-01 15:44:29,152 - Redis_utils - INFO - Successfully stored Bitcoin price data in Redis\n",
      "2025-05-01 15:44:29,192 - Redis_utils - INFO - Successfully stored Bitcoin price data in Redis\n",
      "2025-05-01 15:44:29,234 - Redis_utils - INFO - Successfully stored Bitcoin price data in Redis\n",
      "2025-05-01 15:44:29,273 - Redis_utils - INFO - Successfully stored Bitcoin price data in Redis\n",
      "2025-05-01 15:44:29,327 - Redis_utils - INFO - Successfully stored Bitcoin price data in Redis\n",
      "2025-05-01 15:44:29,366 - Redis_utils - INFO - Successfully stored Bitcoin price data in Redis\n",
      "2025-05-01 15:44:29,424 - Redis_utils - INFO - Successfully stored Bitcoin price data in Redis\n",
      "2025-05-01 15:44:29,479 - Redis_utils - INFO - Successfully stored Bitcoin price data in Redis\n",
      "2025-05-01 15:44:29,531 - Redis_utils - INFO - Successfully stored Bitcoin price data in Redis\n",
      "2025-05-01 15:44:29,592 - Redis_utils - INFO - Successfully stored Bitcoin price data in Redis\n",
      "2025-05-01 15:44:29,636 - Redis_utils - INFO - Successfully stored Bitcoin price data in Redis\n",
      "2025-05-01 15:44:29,674 - Redis_utils - INFO - Successfully stored Bitcoin price data in Redis\n",
      "2025-05-01 15:44:29,714 - Redis_utils - INFO - Successfully stored Bitcoin price data in Redis\n",
      "2025-05-01 15:44:29,767 - Redis_utils - INFO - Successfully stored Bitcoin price data in Redis\n",
      "2025-05-01 15:44:29,820 - Redis_utils - INFO - Successfully stored Bitcoin price data in Redis\n",
      "2025-05-01 15:44:29,858 - Redis_utils - INFO - Successfully stored Bitcoin price data in Redis\n",
      "2025-05-01 15:44:29,898 - Redis_utils - INFO - Successfully stored Bitcoin price data in Redis\n",
      "2025-05-01 15:44:29,936 - Redis_utils - INFO - Successfully stored Bitcoin price data in Redis\n",
      "2025-05-01 15:44:29,977 - Redis_utils - INFO - Successfully stored Bitcoin price data in Redis\n",
      "2025-05-01 15:44:30,020 - Redis_utils - INFO - Successfully stored Bitcoin price data in Redis\n",
      "2025-05-01 15:44:30,063 - Redis_utils - INFO - Successfully stored Bitcoin price data in Redis\n",
      "2025-05-01 15:44:30,100 - Redis_utils - INFO - Successfully stored Bitcoin price data in Redis\n",
      "2025-05-01 15:44:30,132 - Redis_utils - INFO - Successfully stored Bitcoin price data in Redis\n",
      "2025-05-01 15:44:30,173 - Redis_utils - INFO - Successfully stored Bitcoin price data in Redis\n",
      "2025-05-01 15:44:30,209 - Redis_utils - INFO - Successfully stored Bitcoin price data in Redis\n",
      "2025-05-01 15:44:30,249 - Redis_utils - INFO - Successfully stored Bitcoin price data in Redis\n",
      "2025-05-01 15:44:30,294 - Redis_utils - INFO - Successfully stored Bitcoin price data in Redis\n",
      "2025-05-01 15:44:30,334 - Redis_utils - INFO - Successfully stored Bitcoin price data in Redis\n",
      "2025-05-01 15:44:30,373 - Redis_utils - INFO - Successfully stored Bitcoin price data in Redis\n",
      "2025-05-01 15:44:30,412 - Redis_utils - INFO - Successfully stored Bitcoin price data in Redis\n",
      "2025-05-01 15:44:30,466 - Redis_utils - INFO - Successfully stored Bitcoin price data in Redis\n",
      "2025-05-01 15:44:30,501 - Redis_utils - INFO - Successfully stored Bitcoin price data in Redis\n",
      "2025-05-01 15:44:30,553 - Redis_utils - INFO - Successfully stored Bitcoin price data in Redis\n",
      "2025-05-01 15:44:30,582 - Redis_utils - INFO - Successfully stored Bitcoin price data in Redis\n",
      "2025-05-01 15:44:30,618 - Redis_utils - INFO - Successfully stored Bitcoin price data in Redis\n",
      "2025-05-01 15:44:30,662 - Redis_utils - INFO - Successfully stored Bitcoin price data in Redis\n",
      "2025-05-01 15:44:30,712 - Redis_utils - INFO - Successfully stored Bitcoin price data in Redis\n",
      "2025-05-01 15:44:30,753 - Redis_utils - INFO - Successfully stored Bitcoin price data in Redis\n",
      "2025-05-01 15:44:30,786 - Redis_utils - INFO - Successfully stored Bitcoin price data in Redis\n",
      "2025-05-01 15:44:30,827 - Redis_utils - INFO - Successfully stored Bitcoin price data in Redis\n",
      "2025-05-01 15:44:30,873 - Redis_utils - INFO - Successfully stored Bitcoin price data in Redis\n",
      "2025-05-01 15:44:30,911 - Redis_utils - INFO - Successfully stored Bitcoin price data in Redis\n",
      "2025-05-01 15:44:30,949 - Redis_utils - INFO - Successfully stored Bitcoin price data in Redis\n",
      "2025-05-01 15:44:30,985 - Redis_utils - INFO - Successfully stored Bitcoin price data in Redis\n",
      "2025-05-01 15:44:31,024 - Redis_utils - INFO - Successfully stored Bitcoin price data in Redis\n",
      "2025-05-01 15:44:31,062 - Redis_utils - INFO - Successfully stored Bitcoin price data in Redis\n",
      "2025-05-01 15:44:31,096 - Redis_utils - INFO - Successfully stored Bitcoin price data in Redis\n",
      "2025-05-01 15:44:31,134 - Redis_utils - INFO - Successfully stored Bitcoin price data in Redis\n",
      "2025-05-01 15:44:31,170 - Redis_utils - INFO - Successfully stored Bitcoin price data in Redis\n",
      "2025-05-01 15:44:31,217 - Redis_utils - INFO - Successfully stored Bitcoin price data in Redis\n",
      "2025-05-01 15:44:31,268 - Redis_utils - INFO - Successfully stored Bitcoin price data in Redis\n",
      "2025-05-01 15:44:31,305 - Redis_utils - INFO - Successfully stored Bitcoin price data in Redis\n",
      "2025-05-01 15:44:31,348 - Redis_utils - INFO - Successfully stored Bitcoin price data in Redis\n",
      "2025-05-01 15:44:31,393 - Redis_utils - INFO - Successfully stored Bitcoin price data in Redis\n",
      "2025-05-01 15:44:31,436 - Redis_utils - INFO - Successfully stored Bitcoin price data in Redis\n",
      "2025-05-01 15:44:31,485 - Redis_utils - INFO - Successfully stored Bitcoin price data in Redis\n",
      "2025-05-01 15:44:31,519 - Redis_utils - INFO - Successfully stored Bitcoin price data in Redis\n",
      "2025-05-01 15:44:31,551 - Redis_utils - INFO - Successfully stored Bitcoin price data in Redis\n",
      "2025-05-01 15:44:31,603 - Redis_utils - INFO - Successfully stored Bitcoin price data in Redis\n",
      "2025-05-01 15:44:31,643 - Redis_utils - INFO - Successfully stored Bitcoin price data in Redis\n",
      "2025-05-01 15:44:31,682 - Redis_utils - INFO - Successfully stored Bitcoin price data in Redis\n",
      "2025-05-01 15:44:31,717 - Redis_utils - INFO - Successfully stored Bitcoin price data in Redis\n",
      "2025-05-01 15:44:31,752 - Redis_utils - INFO - Successfully stored Bitcoin price data in Redis\n",
      "2025-05-01 15:44:31,789 - Redis_utils - INFO - Successfully stored Bitcoin price data in Redis\n",
      "2025-05-01 15:44:31,827 - Redis_utils - INFO - Successfully stored Bitcoin price data in Redis\n",
      "2025-05-01 15:44:31,861 - Redis_utils - INFO - Successfully stored Bitcoin price data in Redis\n",
      "2025-05-01 15:44:31,895 - Redis_utils - INFO - Successfully stored Bitcoin price data in Redis\n",
      "2025-05-01 15:44:31,936 - Redis_utils - INFO - Successfully stored Bitcoin price data in Redis\n",
      "2025-05-01 15:44:31,973 - Redis_utils - INFO - Successfully stored Bitcoin price data in Redis\n",
      "2025-05-01 15:44:32,017 - Redis_utils - INFO - Successfully stored Bitcoin price data in Redis\n",
      "2025-05-01 15:44:32,060 - Redis_utils - INFO - Successfully stored Bitcoin price data in Redis\n",
      "2025-05-01 15:44:32,098 - Redis_utils - INFO - Successfully stored Bitcoin price data in Redis\n",
      "2025-05-01 15:44:32,138 - Redis_utils - INFO - Successfully stored Bitcoin price data in Redis\n",
      "2025-05-01 15:44:32,171 - Redis_utils - INFO - Successfully stored Bitcoin price data in Redis\n",
      "2025-05-01 15:44:32,213 - Redis_utils - INFO - Successfully stored Bitcoin price data in Redis\n",
      "2025-05-01 15:44:32,247 - Redis_utils - INFO - Successfully stored Bitcoin price data in Redis\n",
      "2025-05-01 15:44:32,283 - Redis_utils - INFO - Successfully stored Bitcoin price data in Redis\n",
      "2025-05-01 15:44:32,326 - Redis_utils - INFO - Successfully stored Bitcoin price data in Redis\n",
      "2025-05-01 15:44:32,365 - Redis_utils - INFO - Successfully stored Bitcoin price data in Redis\n",
      "2025-05-01 15:44:32,407 - Redis_utils - INFO - Successfully stored Bitcoin price data in Redis\n",
      "2025-05-01 15:44:32,442 - Redis_utils - INFO - Successfully stored Bitcoin price data in Redis\n",
      "2025-05-01 15:44:32,481 - Redis_utils - INFO - Successfully stored Bitcoin price data in Redis\n",
      "2025-05-01 15:44:32,518 - Redis_utils - INFO - Successfully stored Bitcoin price data in Redis\n",
      "2025-05-01 15:44:32,558 - Redis_utils - INFO - Successfully stored Bitcoin price data in Redis\n",
      "2025-05-01 15:44:32,591 - Redis_utils - INFO - Successfully stored Bitcoin price data in Redis\n",
      "2025-05-01 15:44:32,628 - Redis_utils - INFO - Successfully stored Bitcoin price data in Redis\n",
      "2025-05-01 15:44:32,661 - Redis_utils - INFO - Successfully stored Bitcoin price data in Redis\n",
      "2025-05-01 15:44:32,694 - Redis_utils - INFO - Successfully stored Bitcoin price data in Redis\n",
      "2025-05-01 15:44:32,737 - Redis_utils - INFO - Successfully stored Bitcoin price data in Redis\n",
      "2025-05-01 15:44:32,772 - Redis_utils - INFO - Successfully stored Bitcoin price data in Redis\n",
      "2025-05-01 15:44:32,808 - Redis_utils - INFO - Successfully stored Bitcoin price data in Redis\n",
      "2025-05-01 15:44:32,843 - Redis_utils - INFO - Successfully stored Bitcoin price data in Redis\n",
      "2025-05-01 15:44:32,880 - Redis_utils - INFO - Successfully stored Bitcoin price data in Redis\n",
      "2025-05-01 15:44:32,912 - Redis_utils - INFO - Successfully stored Bitcoin price data in Redis\n",
      "2025-05-01 15:44:32,944 - Redis_utils - INFO - Successfully stored Bitcoin price data in Redis\n",
      "2025-05-01 15:44:32,989 - Redis_utils - INFO - Successfully stored Bitcoin price data in Redis\n",
      "2025-05-01 15:44:33,026 - Redis_utils - INFO - Successfully stored Bitcoin price data in Redis\n",
      "2025-05-01 15:44:33,062 - Redis_utils - INFO - Successfully stored Bitcoin price data in Redis\n",
      "2025-05-01 15:44:33,112 - Redis_utils - INFO - Successfully stored Bitcoin price data in Redis\n",
      "2025-05-01 15:44:33,150 - Redis_utils - INFO - Successfully stored Bitcoin price data in Redis\n",
      "2025-05-01 15:44:33,216 - Redis_utils - INFO - Successfully stored Bitcoin price data in Redis\n",
      "2025-05-01 15:44:33,253 - Redis_utils - INFO - Successfully stored Bitcoin price data in Redis\n",
      "2025-05-01 15:44:33,292 - Redis_utils - INFO - Successfully stored Bitcoin price data in Redis\n",
      "2025-05-01 15:44:33,322 - Redis_utils - INFO - Successfully stored Bitcoin price data in Redis\n",
      "2025-05-01 15:44:33,357 - Redis_utils - INFO - Successfully stored Bitcoin price data in Redis\n",
      "2025-05-01 15:44:33,389 - Redis_utils - INFO - Successfully stored Bitcoin price data in Redis\n",
      "2025-05-01 15:44:33,424 - Redis_utils - INFO - Successfully stored Bitcoin price data in Redis\n",
      "2025-05-01 15:44:33,470 - Redis_utils - INFO - Successfully stored Bitcoin price data in Redis\n",
      "2025-05-01 15:44:33,511 - Redis_utils - INFO - Successfully stored Bitcoin price data in Redis\n",
      "2025-05-01 15:44:33,568 - Redis_utils - INFO - Successfully stored Bitcoin price data in Redis\n",
      "2025-05-01 15:44:33,602 - Redis_utils - INFO - Successfully stored Bitcoin price data in Redis\n",
      "2025-05-01 15:44:33,638 - Redis_utils - INFO - Successfully stored Bitcoin price data in Redis\n",
      "2025-05-01 15:44:33,677 - Redis_utils - INFO - Successfully stored Bitcoin price data in Redis\n",
      "2025-05-01 15:44:33,713 - Redis_utils - INFO - Successfully stored Bitcoin price data in Redis\n",
      "2025-05-01 15:44:33,751 - Redis_utils - INFO - Successfully stored Bitcoin price data in Redis\n",
      "2025-05-01 15:44:33,791 - Redis_utils - INFO - Successfully stored Bitcoin price data in Redis\n",
      "2025-05-01 15:44:33,827 - Redis_utils - INFO - Successfully stored Bitcoin price data in Redis\n",
      "2025-05-01 15:44:33,859 - Redis_utils - INFO - Successfully stored Bitcoin price data in Redis\n"
     ]
    },
    {
     "name": "stdout",
     "output_type": "stream",
     "text": [
      "Historical data stored in Redis\n"
     ]
    }
   ],
   "source": [
    "# Let's convert the historical data to our format and store in Redis\n",
    "for timestamp_ms, price in historical_data['prices']:\n",
    "    # Convert timestamp from milliseconds to seconds\n",
    "    timestamp = int(timestamp_ms/1000)\n",
    "    \n",
    "    # Find corresponding market cap and volume\n",
    "    market_cap = next((cap for ts, cap in historical_data['market_caps'] if ts == timestamp_ms), None)\n",
    "    volume = next((vol for ts, vol in historical_data['total_volumes'] if ts == timestamp_ms), None)\n",
    "    \n",
    "    # Create data point\n",
    "    data_point = {\n",
    "        'usd': price,\n",
    "        'usd_market_cap': market_cap,\n",
    "        'usd_24h_vol': volume,\n",
    "        'usd_24h_change': 0.0,  # Add this missing field with default value\n",
    "        'timestamp': timestamp,\n",
    "        'last_updated_at': timestamp\n",
    "    }\n",
    "    \n",
    "    # Store in Redis\n",
    "    store_bitcoin_price(redis_conn, data_point)\n",
    "\n",
    "print(\"Historical data stored in Redis\")"
   ]
  },
  {
   "cell_type": "markdown",
   "id": "67f1db21",
   "metadata": {},
   "source": [
    "## Retrieve and Analyze Bitcoin Data\n",
    "\n",
    "Now we'll retrieve the stored Bitcoin price data from Redis and perform some basic analysis."
   ]
  },
  {
   "cell_type": "markdown",
   "id": "1509eb9b",
   "metadata": {},
   "source": [
    "### Data Retrieval and Analysis"
   ]
  },
  {
   "cell_type": "code",
   "execution_count": 8,
   "id": "e2190e42",
   "metadata": {},
   "outputs": [
    {
     "name": "stderr",
     "output_type": "stream",
     "text": [
      "2025-05-01 15:44:42,421 - Redis_utils - INFO - Retrieved 26 Bitcoin price records from history\n"
     ]
    },
    {
     "name": "stdout",
     "output_type": "stream",
     "text": [
      "Retrieved 26 data points from Redis\n",
      "\n",
      "Basic Statistics:\n",
      "Mean price: $95,545.75\n",
      "Median price: $95,157.24\n",
      "Min price: $94,239.62\n",
      "Max price: $97,176.45\n",
      "Price range: $2,936.82\n",
      "Standard deviation: $990.19\n",
      "\n",
      "Percent change (latest): 0.02%\n"
     ]
    }
   ],
   "source": [
    "# Get price history from Redis for the last 24 hours\n",
    "end_time = int(time.time())\n",
    "start_time = end_time - (24 * 3600)  # 24 hours ago\n",
    "\n",
    "price_history = get_price_history(redis_conn, start_time, end_time)\n",
    "print(f\"Retrieved {len(price_history)} data points from Redis\")\n",
    "\n",
    "df = get_price_dataframe(price_history)\n",
    "\n",
    "# Display basic statistics\n",
    "print(\"\\nBasic Statistics:\")\n",
    "print(f\"Mean price: ${df['price'].mean():,.2f}\")\n",
    "print(f\"Median price: ${df['price'].median():,.2f}\")\n",
    "print(f\"Min price: ${df['price'].min():,.2f}\")\n",
    "print(f\"Max price: ${df['price'].max():,.2f}\")\n",
    "print(f\"Price range: ${df['price'].max() - df['price'].min():,.2f}\")\n",
    "print(f\"Standard deviation: ${df['price'].std():,.2f}\")\n",
    "\n",
    "# Calculate percent changes if we have enough data\n",
    "if len(df) >= 2:\n",
    "    percent_change = calculate_percent_change(df)\n",
    "    print(f\"\\nPercent change (latest): {percent_change.iloc[-1]:.2f}%\")"
   ]
  },
  {
   "cell_type": "markdown",
   "id": "ec44a0ee",
   "metadata": {},
   "source": [
    "## Time Series Analysis\n",
    "\n",
    "Let's perform some time series analysis on the Bitcoin price data:\n",
    "\n",
    "1. Calculate moving averages\n",
    "2. Detect price anomalies\n",
    "3. Calculate price momentum"
   ]
  },
  {
   "cell_type": "markdown",
   "id": "416f4665",
   "metadata": {},
   "source": [
    "### Time Series Analysis"
   ]
  },
  {
   "cell_type": "code",
   "execution_count": 9,
   "id": "6642cc34",
   "metadata": {},
   "outputs": [
    {
     "name": "stdout",
     "output_type": "stream",
     "text": [
      "Detected 0 price anomalies\n",
      "\n",
      "Sample of processed data:\n",
      "Empty DataFrame\n",
      "Columns: [timestamp, price, market_cap, volume_24h, change_24h, ma_10, ma_30]\n",
      "Index: []\n"
     ]
    }
   ],
   "source": [
    "# Calculate moving averages\n",
    "df['ma_10'] = calculate_moving_average(df, window=10)\n",
    "df['ma_30'] = calculate_moving_average(df, window=30)\n",
    "\n",
    "# Detect anomalies\n",
    "anomalies = detect_price_anomalies(df, threshold=2.0)\n",
    "anomaly_count = anomalies.sum()\n",
    "print(f\"Detected {anomaly_count} price anomalies\")\n",
    "\n",
    "# Drop rows with NaN values for the moving averages\n",
    "df_clean = df.dropna()\n",
    "\n",
    "# Display a sample of the data\n",
    "print(\"\\nSample of processed data:\")\n",
    "print(df_clean.head())"
   ]
  },
  {
   "cell_type": "markdown",
   "id": "388316d1",
   "metadata": {},
   "source": [
    "## Data Visualization\n",
    "\n",
    "Finally, let's visualize the Bitcoin price data with moving averages and anomalies."
   ]
  },
  {
   "cell_type": "code",
   "execution_count": 10,
   "id": "28a58608",
   "metadata": {},
   "outputs": [
    {
     "data": {
      "image/png": "[encoded data removed]",
      "text/plain": [
       "<Figure size 1200x600 with 1 Axes>"
      ]
     },
     "metadata": {},
     "output_type": "display_data"
    }
   ],
   "source": [
    "# Create figure and axes\n",
    "fig, ax = plt.subplots(figsize=(12, 6))\n",
    "\n",
    "# Plot price data\n",
    "ax.plot(df.index, df['price'], label='Price', color='blue', alpha=0.7)\n",
    "\n",
    "# Plot moving averages if we have enough data\n",
    "if 'ma_10' in df.columns and not df['ma_10'].isna().all():\n",
    "    ax.plot(df.index, df['ma_10'], label='10-point MA', color='red')\n",
    "if 'ma_30' in df.columns and not df['ma_30'].isna().all():\n",
    "    ax.plot(df.index, df['ma_30'], label='30-point MA', color='green')\n",
    "\n",
    "# Plot anomalies\n",
    "if anomaly_count > 0:\n",
    "    anomaly_points = df[anomalies]\n",
    "    ax.scatter(anomaly_points.index, anomaly_points['price'], \n",
    "               color='red', marker='o', s=50, label='Anomalies')\n",
    "\n",
    "# Set labels and title\n",
    "ax.set_xlabel('Time')\n",
    "ax.set_ylabel('Price (USD)')\n",
    "ax.set_title('Bitcoin Price Analysis')\n",
    "\n",
    "# Add legend\n",
    "ax.legend()\n",
    "\n",
    "# Add grid\n",
    "ax.grid(True, linestyle='--', alpha=0.7)\n",
    "\n",
    "# Display the plot\n",
    "plt.tight_layout()\n",
    "plt.show()"
   ]
  },
  {
   "cell_type": "markdown",
   "id": "40d79496",
   "metadata": {},
   "source": [
    "## Real-time Updates with Redis Pub/Sub\n",
    "\n",
    "Redis provides a Pub/Sub messaging system that we can use for real-time price updates. Here's a demonstration of publishing and subscribing to price updates.\n"
   ]
  },
  {
   "cell_type": "markdown",
   "id": "83689d8b",
   "metadata": {},
   "source": [
    "### Pub/Sub"
   ]
  },
  {
   "cell_type": "code",
   "execution_count": 12,
   "id": "27079a48",
   "metadata": {},
   "outputs": [
    {
     "name": "stderr",
     "output_type": "stream",
     "text": [
      "2025-05-01 15:49:13,267 - Redis_utils - INFO - Subscribed to channel: bitcoin_price_updates\n"
     ]
    },
    {
     "name": "stderr",
     "output_type": "stream",
     "text": [
      "2025-05-01 15:49:13,504 - Redis_utils - INFO - Successfully fetched Bitcoin price: 96570 USD\n",
      "2025-05-01 15:49:13,624 - Redis_utils - INFO - Published price update to 1 subscribers\n"
     ]
    },
    {
     "name": "stdout",
     "output_type": "stream",
     "text": [
      "Published price update to 1 receivers\n",
      "Received message: {'type': 'subscribe', 'pattern': None, 'channel': 'bitcoin_price_updates', 'data': 1}\n"
     ]
    }
   ],
   "source": [
    "# Create a subscription to the Bitcoin price updates channel\n",
    "pubsub = create_subscriber(redis_conn, channel='bitcoin_price_updates')\n",
    "\n",
    "# Publish a price update\n",
    "bitcoin_data = fetch_bitcoin_price() \n",
    "receivers = publish_price_update(redis_conn, bitcoin_data)\n",
    "print(f\"Published price update to {receivers} receivers\")\n",
    "\n",
    "# Wait a moment for the message to be processed\n",
    "time.sleep(0.1)\n",
    "\n",
    "# Get one message from the channel\n",
    "message = pubsub.get_message()\n",
    "print(\"Received message:\", message)\n",
    "\n",
    "if message and message.get('type') == 'message':\n",
    "    data = json.loads(message.get('data', '{}'))\n",
    "    print(f\"Bitcoin price: ${data.get('usd', 0):,.2f}\")\n",
    "\n",
    "# Clean up\n",
    "pubsub.unsubscribe()"
   ]
  }
 ],
 "metadata": {
  "kernelspec": {
   "display_name": "client_venv.helpers",
   "language": "python",
   "name": "python3"
  },
  "language_info": {
   "codemirror_mode": {
    "name": "ipython",
    "version": 3
   },
   "file_extension": ".py",
   "mimetype": "text/x-python",
   "name": "python",
   "nbconvert_exporter": "python",
   "pygments_lexer": "ipython3",
   "version": "3.12.3"
  }
 },
 "nbformat": 4,
 "nbformat_minor": 5
}
