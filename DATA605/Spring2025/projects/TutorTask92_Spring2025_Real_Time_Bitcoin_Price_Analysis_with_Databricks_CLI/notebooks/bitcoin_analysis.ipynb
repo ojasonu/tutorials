{
 "cells": [
  {
   "cell_type": "code",
   "execution_count": 0,
   "metadata": {
    "application/vnd.databricks.v1+cell": {
     "cellMetadata": {
      "byteLimit": 2048000,
      "rowLimit": 10000
     },
     "inputWidgets": {},
     "nuid": "d6a13242-6634-49d5-bdc2-2d202be9a832",
     "showTitle": false,
     "tableResultSettingsMap": {},
     "title": ""
    }
   },
   "outputs": [
    {
     "name": "stderr",
     "output_type": "stream",
     "text": [
      "INFO:bitcoin_forecast: Libraries loaded and config set\n"
     ]
    }
   ],
   "source": [
    "\"\"\"\n",
    "Bitcoin Price Forecasting with ARIMA  \n",
    "Spring 2025 - DATA605 Final Project \n",
    "Author: Ritik | UMD | Databricks CLI Automation\n",
    "\"\"\"\n",
    "# Config\n",
    "DBFS_DATA_PATH = \"dbfs:/bitcoin/bitcoin_price.json\"\n",
    "DBFS_OUTPUT_PATH = \"dbfs:/bitcoin/forecast_output.csv\"\n",
    "MODEL_ORDER = (1, 1, 1)\n",
    "ARIMA_ORDER_CANDIDATES = [(1, 1, 1), (2, 1, 2), (0, 1, 1)]\n",
    "# Libraries\n",
    "from pyspark.sql import SparkSession\n",
    "import pandas as pd\n",
    "import numpy as np\n",
    "import json\n",
    "import matplotlib.pyplot as plt\n",
    "from statsmodels.tsa.arima.model import ARIMA\n",
    "import logging\n",
    "from pyspark.sql.types import StructType, StructField, TimestampType, DoubleType\n",
    "from pyspark.sql.functions import from_json, col\n",
    "\n",
    "# Logger setup\n",
    "logging.basicConfig()\n",
    "logger = logging.getLogger(\"bitcoin_forecast\")\n",
    "logger.setLevel(logging.INFO)\n",
    "logger.info(\" Libraries loaded and config set\")"
   ]
  },
  {
   "cell_type": "code",
   "execution_count": 0,
   "metadata": {
    "application/vnd.databricks.v1+cell": {
     "cellMetadata": {
      "byteLimit": 2048000,
      "rowLimit": 10000
     },
     "inputWidgets": {},
     "nuid": "c0209d60-549e-4e7f-b720-53e46d755831",
     "showTitle": false,
     "tableResultSettingsMap": {},
     "title": ""
    }
   },
   "outputs": [
    {
     "name": "stderr",
     "output_type": "stream",
     "text": [
      "INFO:bitcoin_forecast: Loaded 1194 rows from DBFS\n"
     ]
    },
    {
     "name": "stdout",
     "output_type": "stream",
     "text": [
      "+-----------------------------------------------------------+\n",
      "|value                                                      |\n",
      "+-----------------------------------------------------------+\n",
      "|{\"timestamp\": \"2025-03-30T04:25:56.663227\", \"price\": 83060}|\n",
      "|{\"timestamp\": \"2025-03-30T05:39:57.371254\", \"price\": 83122}|\n",
      "|{\"timestamp\": \"2025-03-30T05:40:58.257615\", \"price\": 83112}|\n",
      "|{\"timestamp\": \"2025-03-30T05:41:46.834078\", \"price\": 83112}|\n",
      "|{\"timestamp\": \"2025-03-30T05:41:49.688149\", \"price\": 83112}|\n",
      "+-----------------------------------------------------------+\n",
      "only showing top 5 rows\n",
      "\n"
     ]
    }
   ],
   "source": [
    "def load_data(dbfs_path):\n",
    "    \"\"\"Load and validate raw data from DBFS\"\"\"\n",
    "    try:\n",
    "        raw_df = spark.read.text(dbfs_path)\n",
    "        if raw_df.isEmpty():\n",
    "            raise ValueError(f\"No data found at {dbfs_path}\")\n",
    "        \n",
    "        logger.info(f\" Loaded {raw_df.count()} rows from DBFS\")\n",
    "        return raw_df\n",
    "    except Exception as e:\n",
    "        logger.error(f\" Data loading failed: {str(e)}\")\n",
    "        raise\n",
    "\n",
    "# Execute\n",
    "raw_df = load_data(DBFS_DATA_PATH)\n",
    "raw_df.show(5, truncate=False)\n",
    "\n"
   ]
  },
  {
   "cell_type": "code",
   "execution_count": 0,
   "metadata": {
    "application/vnd.databricks.v1+cell": {
     "cellMetadata": {
      "byteLimit": 2048000,
      "rowLimit": 10000
     },
     "inputWidgets": {},
     "nuid": "4b88df11-3060-4f0b-8de5-d7f00fd7bfab",
     "showTitle": false,
     "tableResultSettingsMap": {},
     "title": ""
    }
   },
   "outputs": [
    {
     "data": {
      "text/html": [
       "<div>\n",
       "<style scoped>\n",
       "    .dataframe tbody tr th:only-of-type {\n",
       "        vertical-align: middle;\n",
       "    }\n",
       "\n",
       "    .dataframe tbody tr th {\n",
       "        vertical-align: top;\n",
       "    }\n",
       "\n",
       "    .dataframe thead th {\n",
       "        text-align: right;\n",
       "    }\n",
       "</style>\n",
       "<table border=\"1\" class=\"dataframe\">\n",
       "  <thead>\n",
       "    <tr style=\"text-align: right;\">\n",
       "      <th></th>\n",
       "      <th>price</th>\n",
       "      <th>price_change_pct</th>\n",
       "      <th>price_ma_5</th>\n",
       "    </tr>\n",
       "    <tr>\n",
       "      <th>timestamp_naive</th>\n",
       "      <th></th>\n",
       "      <th></th>\n",
       "      <th></th>\n",
       "    </tr>\n",
       "  </thead>\n",
       "  <tbody>\n",
       "    <tr>\n",
       "      <th>2025-05-01 01:29:56.541109</th>\n",
       "      <td>94646.0</td>\n",
       "      <td>0.003818</td>\n",
       "      <td>94473.2</td>\n",
       "    </tr>\n",
       "    <tr>\n",
       "      <th>2025-05-01 01:35:58.357366</th>\n",
       "      <td>94641.0</td>\n",
       "      <td>-0.000053</td>\n",
       "      <td>94474.4</td>\n",
       "    </tr>\n",
       "    <tr>\n",
       "      <th>2025-05-01 02:00:00.000000</th>\n",
       "      <td>94504.0</td>\n",
       "      <td>-0.001448</td>\n",
       "      <td>94463.4</td>\n",
       "    </tr>\n",
       "    <tr>\n",
       "      <th>2025-05-01 03:00:00.000000</th>\n",
       "      <td>94748.0</td>\n",
       "      <td>0.002582</td>\n",
       "      <td>94565.0</td>\n",
       "    </tr>\n",
       "    <tr>\n",
       "      <th>2025-05-02 02:16:47.250866</th>\n",
       "      <td>96840.0</td>\n",
       "      <td>0.022080</td>\n",
       "      <td>95075.8</td>\n",
       "    </tr>\n",
       "  </tbody>\n",
       "</table>\n",
       "</div>"
      ],
      "text/plain": [
       "                              price  price_change_pct  price_ma_5\n",
       "timestamp_naive                                                  \n",
       "2025-05-01 01:29:56.541109  94646.0          0.003818     94473.2\n",
       "2025-05-01 01:35:58.357366  94641.0         -0.000053     94474.4\n",
       "2025-05-01 02:00:00.000000  94504.0         -0.001448     94463.4\n",
       "2025-05-01 03:00:00.000000  94748.0          0.002582     94565.0\n",
       "2025-05-02 02:16:47.250866  96840.0          0.022080     95075.8"
      ]
     },
     "execution_count": 3,
     "metadata": {},
     "output_type": "execute_result"
    }
   ],
   "source": [
    "def clean_data(raw_df):\n",
    "    try:\n",
    "        schema = StructType([\n",
    "            StructField(\"timestamp\", TimestampType(), True),\n",
    "            StructField(\"price\",     DoubleType(),    True),\n",
    "        ])\n",
    "\n",
    "        parsed = (raw_df\n",
    "            .select(from_json(col(\"value\"), schema).alias(\"j\"))\n",
    "            .select(\"j.*\")\n",
    "            .na.drop(subset=[\"timestamp\", \"price\"])\n",
    "        )\n",
    "\n",
    "        pdf = parsed.toPandas()\n",
    "        if pdf.empty:\n",
    "            raise ValueError(\"No valid JSON rows after parsing.\")\n",
    "\n",
    "        pdf[\"timestamp_naive\"] = pdf[\"timestamp\"].dt.tz_localize(None)\n",
    "        before = len(pdf)\n",
    "        pdf = pdf.dropna(subset=[\"price\"])\n",
    "        if pdf.empty:\n",
    "            raise ValueError(\"All prices were NaN after dropna.\")\n",
    "\n",
    "        pdf = pdf.sort_values(\"timestamp_naive\")\n",
    "        pdf = pdf.drop_duplicates(subset=\"timestamp_naive\", keep=\"last\")\n",
    "        pdf = pdf.set_index(\"timestamp_naive\")\n",
    "\n",
    "        if len(pdf) >= 2:\n",
    "            pdf[\"price_change_pct\"] = pdf[\"price\"].pct_change()\n",
    "        else:\n",
    "            pdf[\"price_change_pct\"] = pd.NA\n",
    "\n",
    "        if len(pdf) >= 5:\n",
    "            pdf[\"price_ma_5\"] = pdf[\"price\"].rolling(5).mean()\n",
    "        else:\n",
    "            pdf[\"price_ma_5\"] = pd.NA\n",
    "\n",
    "        pdf = pdf.dropna(subset=[\"price_change_pct\"])\n",
    "\n",
    "        return pdf[[\"price\", \"price_change_pct\", \"price_ma_5\"]]\n",
    "\n",
    "    except Exception as e:\n",
    "        logger.error(f\"clean_data failed: {e}\", exc_info=True)\n",
    "        raise\n",
    "\n",
    "# Execute\n",
    "pdf = clean_data(raw_df)\n",
    "pdf.tail()\n",
    "\n"
   ]
  },
  {
   "cell_type": "code",
   "execution_count": 0,
   "metadata": {
    "application/vnd.databricks.v1+cell": {
     "cellMetadata": {
      "byteLimit": 2048000,
      "rowLimit": 10000
     },
     "inputWidgets": {},
     "nuid": "e53e9566-c2e0-40a9-ad8b-62ce99c4829a",
     "showTitle": false,
     "tableResultSettingsMap": {},
     "title": ""
    }
   },
   "outputs": [],
   "source": [
    "def plot_historical(data: pd.DataFrame):\n",
    "    \"\"\"Plot price history with moving average\"\"\"\n",
    "    plt.figure(figsize=(14, 6))\n",
    "    plt.plot(data.index, data['price'], label=\"Price (USD)\", color=\"#F7931A\")\n",
    "    plt.plot(data.index, data['price_ma_5'], label=\"5-Point MA\", linestyle=\"--\", color=\"#0D2D6C\")\n",
    "    \n",
    "    plt.title(\"₿ Bitcoin Price Analysis\", pad=20)\n",
    "    plt.xlabel(\"Timestamp\", labelpad=10)\n",
    "    plt.ylabel(\"USD\", labelpad=10)\n",
    "    plt.grid(True, alpha=0.3)\n",
    "    plt.legend()\n",
    "\n",
    "    plt.figtext(0.15, 0.85, \"BTC\", fontsize=120, alpha=0.1, color=\"#F7931A\", ha='center')\n",
    "    plt.tight_layout()\n",
    "    plt.show()\n",
    "\n",
    "# Execute\n",
    "plot_historical(pdf)\n",
    "\n",
    "\n"
   ]
  },
  {
   "cell_type": "code",
   "execution_count": 0,
   "metadata": {
    "application/vnd.databricks.v1+cell": {
     "cellMetadata": {
      "byteLimit": 2048000,
      "rowLimit": 10000
     },
     "inputWidgets": {},
     "nuid": "bb08cf3e-0a03-4e09-a512-9b5fb6e33abc",
     "showTitle": false,
     "tableResultSettingsMap": {},
     "title": ""
    }
   },
   "outputs": [],
   "source": [
    "\n",
    "def train_arima(data: pd.Series):\n",
    "    \"\"\"ARIMA training with manual order selection\"\"\"\n",
    "    try:\n",
    "        model = ARIMA(data, order=MODEL_ORDER).fit()\n",
    "        \n",
    "        orders = ARIMA_ORDER_CANDIDATES\n",
    "        best_model = None\n",
    "        best_order = None\n",
    "        best_aic = np.inf\n",
    "\n",
    "        for order in orders:\n",
    "            try:\n",
    "                trial_model = ARIMA(data, order=order).fit()\n",
    "                trial_aic = trial_model.aic\n",
    "                logger.info(f\" Order {order} AIC: {trial_aic:.1f}\")\n",
    "                if trial_aic < best_aic:\n",
    "                    best_model = trial_model\n",
    "                    best_order = order\n",
    "                    best_aic = trial_aic\n",
    "            except Exception as e:\n",
    "                logger.warning(f\" ARIMA{order} failed: {e}\")\n",
    "\n",
    "        if best_model is None:\n",
    "            raise RuntimeError(\"No valid ARIMA model could be fit.\")\n",
    "\n",
    "        logger.info(f\" Selected ARIMA{best_order} | AIC: {best_aic:.1f}\")\n",
    "        return best_model, best_order\n",
    "    except Exception as e:\n",
    "        logger.error(f\"ARIMA failed: {e}\")\n",
    "        raise RuntimeError(\"ARIMA model training failed. Check input data.\")\n",
    "\n",
    "model_fit, best_order = train_arima(pdf['price'])\n",
    "model_fit.plot_diagnostics(figsize=(10, 6))\n",
    "plt.tight_layout()\n",
    "plt.show()\n",
    "forecast_results = model_fit.get_forecast(steps=10)\n",
    "forecast = forecast_results.predicted_mean\n",
    "conf_int = forecast_results.conf_int()\n",
    "\n"
   ]
  },
  {
   "cell_type": "code",
   "execution_count": 0,
   "metadata": {
    "application/vnd.databricks.v1+cell": {
     "cellMetadata": {
      "byteLimit": 2048000,
      "rowLimit": 10000
     },
     "inputWidgets": {},
     "nuid": "1467f7c2-cf8b-468a-b786-499de97d4873",
     "showTitle": false,
     "tableResultSettingsMap": {},
     "title": ""
    }
   },
   "outputs": [],
   "source": [
    "def plot_forecast(history: pd.DataFrame, forecast: pd.Series, conf_int=None):\n",
    "    \"\"\"Plot historical data + forecast\"\"\"\n",
    "    future_index = pd.date_range(\n",
    "        start=history.index[-1] + pd.Timedelta(minutes=1),\n",
    "        periods=len(forecast),\n",
    "        freq='T'\n",
    "    )\n",
    "    \n",
    "    plt.figure(figsize=(12, 5))\n",
    "    plt.plot(history.index, history['price'], label='Historical', color=\"#0D2D6C\")\n",
    "    plt.plot(future_index, forecast, label='Forecast', linestyle=\"--\", color=\"#F7931A\")\n",
    "    \n",
    "    if conf_int is not None:\n",
    "        plt.fill_between(\n",
    "            future_index,\n",
    "            conf_int.iloc[:, 0],\n",
    "            conf_int.iloc[:, 1],\n",
    "            color='orange',\n",
    "            alpha=0.1,\n",
    "            label='95% CI'\n",
    "        )\n",
    "    \n",
    "    plt.title('🔮 Bitcoin Price Forecast (Next 10 Intervals)', pad=15)\n",
    "    plt.xlabel('Time')\n",
    "    plt.ylabel('USD')\n",
    "    plt.grid(True, alpha=0.3)\n",
    "    plt.legend()\n",
    "    plt.tight_layout()\n",
    "    plt.show()\n",
    "\n",
    "# Execute\n",
    "plot_forecast(pdf, forecast, forecast_results.conf_int())\n",
    "\n"
   ]
  },
  {
   "cell_type": "code",
   "execution_count": 0,
   "metadata": {
    "application/vnd.databricks.v1+cell": {
     "cellMetadata": {
      "byteLimit": 2048000,
      "rowLimit": 10000
     },
     "inputWidgets": {},
     "nuid": "891c4332-e2c9-4492-a489-1b5ccd56980e",
     "showTitle": false,
     "tableResultSettingsMap": {},
     "title": ""
    }
   },
   "outputs": [
    {
     "name": "stderr",
     "output_type": "stream",
     "text": [
      "INFO:bitcoin_forecast: Saved forecast to /dbfs/bitcoin/forecast_output.csv\n",
      "INFO:bitcoin_forecast: DBFS write verified\n"
     ]
    }
   ],
   "source": [
    "def save_results(forecast: pd.Series, history: pd.DataFrame, model_order):\n",
    "    \"\"\"Save forecast to DBFS with metadata\"\"\"\n",
    "    try:\n",
    "        future_index = pd.date_range(\n",
    "            start=history.index[-1] + pd.Timedelta(minutes=15),\n",
    "            periods=len(forecast),\n",
    "            freq='15T'\n",
    "        )\n",
    "        forecast_df = pd.DataFrame({\n",
    "            'timestamp': future_index,\n",
    "            'forecast_price': forecast,\n",
    "            'model': str(model_order),\n",
    "            'last_trained': pd.Timestamp.now().isoformat()\n",
    "        })\n",
    "        \n",
    "        output_path = DBFS_OUTPUT_PATH.replace(\"dbfs:/\", \"/dbfs/\")\n",
    "        forecast_df.to_csv(output_path, index=False)\n",
    "        logger.info(f\" Saved forecast to {output_path}\")\n",
    "        \n",
    "        # Verification\n",
    "        assert len(dbutils.fs.ls(\"dbfs:/bitcoin/\")) > 0, \"DBFS write failed\"\n",
    "        logger.info(\" DBFS write verified\")\n",
    "    except Exception as e:\n",
    "        logger.error(f\" Failed to save results: {str(e)}\")\n",
    "        raise\n",
    "\n",
    "# Execute\n",
    "save_results(forecast, pdf, best_order)\n",
    "\n"
   ]
  },
  {
   "cell_type": "code",
   "execution_count": 0,
   "metadata": {
    "application/vnd.databricks.v1+cell": {
     "cellMetadata": {
      "byteLimit": 2048000,
      "rowLimit": 10000
     },
     "inputWidgets": {},
     "nuid": "870b12bd-a447-4146-bce8-6add2dfb413f",
     "showTitle": false,
     "tableResultSettingsMap": {},
     "title": ""
    }
   },
   "outputs": [
    {
     "name": "stderr",
     "output_type": "stream",
     "text": [
      "INFO:bitcoin_forecast: All data validation tests passed\n"
     ]
    },
    {
     "data": {
      "text/html": [
       "<style scoped>\n",
       "  .table-result-container {\n",
       "    max-height: 300px;\n",
       "    overflow: auto;\n",
       "  }\n",
       "  table, th, td {\n",
       "    border: 1px solid black;\n",
       "    border-collapse: collapse;\n",
       "  }\n",
       "  th, td {\n",
       "    padding: 5px;\n",
       "  }\n",
       "  th {\n",
       "    text-align: left;\n",
       "  }\n",
       "</style><div class='table-result-container'><table class='table-result'><thead style='background-color: white'><tr><th>path</th><th>name</th><th>size</th><th>modificationTime</th></tr></thead><tbody><tr><td>dbfs:/bitcoin/bitcoin_price.json</td><td>bitcoin_price.json</td><td>72540</td><td>1746152257000</td></tr><tr><td>dbfs:/bitcoin/forecast_output.csv</td><td>forecast_output.csv</td><td>884</td><td>1746153085000</td></tr></tbody></table></div>"
      ]
     },
     "metadata": {
      "application/vnd.databricks.v1+output": {
       "addedWidgets": {},
       "aggData": [],
       "aggError": "",
       "aggOverflow": false,
       "aggSchema": [],
       "aggSeriesLimitReached": false,
       "aggType": "",
       "arguments": {},
       "columnCustomDisplayInfos": {},
       "data": [
        [
         "dbfs:/bitcoin/bitcoin_price.json",
         "bitcoin_price.json",
         72540,
         1746152257000
        ],
        [
         "dbfs:/bitcoin/forecast_output.csv",
         "forecast_output.csv",
         884,
         1746153085000
        ]
       ],
       "datasetInfos": [],
       "dbfsResultPath": null,
       "isJsonSchema": true,
       "metadata": {},
       "overflow": false,
       "plotOptions": {
        "customPlotOptions": {},
        "displayType": "table",
        "pivotAggregation": null,
        "pivotColumns": null,
        "xColumns": null,
        "yColumns": null
       },
       "removedWidgets": [],
       "schema": [
        {
         "metadata": "{}",
         "name": "path",
         "type": "\"string\""
        },
        {
         "metadata": "{}",
         "name": "name",
         "type": "\"string\""
        },
        {
         "metadata": "{}",
         "name": "size",
         "type": "\"long\""
        },
        {
         "metadata": "{}",
         "name": "modificationTime",
         "type": "\"long\""
        }
       ],
       "type": "table"
      }
     },
     "output_type": "display_data"
    }
   ],
   "source": [
    "# Validation\n",
    "assert not pdf.empty, \"DataFrame should not be empty\"\n",
    "assert pdf.index.is_unique, \"Timestamps contain duplicates\"\n",
    "assert pdf['price'].isna().sum() == 0, \"Missing price values detected\"\n",
    "logger.info(\" All data validation tests passed\")\n",
    "\n",
    "# Show output\n",
    "display(dbutils.fs.ls(\"dbfs:/bitcoin/\"))\n"
   ]
  }
 ],
 "metadata": {
  "application/vnd.databricks.v1+notebook": {
   "computePreferences": null,
   "dashboards": [],
   "environmentMetadata": {
    "base_environment": "",
    "environment_version": "2"
   },
   "inputWidgetPreferences": null,
   "language": "python",
   "notebookMetadata": {
    "pythonIndentUnit": 4
   },
   "notebookName": "bitcoin_analysis",
   "widgets": {}
  },
  "language_info": {
   "name": "python"
  }
 },
 "nbformat": 4,
 "nbformat_minor": 0
}
