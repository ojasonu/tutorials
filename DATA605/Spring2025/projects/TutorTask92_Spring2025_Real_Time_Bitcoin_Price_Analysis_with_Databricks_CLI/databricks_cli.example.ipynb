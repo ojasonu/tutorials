{
 "cells": [
  {
   "cell_type": "markdown",
   "id": "3ff8914a",
   "metadata": {},
   "source": [
    "# Bitcoin Price Analysis Pipeline Orchestration\n",
    "\n",
    "This notebook orchestrates the end-to-end pipeline for fetching Bitcoin price data, submitting an analysis job to Databricks, retrieving the results, and cleaning up resources, primarily using the Databricks CLI via Python wrappers from `databricks_cli_utils.py`.\n",
    "\n",
    "**Workflow Overview:**\n",
    "1. Create/Start a Databricks cluster using the CLI.\n",
    "2. Fetch current Bitcoin price data from CoinGecko API locally.\n",
    "3. Upload the fetched data to DBFS using the CLI.\n",
    "4. Submit the analysis notebook (`<Your Analysis Notebook Path>.py`) to run as a one-time job on the created cluster using the CLI (`databricks runs submit`).\n",
    "5. Monitor the job run until completion using the CLI.\n",
    "6. Download the analysis results (forecast data) from DBFS using the CLI.\n",
    "7. Terminate the Databricks cluster using the CLI.\n",
    "8. Load and display the downloaded results locally.\n",
    "\n",
    "**Prerequisites:**\n",
    "* Databricks CLI installed and configured (via `databricks configure --token` or environment variables).\n",
    "* A `config/cluster_config.json` file defining a valid cluster specification.\n",
    "* Your analysis notebook (e.g., the one performing ARIMA) uploaded to your Databricks Workspace. You will need its workspace path.\n",
    "* The analysis notebook must be written to read input from a specific DBFS path (e.g., `dbfs:/bitcoin/bitcoin_price.json`) and write its output (e.g., forecast CSV) to another specific DBFS path (e.g., `dbfs:/bitcoin/forecast_output.csv`)."
   ]
  },
  {
   "cell_type": "code",
   "execution_count": 1,
   "id": "49b54a9a",
   "metadata": {},
   "outputs": [
    {
     "name": "stdout",
     "output_type": "stream",
     "text": [
      "Setup complete.\n",
      "Local data path: data\\bitcoin_price.json\n",
      "DBFS upload path: dbfs:/bitcoin/bitcoin_price.json\n",
      "DBFS results path: dbfs:/bitcoin/forecast_output.csv\n",
      "Local results path: data\\forecast_output_live.csv\n",
      "Analysis notebook path: /Workspace/bitcoin_analysis\n"
     ]
    }
   ],
   "source": [
    "# %load_ext autoreload\n",
    "# %autoreload 2\n",
    "\n",
    "import logging\n",
    "import os\n",
    "import json\n",
    "import time\n",
    "import pandas as pd\n",
    "import matplotlib.pyplot as plt\n",
    "\n",
    "# Import our utility functions\n",
    "import databricks_cli_utils as dcu\n",
    "\n",
    "# Configure logging\n",
    "if not logging.getLogger().hasHandlers():\n",
    "     logging.basicConfig(level=logging.INFO, format='%(asctime)s - %(name)s - %(levelname)s - %(message)s')\n",
    "_LOG = logging.getLogger(__name__)\n",
    "logging.getLogger('databricks_cli_utils').setLevel(logging.DEBUG)\n",
    "\n",
    "# --- Configuration ---\n",
    "CLUSTER_CONFIG_PATH = \"config/cluster_config.json\"\n",
    "CLUSTER_ID_FILE = \"config/cluster_id.txt\"\n",
    "\n",
    "# Local data paths\n",
    "LOCAL_DATA_DIR = \"data\"\n",
    "LOCAL_FETCHED_FILENAME = \"bitcoin_price.json\"\n",
    "LOCAL_FETCHED_PATH = os.path.join(LOCAL_DATA_DIR, LOCAL_FETCHED_FILENAME)\n",
    "LOCAL_RESULTS_FILENAME = \"forecast_output_live.csv\"\n",
    "LOCAL_RESULTS_PATH = os.path.join(LOCAL_DATA_DIR, LOCAL_RESULTS_FILENAME)\n",
    "LOCAL_PLOT_DIR = \"output_plots\"\n",
    "LOCAL_FORECAST_PLOT_PATH = os.path.join(LOCAL_PLOT_DIR, \"forecast_plot_live.png\")\n",
    "\n",
    "# DBFS paths\n",
    "DBFS_BASE_DIR = \"dbfs:/bitcoin\" \n",
    "DBFS_UPLOAD_PATH = f\"{DBFS_BASE_DIR}/{LOCAL_FETCHED_FILENAME}\"\n",
    "DBFS_RESULTS_PATH = f\"{DBFS_BASE_DIR}/forecast_output.csv\"\n",
    "\n",
    "# !! IMPORTANT: Replace with the actual Workspace path to your analysis notebook !!\n",
    "# Example: \"/Users/your_email@domain.com/Bitcoin_Analysis_Notebook\"\n",
    "ANALYSIS_NOTEBOOK_PATH = \"/Workspace/bitcoin_analysis\"\n",
    "\n",
    "# Ensure local directories exist\n",
    "os.makedirs(LOCAL_DATA_DIR, exist_ok=True)\n",
    "os.makedirs(LOCAL_PLOT_DIR, exist_ok=True)\n",
    "\n",
    "# Variables for state tracking\n",
    "cluster_id = None\n",
    "run_id = None\n",
    "\n",
    "print(\"Setup complete.\")\n",
    "print(f\"Local data path: {LOCAL_FETCHED_PATH}\")\n",
    "print(f\"DBFS upload path: {DBFS_UPLOAD_PATH}\")\n",
    "print(f\"DBFS results path: {DBFS_RESULTS_PATH}\")\n",
    "print(f\"Local results path: {LOCAL_RESULTS_PATH}\")\n",
    "print(f\"Analysis notebook path: {ANALYSIS_NOTEBOOK_PATH}\")\n",
    "\n"
   ]
  },
  {
   "cell_type": "markdown",
   "id": "31c1b5a7",
   "metadata": {},
   "source": [
    "## 1. Start Cluster\n",
    "\n",
    "First, we ensure a cluster is running using the configuration specified in `config/cluster_config.json`. We use the CLI wrapper and wait until the cluster state is \"RUNNING\".\n",
    "\n",
    "---\n",
    "**Note:** This cell interacts live with Databricks and requires CLI configuration. Cluster creation takes several minutes.\n",
    "---"
   ]
  },
  {
   "cell_type": "code",
   "execution_count": 2,
   "id": "ea8e7e3f",
   "metadata": {},
   "outputs": [
    {
     "name": "stderr",
     "output_type": "stream",
     "text": [
      "2025-05-01 22:32:46,529 - __main__ - INFO - --- Step 1: Starting Cluster ---\n",
      "2025-05-01 22:32:46,540 - databricks_cli_utils - DEBUG - Running Databricks CLI command: databricks clusters get --cluster-id 0502-021009-s5wlolgf\n"
     ]
    },
    {
     "name": "stdout",
     "output_type": "stream",
     "text": [
      "Step 1: Starting Cluster...\n",
      "Found existing cluster ID: 0502-021009-s5wlolgf. Checking status...\n"
     ]
    },
    {
     "name": "stderr",
     "output_type": "stream",
     "text": [
      "2025-05-01 22:32:48,753 - databricks_cli_utils - DEBUG - CLI command successful.\n",
      "2025-05-01 22:32:48,754 - databricks_cli_utils - DEBUG - Parsed JSON output.\n",
      "2025-05-01 22:32:48,754 - databricks_cli_utils - INFO - Cluster '0502-021009-s5wlolgf' status: TERMINATED\n",
      "2025-05-01 22:32:48,757 - databricks_cli_utils - DEBUG - Running Databricks CLI command: databricks clusters create --json-file config/cluster_config.json\n"
     ]
    },
    {
     "name": "stdout",
     "output_type": "stream",
     "text": [
      "Cluster 0502-021009-s5wlolgf is TERMINATED. Will create a new one.\n",
      "Creating new cluster from config/cluster_config.json...\n"
     ]
    },
    {
     "name": "stderr",
     "output_type": "stream",
     "text": [
      "2025-05-01 22:32:51,249 - databricks_cli_utils - DEBUG - CLI command successful.\n",
      "2025-05-01 22:32:51,250 - databricks_cli_utils - DEBUG - Parsed JSON output.\n",
      "2025-05-01 22:32:51,252 - databricks_cli_utils - INFO - Submitted cluster creation. ID: 0502-023251-qbwdbil0\n",
      "2025-05-01 22:32:51,253 - databricks_cli_utils - INFO - Saved cluster ID to config/cluster_id.txt\n",
      "2025-05-01 22:32:51,254 - databricks_cli_utils - DEBUG - Running Databricks CLI command: databricks clusters get --cluster-id 0502-023251-qbwdbil0\n"
     ]
    },
    {
     "name": "stdout",
     "output_type": "stream",
     "text": [
      "Waiting for cluster 0502-023251-qbwdbil0 to be RUNNING...\n"
     ]
    },
    {
     "name": "stderr",
     "output_type": "stream",
     "text": [
      "2025-05-01 22:32:53,260 - databricks_cli_utils - DEBUG - CLI command successful.\n",
      "2025-05-01 22:32:53,260 - databricks_cli_utils - DEBUG - Parsed JSON output.\n",
      "2025-05-01 22:32:53,261 - databricks_cli_utils - INFO - Cluster '0502-023251-qbwdbil0' status: PENDING\n"
     ]
    },
    {
     "name": "stdout",
     "output_type": "stream",
     "text": [
      "Current status: PENDING (Elapsed: 2s)\n"
     ]
    },
    {
     "name": "stderr",
     "output_type": "stream",
     "text": [
      "2025-05-01 22:33:23,262 - databricks_cli_utils - DEBUG - Running Databricks CLI command: databricks clusters get --cluster-id 0502-023251-qbwdbil0\n",
      "2025-05-01 22:33:25,475 - databricks_cli_utils - DEBUG - CLI command successful.\n",
      "2025-05-01 22:33:25,476 - databricks_cli_utils - DEBUG - Parsed JSON output.\n",
      "2025-05-01 22:33:25,476 - databricks_cli_utils - INFO - Cluster '0502-023251-qbwdbil0' status: PENDING\n"
     ]
    },
    {
     "name": "stdout",
     "output_type": "stream",
     "text": [
      "Current status: PENDING (Elapsed: 34s)\n"
     ]
    },
    {
     "name": "stderr",
     "output_type": "stream",
     "text": [
      "2025-05-01 22:33:55,479 - databricks_cli_utils - DEBUG - Running Databricks CLI command: databricks clusters get --cluster-id 0502-023251-qbwdbil0\n",
      "2025-05-01 22:33:57,824 - databricks_cli_utils - DEBUG - CLI command successful.\n",
      "2025-05-01 22:33:57,825 - databricks_cli_utils - DEBUG - Parsed JSON output.\n",
      "2025-05-01 22:33:57,826 - databricks_cli_utils - INFO - Cluster '0502-023251-qbwdbil0' status: PENDING\n"
     ]
    },
    {
     "name": "stdout",
     "output_type": "stream",
     "text": [
      "Current status: PENDING (Elapsed: 66s)\n"
     ]
    },
    {
     "name": "stderr",
     "output_type": "stream",
     "text": [
      "2025-05-01 22:34:27,827 - databricks_cli_utils - DEBUG - Running Databricks CLI command: databricks clusters get --cluster-id 0502-023251-qbwdbil0\n",
      "2025-05-01 22:34:29,956 - databricks_cli_utils - DEBUG - CLI command successful.\n",
      "2025-05-01 22:34:29,957 - databricks_cli_utils - DEBUG - Parsed JSON output.\n",
      "2025-05-01 22:34:29,958 - databricks_cli_utils - INFO - Cluster '0502-023251-qbwdbil0' status: PENDING\n"
     ]
    },
    {
     "name": "stdout",
     "output_type": "stream",
     "text": [
      "Current status: PENDING (Elapsed: 98s)\n"
     ]
    },
    {
     "name": "stderr",
     "output_type": "stream",
     "text": [
      "2025-05-01 22:34:59,959 - databricks_cli_utils - DEBUG - Running Databricks CLI command: databricks clusters get --cluster-id 0502-023251-qbwdbil0\n",
      "2025-05-01 22:35:02,263 - databricks_cli_utils - DEBUG - CLI command successful.\n",
      "2025-05-01 22:35:02,264 - databricks_cli_utils - DEBUG - Parsed JSON output.\n",
      "2025-05-01 22:35:02,265 - databricks_cli_utils - INFO - Cluster '0502-023251-qbwdbil0' status: PENDING\n"
     ]
    },
    {
     "name": "stdout",
     "output_type": "stream",
     "text": [
      "Current status: PENDING (Elapsed: 131s)\n"
     ]
    },
    {
     "name": "stderr",
     "output_type": "stream",
     "text": [
      "2025-05-01 22:35:32,267 - databricks_cli_utils - DEBUG - Running Databricks CLI command: databricks clusters get --cluster-id 0502-023251-qbwdbil0\n",
      "2025-05-01 22:35:34,542 - databricks_cli_utils - DEBUG - CLI command successful.\n",
      "2025-05-01 22:35:34,543 - databricks_cli_utils - DEBUG - Parsed JSON output.\n",
      "2025-05-01 22:35:34,543 - databricks_cli_utils - INFO - Cluster '0502-023251-qbwdbil0' status: PENDING\n"
     ]
    },
    {
     "name": "stdout",
     "output_type": "stream",
     "text": [
      "Current status: PENDING (Elapsed: 163s)\n"
     ]
    },
    {
     "name": "stderr",
     "output_type": "stream",
     "text": [
      "2025-05-01 22:36:04,546 - databricks_cli_utils - DEBUG - Running Databricks CLI command: databricks clusters get --cluster-id 0502-023251-qbwdbil0\n",
      "2025-05-01 22:36:06,727 - databricks_cli_utils - DEBUG - CLI command successful.\n",
      "2025-05-01 22:36:06,728 - databricks_cli_utils - DEBUG - Parsed JSON output.\n",
      "2025-05-01 22:36:06,729 - databricks_cli_utils - INFO - Cluster '0502-023251-qbwdbil0' status: PENDING\n"
     ]
    },
    {
     "name": "stdout",
     "output_type": "stream",
     "text": [
      "Current status: PENDING (Elapsed: 195s)\n"
     ]
    },
    {
     "name": "stderr",
     "output_type": "stream",
     "text": [
      "2025-05-01 22:36:36,730 - databricks_cli_utils - DEBUG - Running Databricks CLI command: databricks clusters get --cluster-id 0502-023251-qbwdbil0\n",
      "2025-05-01 22:36:39,235 - databricks_cli_utils - DEBUG - CLI command successful.\n",
      "2025-05-01 22:36:39,236 - databricks_cli_utils - DEBUG - Parsed JSON output.\n",
      "2025-05-01 22:36:39,237 - databricks_cli_utils - INFO - Cluster '0502-023251-qbwdbil0' status: PENDING\n"
     ]
    },
    {
     "name": "stdout",
     "output_type": "stream",
     "text": [
      "Current status: PENDING (Elapsed: 227s)\n"
     ]
    },
    {
     "name": "stderr",
     "output_type": "stream",
     "text": [
      "2025-05-01 22:37:09,239 - databricks_cli_utils - DEBUG - Running Databricks CLI command: databricks clusters get --cluster-id 0502-023251-qbwdbil0\n",
      "2025-05-01 22:37:11,440 - databricks_cli_utils - DEBUG - CLI command successful.\n",
      "2025-05-01 22:37:11,440 - databricks_cli_utils - DEBUG - Parsed JSON output.\n",
      "2025-05-01 22:37:11,441 - databricks_cli_utils - INFO - Cluster '0502-023251-qbwdbil0' status: PENDING\n"
     ]
    },
    {
     "name": "stdout",
     "output_type": "stream",
     "text": [
      "Current status: PENDING (Elapsed: 260s)\n"
     ]
    },
    {
     "name": "stderr",
     "output_type": "stream",
     "text": [
      "2025-05-01 22:37:41,442 - databricks_cli_utils - DEBUG - Running Databricks CLI command: databricks clusters get --cluster-id 0502-023251-qbwdbil0\n",
      "2025-05-01 22:37:43,714 - databricks_cli_utils - DEBUG - CLI command successful.\n",
      "2025-05-01 22:37:43,715 - databricks_cli_utils - DEBUG - Parsed JSON output.\n",
      "2025-05-01 22:37:43,715 - databricks_cli_utils - INFO - Cluster '0502-023251-qbwdbil0' status: PENDING\n"
     ]
    },
    {
     "name": "stdout",
     "output_type": "stream",
     "text": [
      "Current status: PENDING (Elapsed: 292s)\n"
     ]
    },
    {
     "name": "stderr",
     "output_type": "stream",
     "text": [
      "2025-05-01 22:38:13,717 - databricks_cli_utils - DEBUG - Running Databricks CLI command: databricks clusters get --cluster-id 0502-023251-qbwdbil0\n",
      "2025-05-01 22:38:15,946 - databricks_cli_utils - DEBUG - CLI command successful.\n",
      "2025-05-01 22:38:15,947 - databricks_cli_utils - DEBUG - Parsed JSON output.\n",
      "2025-05-01 22:38:15,948 - databricks_cli_utils - INFO - Cluster '0502-023251-qbwdbil0' status: PENDING\n"
     ]
    },
    {
     "name": "stdout",
     "output_type": "stream",
     "text": [
      "Current status: PENDING (Elapsed: 324s)\n"
     ]
    },
    {
     "name": "stderr",
     "output_type": "stream",
     "text": [
      "2025-05-01 22:38:45,950 - databricks_cli_utils - DEBUG - Running Databricks CLI command: databricks clusters get --cluster-id 0502-023251-qbwdbil0\n",
      "2025-05-01 22:38:48,271 - databricks_cli_utils - DEBUG - CLI command successful.\n",
      "2025-05-01 22:38:48,271 - databricks_cli_utils - DEBUG - Parsed JSON output.\n",
      "2025-05-01 22:38:48,272 - databricks_cli_utils - INFO - Cluster '0502-023251-qbwdbil0' status: PENDING\n"
     ]
    },
    {
     "name": "stdout",
     "output_type": "stream",
     "text": [
      "Current status: PENDING (Elapsed: 357s)\n"
     ]
    },
    {
     "name": "stderr",
     "output_type": "stream",
     "text": [
      "2025-05-01 22:39:18,274 - databricks_cli_utils - DEBUG - Running Databricks CLI command: databricks clusters get --cluster-id 0502-023251-qbwdbil0\n",
      "2025-05-01 22:39:20,385 - databricks_cli_utils - DEBUG - CLI command successful.\n",
      "2025-05-01 22:39:20,385 - databricks_cli_utils - DEBUG - Parsed JSON output.\n",
      "2025-05-01 22:39:20,386 - databricks_cli_utils - INFO - Cluster '0502-023251-qbwdbil0' status: RUNNING\n"
     ]
    },
    {
     "name": "stdout",
     "output_type": "stream",
     "text": [
      "Current status: RUNNING (Elapsed: 389s)\n",
      "Cluster 0502-023251-qbwdbil0 is RUNNING.\n",
      "--- Step 1 Complete: Cluster Ready ---\n"
     ]
    }
   ],
   "source": [
    "_LOG.info(\"--- Step 1: Starting Cluster ---\")\n",
    "print(\"Step 1: Starting Cluster...\")\n",
    "\n",
    "# Check if cluster ID file exists from a previous run\n",
    "if os.path.exists(CLUSTER_ID_FILE):\n",
    "    try:\n",
    "        with open(CLUSTER_ID_FILE, 'r') as f:\n",
    "            cluster_id = f.read().strip()\n",
    "        print(f\"Found existing cluster ID: {cluster_id}. Checking status...\")\n",
    "        status = dcu.get_cluster_status_cli(cluster_id)\n",
    "        if status not in [\"TERMINATED\", \"ERROR\", None]:\n",
    "             print(f\"Cluster {cluster_id} status is {status}.\")\n",
    "        else:\n",
    "             print(f\"Cluster {cluster_id} is {status}. Will create a new one.\")\n",
    "             cluster_id = None\n",
    "             os.remove(CLUSTER_ID_FILE)\n",
    "    except Exception as e:\n",
    "         print(f\"Error reading cluster ID file: {e}. Will create a new cluster.\")\n",
    "         cluster_id = None\n",
    "\n",
    "if not cluster_id:\n",
    "    if not os.path.exists(CLUSTER_CONFIG_PATH):\n",
    "        print(f\"ERROR: Cluster config file not found at {CLUSTER_CONFIG_PATH}. Cannot proceed.\")\n",
    "        raise FileNotFoundError(f\"Missing required file: {CLUSTER_CONFIG_PATH}\")\n",
    "    else:\n",
    "        print(f\"Creating new cluster from {CLUSTER_CONFIG_PATH}...\")\n",
    "        cluster_id = dcu.create_cluster_cli(CLUSTER_CONFIG_PATH, CLUSTER_ID_FILE)\n",
    "\n",
    "if not cluster_id:\n",
    "    print(\"ERROR: Failed to get a valid cluster ID. Stopping execution.\")\n",
    "    raise RuntimeError(\"Failed to create or identify a cluster.\")\n",
    "else:\n",
    "    print(f\"Waiting for cluster {cluster_id} to be RUNNING...\")\n",
    "    max_wait_seconds = 6000\n",
    "    start_time = time.time()\n",
    "    while time.time() - start_time < max_wait_seconds:\n",
    "        status = dcu.get_cluster_status_cli(cluster_id)\n",
    "        print(f\"Current status: {status} (Elapsed: {int(time.time() - start_time)}s)\")\n",
    "        if status == \"RUNNING\":\n",
    "            print(f\"Cluster {cluster_id} is RUNNING.\")\n",
    "            break\n",
    "        elif status in [\"TERMINATED\", \"ERROR\", \"UNKNOWN\", None]:\n",
    "            print(f\"ERROR: Cluster entered unexpected state {status}. Stopping.\")\n",
    "            cluster_id = None\n",
    "            raise RuntimeError(f\"Cluster failed to start (state: {status}).\")\n",
    "            break\n",
    "        time.sleep(30)\n",
    "    else:\n",
    "        print(f\"ERROR: Cluster did not become RUNNING within {max_wait_seconds} seconds. Stopping.\")\n",
    "        dcu.delete_cluster_cli(cluster_id)\n",
    "        cluster_id = None\n",
    "        raise TimeoutError(\"Cluster start timed out.\")\n",
    "\n",
    "if cluster_id:\n",
    "     print(\"--- Step 1 Complete: Cluster Ready ---\")\n",
    "else:\n",
    "     print(\"--- Step 1 Failed ---\")"
   ]
  },
  {
   "cell_type": "markdown",
   "id": "4319abd8",
   "metadata": {},
   "source": [
    "## 2. Fetch Bitcoin Data\n",
    "\n",
    "Next, we fetch the latest Bitcoin price from the CoinGecko API and save it to a local JSON file."
   ]
  },
  {
   "cell_type": "code",
   "execution_count": 3,
   "id": "c65db231",
   "metadata": {},
   "outputs": [
    {
     "name": "stderr",
     "output_type": "stream",
     "text": [
      "2025-05-01 22:39:20,397 - __main__ - INFO - --- Step 2: Fetching Bitcoin Data ---\n",
      "2025-05-01 22:39:20,557 - databricks_cli_utils - INFO - Fetched/saved Bitcoin price: $96991 to data\\bitcoin_price.json\n"
     ]
    },
    {
     "name": "stdout",
     "output_type": "stream",
     "text": [
      "\n",
      "Step 2: Fetching Bitcoin Data...\n",
      "Data saved locally to: data\\bitcoin_price.json\n",
      "--- Step 2 Complete ---\n"
     ]
    }
   ],
   "source": [
    "if cluster_id:\n",
    "    _LOG.info(\"--- Step 2: Fetching Bitcoin Data ---\")\n",
    "    print(\"\\nStep 2: Fetching Bitcoin Data...\")\n",
    "    local_data_path = dcu.fetch_bitcoin_data(\n",
    "        output_dir=LOCAL_DATA_DIR,\n",
    "        output_filename=LOCAL_FETCHED_FILENAME\n",
    "    )\n",
    "    if local_data_path:\n",
    "        print(f\"Data saved locally to: {local_data_path}\")\n",
    "        print(\"--- Step 2 Complete ---\")\n",
    "    else:\n",
    "        print(\"ERROR: Failed to fetch Bitcoin data. Stopping execution.\")\n",
    "else:\n",
    "    print(\"Skipping Step 2 due to cluster failure.\")"
   ]
  },
  {
   "cell_type": "markdown",
   "id": "41bdf267",
   "metadata": {},
   "source": [
    "## 3. Upload Data to DBFS\n",
    "\n",
    "We upload the locally fetched data file to DBFS so the analysis job running on the cluster can access it.\n",
    "\n",
    "---\n",
    "**Note:** This cell interacts live with Databricks and requires CLI configuration.\n",
    "---"
   ]
  },
  {
   "cell_type": "code",
   "execution_count": 4,
   "id": "65432014",
   "metadata": {},
   "outputs": [
    {
     "name": "stderr",
     "output_type": "stream",
     "text": [
      "2025-05-01 22:39:20,571 - __main__ - INFO - --- Step 3: Uploading Data to DBFS ---\n",
      "2025-05-01 22:39:20,573 - databricks_cli_utils - DEBUG - Running Databricks CLI command: databricks fs cp 'data\\bitcoin_price.json' dbfs:/bitcoin/bitcoin_price.json --overwrite\n"
     ]
    },
    {
     "name": "stdout",
     "output_type": "stream",
     "text": [
      "\n",
      "Step 3: Uploading Data to DBFS...\n",
      "Uploading data\\bitcoin_price.json to dbfs:/bitcoin/bitcoin_price.json\n"
     ]
    },
    {
     "name": "stderr",
     "output_type": "stream",
     "text": [
      "2025-05-01 22:39:23,013 - databricks_cli_utils - DEBUG - CLI command successful.\n",
      "2025-05-01 22:39:23,014 - databricks_cli_utils - DEBUG - Command successful, output is not JSON.\n",
      "2025-05-01 22:39:23,014 - databricks_cli_utils - INFO - Uploaded 'data\\bitcoin_price.json' to 'dbfs:/bitcoin/bitcoin_price.json'\n"
     ]
    },
    {
     "name": "stdout",
     "output_type": "stream",
     "text": [
      "Upload successful.\n",
      "--- Step 3 Complete ---\n"
     ]
    }
   ],
   "source": [
    "if cluster_id and local_data_path:\n",
    "    _LOG.info(\"--- Step 3: Uploading Data to DBFS ---\")\n",
    "    print(\"\\nStep 3: Uploading Data to DBFS...\")\n",
    "    print(f\"Uploading {local_data_path} to {DBFS_UPLOAD_PATH}\")\n",
    "    success = dcu.upload_to_dbfs_cli(\n",
    "        local_path=local_data_path,\n",
    "        dbfs_path=DBFS_UPLOAD_PATH,\n",
    "        overwrite=True\n",
    "    )\n",
    "    if success:\n",
    "        print(\"Upload successful.\")\n",
    "        print(\"--- Step 3 Complete ---\")\n",
    "    else:\n",
    "        print(\"ERROR: Failed to upload data to DBFS. Stopping execution.\")\n",
    "else:\n",
    "    print(\"Skipping Step 3 due to previous failure.\")"
   ]
  },
  {
   "cell_type": "markdown",
   "id": "7b089534",
   "metadata": {},
   "source": [
    "## 4. Submit Analysis Run\n",
    "\n",
    "Now we submit the analysis notebook to run as a one-time job on the cluster we created. We use the `databricks runs submit` command (via a wrapper) for this.\n",
    "\n",
    "---\n",
    "**Note:** This cell interacts live with Databricks and requires CLI configuration. Ensure the `ANALYSIS_NOTEBOOK_PATH` variable is set correctly to the path of your analysis notebook in the Databricks workspace.\n",
    "---"
   ]
  },
  {
   "cell_type": "code",
   "execution_count": 5,
   "id": "8917ae59",
   "metadata": {},
   "outputs": [
    {
     "name": "stderr",
     "output_type": "stream",
     "text": [
      "2025-05-01 22:39:23,023 - __main__ - INFO - --- Step 4: Submitting Analysis Run ---\n",
      "2025-05-01 22:39:23,024 - databricks_cli_utils - DEBUG - Running Databricks CLI command: databricks runs submit --json '{\"existing_cluster_id\": \"0502-023251-qbwdbil0\", \"notebook_task\": {\"notebook_path\": \"/Workspace/bitcoin_analysis\"}, \"run_name\": \"NotebookRun_bitcoin_analysis_1746153563\"}'\n"
     ]
    },
    {
     "name": "stdout",
     "output_type": "stream",
     "text": [
      "\n",
      "Step 4: Submitting Analysis Run...\n",
      "Submitting notebook /Workspace/bitcoin_analysis to run on cluster 0502-023251-qbwdbil0\n"
     ]
    },
    {
     "name": "stderr",
     "output_type": "stream",
     "text": [
      "2025-05-01 22:39:25,565 - databricks_cli_utils - DEBUG - CLI command successful.\n",
      "2025-05-01 22:39:25,565 - databricks_cli_utils - DEBUG - Parsed JSON output.\n",
      "2025-05-01 22:39:25,565 - databricks_cli_utils - INFO - Successfully submitted run for notebook '/Workspace/bitcoin_analysis' on cluster '0502-023251-qbwdbil0'. Run ID: 934060604303925\n"
     ]
    },
    {
     "name": "stdout",
     "output_type": "stream",
     "text": [
      "Run submitted successfully. Run ID: 934060604303925\n",
      "--- Step 4 Complete ---\n"
     ]
    }
   ],
   "source": [
    "if cluster_id and local_data_path and success:\n",
    "    _LOG.info(\"--- Step 4: Submitting Analysis Run ---\")\n",
    "    print(\"\\nStep 4: Submitting Analysis Run...\")\n",
    "    print(f\"Submitting notebook {ANALYSIS_NOTEBOOK_PATH} to run on cluster {cluster_id}\")\n",
    "\n",
    "    run_id = dcu.submit_notebook_run_cli(\n",
    "        notebook_path=ANALYSIS_NOTEBOOK_PATH,\n",
    "        cluster_id=cluster_id\n",
    "    )\n",
    "\n",
    "    if run_id:\n",
    "        print(f\"Run submitted successfully. Run ID: {run_id}\")\n",
    "        print(\"--- Step 4 Complete ---\")\n",
    "    else:\n",
    "        print(\"ERROR: Failed to submit run. Stopping execution.\")\n",
    "else:\n",
    "    print(\"Skipping Step 4 due to previous failure.\")"
   ]
  },
  {
   "cell_type": "markdown",
   "id": "03ab7a0c",
   "metadata": {},
   "source": [
    "## 5. Monitor Job Run Completion\n",
    "\n",
    "The analysis job runs asynchronously on Databricks. We need to poll its status using the `run_id` until it completes.\n",
    "\n",
    "---\n",
    "**Note:** This cell interacts live with Databricks and requires CLI configuration. It will wait for the job to finish.\n",
    "---"
   ]
  },
  {
   "cell_type": "code",
   "execution_count": 6,
   "id": "e4d65c85",
   "metadata": {},
   "outputs": [
    {
     "name": "stderr",
     "output_type": "stream",
     "text": [
      "2025-05-01 22:39:25,579 - __main__ - INFO - --- Step 5: Monitoring Run Completion ---\n",
      "2025-05-01 22:39:25,580 - databricks_cli_utils - DEBUG - Running Databricks CLI command: databricks runs get --run-id 934060604303925\n"
     ]
    },
    {
     "name": "stdout",
     "output_type": "stream",
     "text": [
      "\n",
      "Step 5: Monitoring Run 934060604303925...\n"
     ]
    },
    {
     "name": "stderr",
     "output_type": "stream",
     "text": [
      "2025-05-01 22:39:27,560 - databricks_cli_utils - DEBUG - CLI command successful.\n",
      "2025-05-01 22:39:27,561 - databricks_cli_utils - DEBUG - Parsed JSON output.\n",
      "2025-05-01 22:39:27,562 - databricks_cli_utils - INFO - Job run '934060604303925' status: RUNNING\n"
     ]
    },
    {
     "name": "stdout",
     "output_type": "stream",
     "text": [
      "Current run status: RUNNING (Result: None, Elapsed: 1s)\n"
     ]
    },
    {
     "name": "stderr",
     "output_type": "stream",
     "text": [
      "2025-05-01 22:40:27,562 - databricks_cli_utils - DEBUG - Running Databricks CLI command: databricks runs get --run-id 934060604303925\n",
      "2025-05-01 22:40:29,601 - databricks_cli_utils - DEBUG - CLI command successful.\n",
      "2025-05-01 22:40:29,602 - databricks_cli_utils - DEBUG - Parsed JSON output.\n",
      "2025-05-01 22:40:29,602 - databricks_cli_utils - INFO - Job run '934060604303925' status: RUNNING\n"
     ]
    },
    {
     "name": "stdout",
     "output_type": "stream",
     "text": [
      "Current run status: RUNNING (Result: None, Elapsed: 64s)\n"
     ]
    },
    {
     "name": "stderr",
     "output_type": "stream",
     "text": [
      "2025-05-01 22:41:29,604 - databricks_cli_utils - DEBUG - Running Databricks CLI command: databricks runs get --run-id 934060604303925\n",
      "2025-05-01 22:41:31,632 - databricks_cli_utils - DEBUG - CLI command successful.\n",
      "2025-05-01 22:41:31,633 - databricks_cli_utils - DEBUG - Parsed JSON output.\n",
      "2025-05-01 22:41:31,634 - databricks_cli_utils - INFO - Job run '934060604303925' status: TERMINATED\n"
     ]
    },
    {
     "name": "stdout",
     "output_type": "stream",
     "text": [
      "Current run status: TERMINATED (Result: SUCCESS, Elapsed: 126s)\n",
      "Run 934060604303925 completed successfully.\n",
      "--- Step 5 Complete: Run Succeeded ---\n"
     ]
    }
   ],
   "source": [
    "job_success = False\n",
    "if cluster_id and run_id:\n",
    "    _LOG.info(\"--- Step 5: Monitoring Run Completion ---\")\n",
    "    print(f\"\\nStep 5: Monitoring Run {run_id}...\")\n",
    "    max_wait_job_seconds = 18000\n",
    "    start_time_job = time.time()\n",
    "    final_state = None\n",
    "    while time.time() - start_time_job < max_wait_job_seconds:\n",
    "        run_state = dcu.get_job_run_status_cli(run_id)\n",
    "        if run_state:\n",
    "            life_cycle_state = run_state.get('life_cycle_state', 'UNKNOWN')\n",
    "            result_state = run_state.get('result_state', None)\n",
    "            print(f\"Current run status: {life_cycle_state} (Result: {result_state}, Elapsed: {int(time.time() - start_time_job)}s)\")\n",
    "\n",
    "            if life_cycle_state in [\"TERMINATED\", \"SKIPPED\", \"INTERNAL_ERROR\"]:\n",
    "                final_state = run_state\n",
    "                if result_state == \"SUCCESS\":\n",
    "                    print(f\"Run {run_id} completed successfully.\")\n",
    "                    job_success = True\n",
    "                else:\n",
    "                    print(f\"ERROR: Run {run_id} finished with state {life_cycle_state} / {result_state}. Message: {run_state.get('state_message', 'N/A')}\")\n",
    "                break \n",
    "        else:\n",
    "            print(\"Warning: Could not retrieve run status. Retrying...\")\n",
    "            \n",
    "\n",
    "        time.sleep(60) \n",
    "    else: \n",
    "        print(f\"ERROR: Run {run_id} did not complete within {max_wait_job_seconds} seconds. Stopping.\")\n",
    "        \n",
    "        job_success = False\n",
    "\n",
    "    if job_success:\n",
    "        print(\"--- Step 5 Complete: Run Succeeded ---\")\n",
    "    else:\n",
    "        print(\"--- Step 5 Failed ---\")\n",
    "\n",
    "else:\n",
    "    print(\"Skipping Step 5 due to previous failure.\")"
   ]
  },
  {
   "cell_type": "markdown",
   "id": "02d521ff",
   "metadata": {},
   "source": [
    "## 6. Download Results from DBFS\n",
    "\n",
    "If the job run was successful, the analysis notebook should have saved the forecast results to DBFS. We now download that file locally.\n",
    "\n",
    "---\n",
    "**Note:** This cell interacts live with Databricks and requires CLI configuration. It assumes the analysis notebook saved results to `DBFS_RESULTS_PATH`.\n",
    "---"
   ]
  },
  {
   "cell_type": "code",
   "execution_count": 7,
   "id": "4fa8776f",
   "metadata": {},
   "outputs": [
    {
     "name": "stderr",
     "output_type": "stream",
     "text": [
      "2025-05-01 22:41:31,645 - __main__ - INFO - --- Step 6: Downloading Results ---\n",
      "2025-05-01 22:41:31,647 - databricks_cli_utils - DEBUG - Running Databricks CLI command: databricks fs cp dbfs:/bitcoin/forecast_output.csv 'data\\forecast_output_live.csv' --overwrite\n"
     ]
    },
    {
     "name": "stdout",
     "output_type": "stream",
     "text": [
      "\n",
      "Step 6: Downloading Results...\n",
      "Downloading dbfs:/bitcoin/forecast_output.csv to data\\forecast_output_live.csv\n"
     ]
    },
    {
     "name": "stderr",
     "output_type": "stream",
     "text": [
      "2025-05-01 22:41:34,227 - databricks_cli_utils - DEBUG - CLI command successful.\n",
      "2025-05-01 22:41:34,228 - databricks_cli_utils - DEBUG - Command successful, output is not JSON.\n",
      "2025-05-01 22:41:34,228 - databricks_cli_utils - INFO - Downloaded 'dbfs:/bitcoin/forecast_output.csv' to 'data\\forecast_output_live.csv'\n"
     ]
    },
    {
     "name": "stdout",
     "output_type": "stream",
     "text": [
      "Results downloaded successfully to data\\forecast_output_live.csv\n",
      "--- Step 6 Complete ---\n"
     ]
    }
   ],
   "source": [
    "results_downloaded = False\n",
    "if cluster_id and job_success:\n",
    "    _LOG.info(\"--- Step 6: Downloading Results ---\")\n",
    "    print(\"\\nStep 6: Downloading Results...\")\n",
    "    print(f\"Downloading {DBFS_RESULTS_PATH} to {LOCAL_RESULTS_PATH}\")\n",
    "    success = dcu.download_from_dbfs_cli(\n",
    "        dbfs_path=DBFS_RESULTS_PATH,\n",
    "        local_path=LOCAL_RESULTS_PATH,\n",
    "        overwrite=True\n",
    "    )\n",
    "    if success:\n",
    "        print(f\"Results downloaded successfully to {LOCAL_RESULTS_PATH}\")\n",
    "        results_downloaded = True\n",
    "        print(\"--- Step 6 Complete ---\")\n",
    "    else:\n",
    "        print(f\"ERROR: Failed to download results from {DBFS_RESULTS_PATH}. Check if the analysis job saved the output correctly.\")\n",
    "else:\n",
    "     print(\"Skipping Step 6 due to previous failure or job failure.\")"
   ]
  },
  {
   "cell_type": "markdown",
   "id": "f742cd92",
   "metadata": {},
   "source": [
    "## 7. Terminate Cluster\n",
    "\n",
    "Now that we have the results (or the job failed), we terminate the cluster to stop incurring costs.\n",
    "\n",
    "---\n",
    "**Note:** This cell interacts live with Databricks and requires CLI configuration.\n",
    "---"
   ]
  },
  {
   "cell_type": "code",
   "execution_count": 8,
   "id": "a851cc83",
   "metadata": {},
   "outputs": [
    {
     "name": "stderr",
     "output_type": "stream",
     "text": [
      "2025-05-01 22:41:34,239 - __main__ - INFO - --- Step 7: Terminating Cluster ---\n",
      "2025-05-01 22:41:34,240 - databricks_cli_utils - DEBUG - Running Databricks CLI command: databricks clusters delete --cluster-id 0502-023251-qbwdbil0\n"
     ]
    },
    {
     "name": "stdout",
     "output_type": "stream",
     "text": [
      "\n",
      "Step 7: Terminating Cluster 0502-023251-qbwdbil0...\n"
     ]
    },
    {
     "name": "stderr",
     "output_type": "stream",
     "text": [
      "2025-05-01 22:41:36,545 - databricks_cli_utils - DEBUG - CLI command successful.\n",
      "2025-05-01 22:41:36,546 - databricks_cli_utils - DEBUG - Command successful, output is not JSON.\n",
      "2025-05-01 22:41:36,547 - databricks_cli_utils - INFO - Submitted deletion request for cluster '0502-023251-qbwdbil0'\n"
     ]
    },
    {
     "name": "stdout",
     "output_type": "stream",
     "text": [
      "Cluster 0502-023251-qbwdbil0 deletion request submitted.\n",
      "Removed cluster ID file: config/cluster_id.txt\n",
      "--- Step 7 Complete ---\n"
     ]
    }
   ],
   "source": [
    "if cluster_id:\n",
    "    _LOG.info(\"--- Step 7: Terminating Cluster ---\")\n",
    "    print(f\"\\nStep 7: Terminating Cluster {cluster_id}...\")\n",
    "    deleted = dcu.delete_cluster_cli(cluster_id)\n",
    "    if deleted:\n",
    "        print(f\"Cluster {cluster_id} deletion request submitted.\")\n",
    "        if os.path.exists(CLUSTER_ID_FILE):\n",
    "             try:\n",
    "                 os.remove(CLUSTER_ID_FILE)\n",
    "                 print(f\"Removed cluster ID file: {CLUSTER_ID_FILE}\")\n",
    "             except OSError as e:\n",
    "                 print(f\"Warning: Could not remove cluster ID file {CLUSTER_ID_FILE}: {e}\")\n",
    "        cluster_id = None\n",
    "        print(\"--- Step 7 Complete ---\")\n",
    "    else:\n",
    "        print(f\"ERROR: Failed to submit deletion request for cluster {cluster_id}. Manual cleanup may be required.\")\n",
    "else:\n",
    "    print(\"Skipping Step 7 - no active cluster ID.\")"
   ]
  },
  {
   "cell_type": "markdown",
   "id": "71234d73",
   "metadata": {},
   "source": [
    "## 8. Load and Display Results\n",
    "\n",
    "If the results were downloaded successfully, we load the CSV file and display the forecast data."
   ]
  },
  {
   "cell_type": "code",
   "execution_count": 9,
   "id": "8a81b0a4",
   "metadata": {},
   "outputs": [
    {
     "name": "stderr",
     "output_type": "stream",
     "text": [
      "2025-05-01 22:41:36,560 - __main__ - INFO - --- Step 8: Loading Downloaded Results ---\n"
     ]
    },
    {
     "name": "stdout",
     "output_type": "stream",
     "text": [
      "\n",
      "Step 8: Loading Downloaded Results...\n",
      "Successfully loaded forecast data from data\\forecast_output_live.csv\n",
      "Forecast Head:\n",
      "                            forecast_price      model  \\\n",
      "timestamp                                               \n",
      "2025-05-02 02:54:20.555639    96940.169045  (0, 1, 1)   \n",
      "2025-05-02 03:09:20.555639    96940.169045  (0, 1, 1)   \n",
      "2025-05-02 03:24:20.555639    96940.169045  (0, 1, 1)   \n",
      "2025-05-02 03:39:20.555639    96940.169045  (0, 1, 1)   \n",
      "2025-05-02 03:54:20.555639    96940.169045  (0, 1, 1)   \n",
      "\n",
      "                                          last_trained  \n",
      "timestamp                                               \n",
      "2025-05-02 02:54:20.555639  2025-05-02T02:40:43.624382  \n",
      "2025-05-02 03:09:20.555639  2025-05-02T02:40:43.624382  \n",
      "2025-05-02 03:24:20.555639  2025-05-02T02:40:43.624382  \n",
      "2025-05-02 03:39:20.555639  2025-05-02T02:40:43.624382  \n",
      "2025-05-02 03:54:20.555639  2025-05-02T02:40:43.624382  \n",
      "\n",
      "Forecast Tail:\n",
      "                            forecast_price      model  \\\n",
      "timestamp                                               \n",
      "2025-05-02 04:09:20.555639    96940.169045  (0, 1, 1)   \n",
      "2025-05-02 04:24:20.555639    96940.169045  (0, 1, 1)   \n",
      "2025-05-02 04:39:20.555639    96940.169045  (0, 1, 1)   \n",
      "2025-05-02 04:54:20.555639    96940.169045  (0, 1, 1)   \n",
      "2025-05-02 05:09:20.555639    96940.169045  (0, 1, 1)   \n",
      "\n",
      "                                          last_trained  \n",
      "timestamp                                               \n",
      "2025-05-02 04:09:20.555639  2025-05-02T02:40:43.624382  \n",
      "2025-05-02 04:24:20.555639  2025-05-02T02:40:43.624382  \n",
      "2025-05-02 04:39:20.555639  2025-05-02T02:40:43.624382  \n",
      "2025-05-02 04:54:20.555639  2025-05-02T02:40:43.624382  \n",
      "2025-05-02 05:09:20.555639  2025-05-02T02:40:43.624382  \n",
      "--- Step 8 Complete ---\n"
     ]
    }
   ],
   "source": [
    "forecast_df = None\n",
    "if results_downloaded:\n",
    "    _LOG.info(\"--- Step 8: Loading Downloaded Results ---\")\n",
    "    print(\"\\nStep 8: Loading Downloaded Results...\")\n",
    "    try:\n",
    "        forecast_df = pd.read_csv(LOCAL_RESULTS_PATH, parse_dates=['timestamp'], index_col='timestamp')\n",
    "        print(f\"Successfully loaded forecast data from {LOCAL_RESULTS_PATH}\")\n",
    "        print(\"Forecast Head:\")\n",
    "        print(forecast_df.head())\n",
    "        print(\"\\nForecast Tail:\")\n",
    "        print(forecast_df.tail())\n",
    "        print(\"--- Step 8 Complete ---\")\n",
    "    except Exception as e:\n",
    "        print(f\"ERROR: Failed to load or display results CSV from {LOCAL_RESULTS_PATH}: {e}\")\n",
    "        forecast_df = None\n",
    "else:\n",
    "    print(\"Skipping Step 8 - results not downloaded.\")"
   ]
  },
  {
   "cell_type": "markdown",
   "id": "983ea6d6",
   "metadata": {},
   "source": [
    "## 9. Visualize Results\n",
    "\n",
    "Finally, we can visualize the forecast alongside the historical data (which we still have locally or can re-parse). We regenerate the plot locally using the downloaded forecast."
   ]
  },
  {
   "cell_type": "code",
   "execution_count": 10,
   "id": "cd43e978",
   "metadata": {},
   "outputs": [
    {
     "name": "stderr",
     "output_type": "stream",
     "text": [
      "2025-05-01 22:41:36,964 - __main__ - INFO - --- Step 9: Visualizing Results ---\n",
      "2025-05-01 22:41:37,045 - databricks_cli_utils - INFO - Parsed/cleaned data from data\\bitcoin_price.json. Shape: (1185, 3)\n"
     ]
    },
    {
     "name": "stdout",
     "output_type": "stream",
     "text": [
      "\n",
      "Step 9: Visualizing Results...\n",
      "Parsing historical data from data\\bitcoin_price.json for plotting...\n",
      "Generating forecast plot...\n"
     ]
    },
    {
     "name": "stderr",
     "output_type": "stream",
     "text": [
      "2025-05-01 22:41:37,167 - databricks_cli_utils - WARNING - Confidence interval columns ('lower_ci', 'upper_ci') not found, plotting forecast only.\n",
      "2025-05-01 22:41:37,517 - databricks_cli_utils - INFO - Saved forecast plot to output_plots\\forecast_plot_live.png\n"
     ]
    },
    {
     "name": "stdout",
     "output_type": "stream",
     "text": [
      "Forecast plot saved to output_plots\\forecast_plot_live.png\n"
     ]
    },
    {
     "data": {
      "image/png": "[encoded data removed]",
      "text/plain": [
       "<IPython.core.display.Image object>"
      ]
     },
     "metadata": {},
     "output_type": "display_data"
    },
    {
     "name": "stdout",
     "output_type": "stream",
     "text": [
      "--- Step 9 Complete ---\n"
     ]
    }
   ],
   "source": [
    "if forecast_df is not None:\n",
    "    _LOG.info(\"--- Step 9: Visualizing Results ---\")\n",
    "    print(\"\\nStep 9: Visualizing Results...\")\n",
    "    print(f\"Parsing historical data from {LOCAL_FETCHED_PATH} for plotting...\")\n",
    "    history_df = dcu.parse_local_json_data(LOCAL_FETCHED_PATH)\n",
    "\n",
    "    if history_df is not None:\n",
    "        print(\"Generating forecast plot...\")\n",
    "        dcu.plot_forecast_data(\n",
    "            history=history_df,\n",
    "            forecast_df=forecast_df,\n",
    "            filename=LOCAL_FORECAST_PLOT_PATH\n",
    "        )\n",
    "        print(f\"Forecast plot saved to {LOCAL_FORECAST_PLOT_PATH}\")\n",
    "        try:\n",
    "            from IPython.display import Image\n",
    "            display(Image(filename=LOCAL_FORECAST_PLOT_PATH))\n",
    "            print(\"--- Step 9 Complete ---\")\n",
    "        except ImportError:\n",
    "             print(\"Cannot display image inline (IPython not available or not running in notebook context).\")\n",
    "             print(\"--- Step 9 Complete (Plot Saved) ---\")\n",
    "        except Exception as e:\n",
    "             print(f\"Error displaying plot image: {e}\")\n",
    "             print(\"--- Step 9 Complete (Plot Saved) ---\")\n",
    "\n",
    "    else:\n",
    "        print(\"ERROR: Could not parse historical data for plotting.\")\n",
    "else:\n",
    "    print(\"Skipping Step 9 - forecast data not loaded.\")\n",
    "\n",
    "# if os.path.exists(LOCAL_FETCHED_PATH): os.remove(LOCAL_FETCHED_PATH)\n",
    "# if os.path.exists(LOCAL_RESULTS_PATH): os.remove(LOCAL_RESULTS_PATH)\n",
    "# print(\"\\nLocal data/results files cleaned up.\")"
   ]
  },
  {
   "cell_type": "markdown",
   "id": "f5cf876f",
   "metadata": {},
   "source": [
    "## End of Example Pipeline Orchestration"
   ]
  }
 ],
 "metadata": {
  "kernelspec": {
   "display_name": "venv",
   "language": "python",
   "name": "python3"
  },
  "language_info": {
   "codemirror_mode": {
    "name": "ipython",
    "version": 3
   },
   "file_extension": ".py",
   "mimetype": "text/x-python",
   "name": "python",
   "nbconvert_exporter": "python",
   "pygments_lexer": "ipython3",
   "version": "3.12.3"
  }
 },
 "nbformat": 4,
 "nbformat_minor": 5
}
