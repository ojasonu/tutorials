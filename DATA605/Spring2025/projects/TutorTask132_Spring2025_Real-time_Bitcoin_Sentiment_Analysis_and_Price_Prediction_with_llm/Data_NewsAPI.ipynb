{
 "cells": [
  {
   "cell_type": "code",
   "execution_count": 1,
   "id": "f110aa67-2beb-45e6-9770-00b8c2e9ef4e",
   "metadata": {},
   "outputs": [
    {
     "name": "stdout",
     "output_type": "stream",
     "text": [
      "✅ [20250501_210642] Saved 10 news articles to bitcoin_news_20250501_210642.json\n"
     ]
    }
   ],
   "source": [
    "# bitcoin_news_fetch_once.py\n",
    "\n",
    "import requests\n",
    "import json\n",
    "from datetime import datetime\n",
    "\n",
    "# ✅ Your NewsAPI key\n",
    "NEWS_API_KEY = \"d94e1c8e46664f5883e96bdaeaf07b8a\"\n",
    "\n",
    "def fetch_bitcoin_news():\n",
    "    url = \"https://newsapi.org/v2/everything\"\n",
    "    params = {\n",
    "        \"q\": \"Bitcoin\",\n",
    "        \"sortBy\": \"publishedAt\",\n",
    "        \"language\": \"en\",\n",
    "        \"pageSize\": 10,\n",
    "        \"apiKey\": NEWS_API_KEY,\n",
    "    }\n",
    "\n",
    "    response = requests.get(url, params=params)\n",
    "    if response.status_code != 200:\n",
    "        print(f\"❌ Error: {response.status_code} - {response.text}\")\n",
    "        return\n",
    "\n",
    "    news_data = response.json().get(\"articles\", [])\n",
    "    news_list = []\n",
    "\n",
    "    for article in news_data:\n",
    "        news_list.append({\n",
    "            \"title\": article.get(\"title\"),\n",
    "            \"publishedAt\": article.get(\"publishedAt\"),\n",
    "            \"source\": article.get(\"source\", {}).get(\"name\"),\n",
    "            \"url\": article.get(\"url\")\n",
    "        })\n",
    "\n",
    "    timestamp = datetime.now().strftime(\"%Y%m%d_%H%M%S\")\n",
    "    filename = f\"bitcoin_news_{timestamp}.json\"\n",
    "    with open(filename, \"w\") as f:\n",
    "        json.dump(news_list, f, indent=2)\n",
    "\n",
    "    print(f\"✅ [{timestamp}] Saved {len(news_list)} news articles to {filename}\")\n",
    "\n",
    "# 🔁 Run once\n",
    "if __name__ == \"__main__\":\n",
    "    fetch_bitcoin_news()\n"
   ]
  },
  {
   "cell_type": "code",
   "execution_count": null,
   "id": "4e779258-3ae6-40f1-92fe-ba63816075b5",
   "metadata": {},
   "outputs": [],
   "source": []
  },
  {
   "cell_type": "code",
   "execution_count": null,
   "id": "cff2304d-8bd2-4dde-addc-6f830bb3ecf0",
   "metadata": {},
   "outputs": [],
   "source": []
  }
 ],
 "metadata": {
  "kernelspec": {
   "display_name": "Python 3 (ipykernel)",
   "language": "python",
   "name": "python3"
  },
  "language_info": {
   "codemirror_mode": {
    "name": "ipython",
    "version": 3
   },
   "file_extension": ".py",
   "mimetype": "text/x-python",
   "name": "python",
   "nbconvert_exporter": "python",
   "pygments_lexer": "ipython3",
   "version": "3.11.7"
  }
 },
 "nbformat": 4,
 "nbformat_minor": 5
}
