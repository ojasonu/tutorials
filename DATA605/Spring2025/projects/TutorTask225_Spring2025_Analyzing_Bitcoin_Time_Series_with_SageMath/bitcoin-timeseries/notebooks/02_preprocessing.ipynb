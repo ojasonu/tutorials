{
 "cells": [
  {
   "cell_type": "code",
   "execution_count": 3,
   "id": "2b032c8d-0039-4d0d-a928-8705ce6a9b27",
   "metadata": {},
   "outputs": [
    {
     "name": "stdout",
     "output_type": "stream",
     "text": [
      "✅ Cleaned data saved: 1440 rows\n"
     ]
    }
   ],
   "source": [
    "# Preprocessing with SageMath + pandas\n",
    "import pandas as pd\n",
    "from builtins import float\n",
    "\n",
    "# Load historical data\n",
    "df = pd.read_csv('../data/bitcoin_historical.csv')\n",
    "\n",
    "# Convert timestamp to datetime\n",
    "df['timestamp'] = pd.to_datetime(df['timestamp'])\n",
    "\n",
    "# Drop missing values (if any)\n",
    "df = df.dropna()\n",
    "\n",
    "# Remove outliers (Bitcoin should be between $100 and $200,000 for sanity check)\n",
    "df = df[(df['price_usd'] > 100) & (df['price_usd'] < 200000)]\n",
    "\n",
    "# Optional: sort by time (in case it's unordered)\n",
    "df = df.sort_values(by='timestamp')\n",
    "\n",
    "# Save cleaned data\n",
    "df.to_csv('../data/bitcoin_cleaned.csv', index=False)\n",
    "\n",
    "print(f\"✅ Cleaned data saved: {len(df)} rows\")\n"
   ]
  },
  {
   "cell_type": "code",
   "execution_count": null,
   "id": "35637a5b-b611-4e33-8a03-c7547cf51f5e",
   "metadata": {},
   "outputs": [],
   "source": []
  }
 ],
 "metadata": {
  "kernelspec": {
   "display_name": "SageMath 10.6",
   "language": "sage",
   "name": "sagemath-10.6"
  },
  "language_info": {
   "codemirror_mode": {
    "name": "ipython",
    "version": 3
   },
   "file_extension": ".py",
   "mimetype": "text/x-python",
   "name": "python",
   "nbconvert_exporter": "python",
   "pygments_lexer": "ipython3",
   "version": "3.12.5"
  }
 },
 "nbformat": 4,
 "nbformat_minor": 5
}
