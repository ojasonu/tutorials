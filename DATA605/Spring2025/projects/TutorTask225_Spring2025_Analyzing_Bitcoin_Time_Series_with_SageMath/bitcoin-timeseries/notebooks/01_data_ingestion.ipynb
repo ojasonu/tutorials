{
 "cells": [
  {
   "cell_type": "code",
   "execution_count": 13,
   "id": "d018ee44-a1d1-4463-abe2-2878341b800f",
   "metadata": {},
   "outputs": [
    {
     "name": "stdout",
     "output_type": "stream",
     "text": [
      "❌ Failed to fetch historical data: 429\n",
      "❌ Failed to fetch live price: 429\n"
     ]
    }
   ],
   "source": [
    "# Ensure Python's built-in int() and float() override Sage's types\n",
    "from builtins import int, float\n",
    "import requests\n",
    "import pandas as pd\n",
    "from datetime import datetime\n",
    "import os\n",
    "\n",
    "# Ensure data folder exists\n",
    "os.makedirs('../data', exist_ok=True)\n",
    "\n",
    "### A. Fetch Historical Data (last 365 days)\n",
    "hist_url = 'https://api.coingecko.com/api/v3/coins/bitcoin/market_chart'\n",
    "hist_params = {'vs_currency': 'usd', 'days': '60'}\n",
    "\n",
    "hist_response = requests.get(hist_url, params=hist_params)\n",
    "if hist_response.status_code == 200:\n",
    "    data = hist_response.json()\n",
    "    prices_raw = data['prices']\n",
    "\n",
    "    # Explicitly cast values to Python float and int to avoid Sage Rational error\n",
    "    timestamps = [datetime.fromtimestamp(float(p[0]) / 1000) for p in prices_raw]\n",
    "    prices = [float(p[1]) for p in prices_raw]\n",
    "\n",
    "    df_hist = pd.DataFrame({'timestamp': timestamps, 'price_usd': prices})\n",
    "    df_hist.to_csv('../data/bitcoin_historical.csv', index=False)\n",
    "    print(f\"✅ Historical data saved: {len(df_hist)} rows\")\n",
    "else:\n",
    "    print(f\"❌ Failed to fetch historical data: {hist_response.status_code}\")\n",
    "\n",
    "### B. Fetch Live Price\n",
    "live_url = 'https://api.coingecko.com/api/v3/simple/price?ids=bitcoin&vs_currencies=usd'\n",
    "live_response = requests.get(live_url)\n",
    "\n",
    "if live_response.status_code == 200:\n",
    "    price = float(live_response.json()['bitcoin']['usd'])\n",
    "    timestamp = datetime.now().strftime('%Y-%m-%d %H:%M:%S')\n",
    "    df_live = pd.DataFrame([{'timestamp': timestamp, 'price_usd': price}])\n",
    "\n",
    "    live_path = '../data/bitcoin_live.csv'\n",
    "    if os.path.exists(live_path):\n",
    "        df_live.to_csv(live_path, mode='a', header=False, index=False)\n",
    "    else:\n",
    "        df_live.to_csv(live_path, index=False)\n",
    "\n",
    "    print(f\"✅ Live price saved: {price} USD\")\n",
    "else:\n",
    "    print(f\"❌ Failed to fetch live price: {live_response.status_code}\")\n"
   ]
  },
  {
   "cell_type": "code",
   "execution_count": null,
   "id": "ccac50d2-5b0f-4448-bdfc-a0de4a0f10ed",
   "metadata": {},
   "outputs": [],
   "source": []
  }
 ],
 "metadata": {
  "kernelspec": {
   "display_name": "SageMath 10.6",
   "language": "sage",
   "name": "sagemath-10.6"
  },
  "language_info": {
   "codemirror_mode": {
    "name": "ipython",
    "version": 3
   },
   "file_extension": ".py",
   "mimetype": "text/x-python",
   "name": "python",
   "nbconvert_exporter": "python",
   "pygments_lexer": "ipython3",
   "version": "3.12.5"
  }
 },
 "nbformat": 4,
 "nbformat_minor": 5
}
