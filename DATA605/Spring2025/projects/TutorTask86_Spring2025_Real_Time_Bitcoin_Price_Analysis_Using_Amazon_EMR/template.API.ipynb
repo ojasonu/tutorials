{
 "cells": [
  {
   "cell_type": "markdown",
   "id": "183c2248-ea3d-43ba-b87e-d821bba1bbc6",
   "metadata": {},
   "source": [
    "# Template API Notebook\n",
    "\n",
    "This is a template notebook. The first heading should be the title of what notebook is about. For example, if it is a neo4j tutorial the heading should be `Neo4j API`.\n",
    "\n",
    "- Add description of what the notebook does.\n",
    "- Point to references, e.g. (neo4j.API.md)\n",
    "- Add citations.\n",
    "- Keep the notebook flow clear.\n",
    "- Comments should be imperative and have a period at the end.\n",
    "- Your code should be well commented. \n",
    "\n",
    "The name of this notebook should in the following format:\n",
    "- if the notebook is exploring `pycaret API`, then it is `pycaret.API.ipynb`\n",
    "\n",
    "Follow the reference to write notebooks in a clear manner: https://github.com/causify-ai/helpers/blob/master/docs/coding/all.jupyter_notebook.how_to_guide.md"
   ]
  },
  {
   "cell_type": "code",
   "execution_count": 2,
   "id": "265e0d58-a7cd-4edf-a0b4-96b60220e801",
   "metadata": {},
   "outputs": [
    {
     "name": "stdout",
     "output_type": "stream",
     "text": [
      "The autoreload extension is already loaded. To reload it, use:\n",
      "  %reload_ext autoreload\n"
     ]
    }
   ],
   "source": [
    "%load_ext autoreload\n",
    "%autoreload 2\n",
    "%matplotlib inline"
   ]
  },
  {
   "cell_type": "markdown",
   "id": "d3b2f997-5c9b-4238-b6d5-e5f2cea43809",
   "metadata": {},
   "source": [
    "## Imports"
   ]
  },
  {
   "cell_type": "code",
   "execution_count": 8,
   "id": "d1480ee9-d6a6-437d-b927-da6cbb05bdf5",
   "metadata": {},
   "outputs": [],
   "source": [
    "import logging\n",
    "# Import libraries in this section.\n",
    "# Avoid imports like import *, from ... import ..., from ... import *, etc.\n",
    "\n",
    "import helpers.hdbg as hdbg\n",
    "import helpers.hprint as hprint"
   ]
  },
  {
   "cell_type": "markdown",
   "id": "f9208cc9-837d-4fec-a312-9c4aa5b7648d",
   "metadata": {},
   "source": [
    "## Configuration"
   ]
  },
  {
   "cell_type": "code",
   "execution_count": 9,
   "id": "9a2d7a9c-c6c5-48c9-8445-11c97045d00b",
   "metadata": {},
   "outputs": [
    {
     "name": "stdout",
     "output_type": "stream",
     "text": [
      "\u001b[0mWARNING: Running in Jupyter\n",
      "INFO  > cmd='/venv/lib/python3.12/site-packages/ipykernel_launcher.py -f /home/.local/share/jupyter/runtime/kernel-085a2ce7-6161-4c8a-92d5-492051832f3c.json'\n"
     ]
    }
   ],
   "source": [
    "hdbg.init_logger(verbosity=logging.INFO)\n",
    "\n",
    "_LOG = logging.getLogger(__name__)\n",
    "\n",
    "hprint.config_notebook()"
   ]
  },
  {
   "cell_type": "markdown",
   "id": "79c37ba3-bd5d-4a44-87df-645eee54977a",
   "metadata": {},
   "source": [
    "## Make the notebook flow clear\n",
    "Each notebook needs to follow a clear and logical flow, e.g:\n",
    "- Load data\n",
    "- Compute stats\n",
    "- Clean data\n",
    "- Compute stats\n",
    "- Do analysis\n",
    "- Show results"
   ]
  },
  {
   "cell_type": "code",
   "execution_count": 10,
   "id": "a8a109cd-fc8e-4b9e-9dc0-4fc8d4126ad8",
   "metadata": {},
   "outputs": [],
   "source": [
    "class Template:\n",
    "    \"\"\"\n",
    "    Brief imperative description of what the class does in one line, if needed.\n",
    "    \"\"\"\n",
    "    def __init__(self):\n",
    "        pass\n",
    "    \n",
    "    def method1(self, arg1:int) -> None:\n",
    "        \"\"\"\n",
    "        Brief imperative description of what the method does in one line.\n",
    "\n",
    "        You can elaborate more in the method docstring in this section, for e.g. explaining \n",
    "        the formula/algorithm. Every method/function should have a docstring, typehints and include the\n",
    "        parameters and return as follows:\n",
    "\n",
    "        :param arg1: description of arg1\n",
    "        :return: description of return\n",
    "        \"\"\"\n",
    "        # Code bloks go here.\n",
    "        # Make sure to include comments to explain what the code is doing.\n",
    "        # No empty lines between code blocks.\n",
    "        pass\n",
    "\n",
    "\n",
    "def template_function(arg1:int) -> None:\n",
    "    \"\"\"\n",
    "    Brief imperative description of what the function does in one line.\n",
    "\n",
    "    You can elaborate more in the function docstring in this section, for e.g. explaining \n",
    "    the formula/algorithm. Every function should have a docstring, typehints and include the\n",
    "    parameters and return as follows:\n",
    "\n",
    "    :param arg1: description of arg1\n",
    "    :return: description of return\n",
    "    \"\"\"\n",
    "    # Code bloks go here.\n",
    "    # Make sure to include comments to explain what the code is doing.\n",
    "    # No empty lines between code blocks.\n",
    "    pass\n"
   ]
  },
  {
   "cell_type": "markdown",
   "id": "00926523-ae59-497d-bba8-b22e58333849",
   "metadata": {},
   "source": [
    "## The flow should be highlighted using headings in markdown\n",
    "```\n",
    "# Level 1\n",
    "## Level 2\n",
    "### Level 3\n",
    "```"
   ]
  }
 ],
 "metadata": {
  "kernelspec": {
   "display_name": "Python 3 (ipykernel)",
   "language": "python",
   "name": "python3"
  },
  "language_info": {
   "codemirror_mode": {
    "name": "ipython",
    "version": 3
   },
   "file_extension": ".py",
   "mimetype": "text/x-python",
   "name": "python",
   "nbconvert_exporter": "python",
   "pygments_lexer": "ipython3",
   "version": "3.12.3"
  }
 },
 "nbformat": 4,
 "nbformat_minor": 5
}
