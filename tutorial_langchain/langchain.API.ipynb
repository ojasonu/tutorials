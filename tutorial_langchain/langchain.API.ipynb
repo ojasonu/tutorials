{
 "cells": [
  {
   "cell_type": "markdown",
   "id": "3e5053c0-9a04-4d4b-af6a-6964d84c1f65",
   "metadata": {},
   "source": [
    "# LangChain API Tutorial\n",
    "\n",
    "This tutorial demonstrates how to use LangChain's core functionalities.\n",
    "LangChain is a powerful framework designed to facilitate building language model-powered applications.\n",
    "We'll explore its components, including prompt creation, chains, retrieval, and agents."
   ]
  },
  {
   "cell_type": "code",
   "execution_count": null,
   "id": "d6cfaac2-9691-4b16-9dbb-302a8950e079",
   "metadata": {},
   "outputs": [],
   "source": [
    "# Use this to enable vim shortcuts.\n",
    "# !sudo /bin/bash -c \"(source /venv/bin/activate; pip install --quiet jupyterlab-vim)\"\n",
    "# !jupyter labextension enable"
   ]
  },
  {
   "cell_type": "code",
   "execution_count": 1,
   "id": "8031fb29-6d7a-4081-bf1b-984cffa9bf99",
   "metadata": {},
   "outputs": [],
   "source": [
    "%load_ext autoreload\n",
    "%autoreload 2"
   ]
  },
  {
   "cell_type": "markdown",
   "id": "37718519",
   "metadata": {},
   "source": [
    "## Setting Up\n",
    "\n",
    "We'll start by setting up the environment and initializing our language model (`ChatOpenAI`).\n",
    "Here, we're using OpenAI's `gpt-4o-mini` model with a temperature of 0 for deterministic outputs."
   ]
  },
  {
   "cell_type": "code",
   "execution_count": null,
   "id": "7fc0a856-9e3b-4001-92dd-68f739434a1a",
   "metadata": {
    "lines_to_next_cell": 2
   },
   "outputs": [],
   "source": [
    "#!sudo /venv/bin/pip install langchain --quiet\n",
    "#!sudo /venv/bin/pip install -U langchain-community --quiet\n",
    "#!sudo /venv/bin/pip install -U langchain-openai --quiet\n",
    "#!sudo /venv/bin/pip install -U langchain-core --quiet\n",
    "#!sudo /venv/bin/pip install -U langchainhub --quiet\n",
    "#!sudo /venv/bin/pip install -U unstructured --quiet\n",
    "#!sudo /venv/bin/pip install --quiet chromadb"
   ]
  },
  {
   "cell_type": "code",
   "execution_count": 4,
   "id": "4d3cf220-31e0-4782-b66d-9df5d10685bd",
   "metadata": {},
   "outputs": [],
   "source": [
    "import logging\n",
    "import os\n",
    "import random\n",
    "import time\n",
    "\n",
    "import helpers.hdbg as hdbg\n",
    "import langchain\n",
    "import langchain.agents as lngchagents\n",
    "import langchain.document_loaders.csv_loader as csvloader\n",
    "import langchain.hub\n",
    "import langchain.prompts as lngchprmt\n",
    "import langchain.schema.messages as lnchscme\n",
    "import langchain.schema.runnable as lngchschrun\n",
    "import langchain_community.vectorstores as vectorstores\n",
    "import langchain_core.output_parsers as lngchoutpar\n",
    "import langchain_openai as lngchopai"
   ]
  },
  {
   "cell_type": "code",
   "execution_count": 5,
   "id": "efcb5daf-ebf6-4574-8037-eeb7222b580d",
   "metadata": {},
   "outputs": [
    {
     "name": "stdout",
     "output_type": "stream",
     "text": [
      "\u001b[0mWARNING: Running in Jupyter\n"
     ]
    }
   ],
   "source": [
    "# Avoid messages from OpenAI REST interface.\n",
    "hdbg.init_logger(verbosity=logging.CRITICAL)\n",
    "\n",
    "_LOG = logging.getLogger(__name__)"
   ]
  },
  {
   "cell_type": "markdown",
   "id": "c09cfe05-5c9d-4d48-ab7e-c9fafd34a6c5",
   "metadata": {},
   "source": [
    "## Add your OpenAPI key and initiate GPT model"
   ]
  },
  {
   "cell_type": "code",
   "execution_count": 6,
   "id": "f5e73ca7-6473-4abe-b903-8036d2099256",
   "metadata": {},
   "outputs": [],
   "source": [
    "# Add OpenAPI to environment variable.\n",
    "#os.environ[\"OPENAI_API_KEY\"] = \"\"\n",
    "# Initiate OpenAI model.\n",
    "chat_model = lngchopai.ChatOpenAI(model=\"gpt-4o-mini\", temperature=0)"
   ]
  },
  {
   "cell_type": "markdown",
   "id": "53ea58a6",
   "metadata": {},
   "source": [
    "## Message Handling with `HumanMessage` and `SystemMessage`\n",
    "\n",
    "LangChain uses `HumanMessage` and `SystemMessage` objects to structure conversations.\n",
    "- **`SystemMessage`**: Defines the behavior of the assistant.\n",
    "- **`HumanMessage`**: Represents user input.\n",
    "\n",
    "Let's see how this works in practice with some example messages."
   ]
  },
  {
   "cell_type": "code",
   "execution_count": 7,
   "id": "59dc1486-f47f-462f-a507-219137b443ad",
   "metadata": {},
   "outputs": [],
   "source": [
    "# Define system behavior and user input.\n",
    "messages = [\n",
    "    lnchscme.SystemMessage(\n",
    "        content=\"You're an assistant knowledgeable about healthcare.\"\n",
    "    ),\n",
    "    lnchscme.HumanMessage(content=\"What is Medicaid managed care?\"),\n",
    "]\n",
    "# Generate a response.\n",
    "val = chat_model.invoke(messages)"
   ]
  },
  {
   "cell_type": "code",
   "execution_count": 8,
   "id": "0caf48fd-cfa0-4d1a-974c-4dbc42b5775c",
   "metadata": {},
   "outputs": [
    {
     "data": {
      "text/plain": [
       "langchain_core.messages.ai.AIMessage"
      ]
     },
     "execution_count": 8,
     "metadata": {},
     "output_type": "execute_result"
    }
   ],
   "source": [
    "type(val)"
   ]
  },
  {
   "cell_type": "code",
   "execution_count": 12,
   "id": "c796188b-6894-4e68-823c-9ffe61957b81",
   "metadata": {},
   "outputs": [
    {
     "name": "stdout",
     "output_type": "stream",
     "text": [
      "Medicaid managed care is a system of delivering Medicaid benefits through private health insurance plans. In this model, state Medicaid programs contract with private insurance companies to provide a range of healthcare services to Medicaid beneficiaries. Here are some key features of Medicaid managed care:\n",
      "\n",
      "1. **Care Coordination**: Managed care organizations (MCOs) often focus on coordinating care for their members, which can lead to improved health outcomes. They may provide case management services to help beneficiaries navigate the healthcare system.\n",
      "\n",
      "2. **Cost Control**: By contracting with private insurers, states aim to control costs while ensuring that beneficiaries receive necessary services. MCOs are incentivized to manage care efficiently, which can help reduce unnecessary hospitalizations and emergency room visits.\n",
      "\n",
      "3. **Network of Providers**: MCOs typically have a network of healthcare providers, including primary care physicians, specialists, and hospitals. Beneficiaries usually need to receive care from providers within this network to have their services covered.\n",
      "\n",
      "4. **Preventive Services**: Many Medicaid managed care plans emphasize preventive care and wellness services, aiming to keep members healthy and reduce the need for more expensive treatments.\n",
      "\n",
      "5. **Variety of Services**: Medicaid managed care plans may offer a range of services beyond traditional medical care, including behavioral health services, dental care, and long-term services and supports, depending on the state’s program.\n",
      "\n",
      "6. **State Flexibility**: States have flexibility in designing their Medicaid managed care programs, including the types of services covered, payment structures, and the populations served.\n",
      "\n",
      "7. **Enrollment**: Beneficiaries may be automatically enrolled in a managed care plan or have the option to choose from several plans. Enrollment processes can vary by state.\n",
      "\n",
      "Overall, Medicaid managed care aims to improve access to care, enhance the quality of services, and manage costs effectively for both states and beneficiaries.\n"
     ]
    }
   ],
   "source": [
    "print(val.content)"
   ]
  },
  {
   "cell_type": "code",
   "execution_count": 13,
   "id": "7fc6d813-34b9-4c7c-9695-9a5186bde331",
   "metadata": {},
   "outputs": [
    {
     "data": {
      "text/plain": [
       "{'input_tokens': 24,\n",
       " 'output_tokens': 371,\n",
       " 'total_tokens': 395,\n",
       " 'input_token_details': {'audio': 0, 'cache_read': 0},\n",
       " 'output_token_details': {'audio': 0, 'reasoning': 0}}"
      ]
     },
     "execution_count": 13,
     "metadata": {},
     "output_type": "execute_result"
    }
   ],
   "source": [
    "val.usage_metadata"
   ]
  },
  {
   "cell_type": "markdown",
   "id": "bc351315",
   "metadata": {},
   "source": [
    "## Restricting Assistant's Scope\n",
    "\n",
    "You can further control the assistant's responses by tailoring the `SystemMessage`.\n",
    "For instance, we'll restrict it to only answer healthcare-related questions."
   ]
  },
  {
   "cell_type": "code",
   "execution_count": 14,
   "id": "ccc34d4c-72df-4be5-97a9-f201d334524c",
   "metadata": {},
   "outputs": [
    {
     "name": "stdout",
     "output_type": "stream",
     "text": [
      "I'm here to help with healthcare-related questions. If you have any health concerns or questions about medical topics, feel free to ask!\n"
     ]
    }
   ],
   "source": [
    "messages = [\n",
    "    lnchscme.SystemMessage(\n",
    "        content=\"You're an assistant knowledgeable about healthcare. Only answer healthcare-related questions.\"\n",
    "    ),\n",
    "    lnchscme.HumanMessage(content=\"How do I change a tire?\"),\n",
    "]\n",
    "val = chat_model.invoke(messages)\n",
    "print(val.content)"
   ]
  },
  {
   "cell_type": "markdown",
   "id": "6d825081",
   "metadata": {},
   "source": [
    "## Creating Custom Prompts with `ChatPromptTemplate`\n",
    "\n",
    "Custom prompts are essential for tasks like summarization, question answering, or content generation.\n",
    "We'll use `ChatPromptTemplate` to define structured prompts and format them dynamically."
   ]
  },
  {
   "cell_type": "code",
   "execution_count": 15,
   "id": "a1916da5-713c-4c19-827f-d700319cb3e6",
   "metadata": {},
   "outputs": [
    {
     "name": "stdout",
     "output_type": "stream",
     "text": [
      "Human: \n",
      "Your job is to use patient reviews to answer questions about their experience at a hospital.\n",
      "Use the following context to answer questions. Be as detailed as possible, but don't make up\n",
      "any information that's not from the context. If you don't know an answer, say you don't know.\n",
      "\n",
      "I had a great stay!\n",
      "\n",
      "Did anyone have a positive experience?\n",
      "\n"
     ]
    }
   ],
   "source": [
    "# Define a custom template for hospital reviews.\n",
    "review_template_str = \"\"\"\n",
    "Your job is to use patient reviews to answer questions about their experience at a hospital.\n",
    "Use the following context to answer questions. Be as detailed as possible, but don't make up\n",
    "any information that's not from the context. If you don't know an answer, say you don't know.\n",
    "\n",
    "{context}\n",
    "\n",
    "{question}\n",
    "\"\"\"\n",
    "\n",
    "review_template = lngchprmt.ChatPromptTemplate.from_template(review_template_str)\n",
    "\n",
    "# Provide context and a question.\n",
    "context = \"I had a great stay!\"\n",
    "question = \"Did anyone have a positive experience?\"\n",
    "\n",
    "# Format the template.\n",
    "print(review_template.format(context=context, question=question))"
   ]
  },
  {
   "cell_type": "markdown",
   "id": "a9685209",
   "metadata": {},
   "source": [
    "## Advanced Prompt Structuring\n",
    "\n",
    "Sometimes, you may need to structure prompts with multiple components, like system instructions and user input.\n",
    "`SystemMessagePromptTemplate` and `HumanMessagePromptTemplate` allow fine-grained control."
   ]
  },
  {
   "cell_type": "code",
   "execution_count": 16,
   "id": "3217aad3-3b15-4d2c-93f3-5194493ef5f4",
   "metadata": {},
   "outputs": [
    {
     "name": "stdout",
     "output_type": "stream",
     "text": [
      "[SystemMessage(content=\"\\nYour job is to use patient reviews to answer questions about their experience at a hospital.\\nUse the following context to answer questions. Be as detailed as possible, but don't make up\\nany information that's not from the context. If you don't know an answer, say you don't know.\\n\\nI had a great stay!\\n\\nDid anyone have a positive experience?\\n\", additional_kwargs={}, response_metadata={}), HumanMessage(content='Did anyone have a positive experience?', additional_kwargs={}, response_metadata={})]\n"
     ]
    }
   ],
   "source": [
    "# Define system and human message templates.\n",
    "review_system_prompt = lngchprmt.SystemMessagePromptTemplate(\n",
    "    prompt=lngchprmt.PromptTemplate(\n",
    "        input_variables=[\"context\"], template=review_template_str\n",
    "    )\n",
    ")\n",
    "\n",
    "review_human_prompt = lngchprmt.HumanMessagePromptTemplate(\n",
    "    prompt=lngchprmt.PromptTemplate(\n",
    "        input_variables=[\"question\"], template=\"{question}\"\n",
    "    )\n",
    ")\n",
    "\n",
    "# Combine into a chat prompt template.\n",
    "review_prompt_template = lngchprmt.ChatPromptTemplate(\n",
    "    input_variables=[\"context\", \"question\"],\n",
    "    messages=[review_system_prompt, review_human_prompt],\n",
    ")\n",
    "\n",
    "# Format messages.\n",
    "formatted_messages = review_prompt_template.format_messages(\n",
    "    context=context, question=question\n",
    ")\n",
    "print(formatted_messages)"
   ]
  },
  {
   "cell_type": "code",
   "execution_count": 17,
   "id": "4f7f3cad-f2aa-4d31-ac8b-4139a535a090",
   "metadata": {},
   "outputs": [
    {
     "name": "stdout",
     "output_type": "stream",
     "text": [
      "\n",
      "Your job is to use patient reviews to answer questions about their experience at a hospital.\n",
      "Use the following context to answer questions. Be as detailed as possible, but don't make up\n",
      "any information that's not from the context. If you don't know an answer, say you don't know.\n",
      "\n",
      "I had a great stay!\n",
      "\n",
      "Did anyone have a positive experience?\n",
      "\n"
     ]
    }
   ],
   "source": [
    "print(formatted_messages[0].content)"
   ]
  },
  {
   "cell_type": "code",
   "execution_count": 18,
   "id": "3c1e006a-af7e-4a9b-aa43-5d578ed6b5d8",
   "metadata": {},
   "outputs": [
    {
     "name": "stdout",
     "output_type": "stream",
     "text": [
      "Did anyone have a positive experience?\n"
     ]
    }
   ],
   "source": [
    "print(formatted_messages[1].content)"
   ]
  },
  {
   "cell_type": "markdown",
   "id": "db841519-c997-4d8a-969b-88fc094d03aa",
   "metadata": {},
   "source": [
    "## Chains\n",
    "\n",
    "Chains are a fundamental abstraction in LangChain, allowing you to combine prompts and models into workflows.\n",
    "We'll create a simple chain to answer questions based on a given context."
   ]
  },
  {
   "cell_type": "code",
   "execution_count": 19,
   "id": "b2db8f73-e443-400b-996b-8b7865fa7de4",
   "metadata": {},
   "outputs": [
    {
     "data": {
      "text/plain": [
       "'Yes, one patient mentioned that they had a great stay at the hospital, indicating a positive experience.'"
      ]
     },
     "execution_count": 19,
     "metadata": {},
     "output_type": "execute_result"
    }
   ],
   "source": [
    "# Create a chain using the template and chat model.\n",
    "output_parser = lngchoutpar.StrOutputParser()\n",
    "review_chain = review_prompt_template | chat_model | output_parser\n",
    "\n",
    "# Test the chain.\n",
    "review_chain.invoke({\"context\": context, \"question\": question})"
   ]
  },
  {
   "cell_type": "markdown",
   "id": "d2999afc",
   "metadata": {},
   "source": [
    "## Retrieval with FAISS\n",
    "\n",
    "FAISS (Facebook AI Similarity Search) is used to efficiently retrieve relevant documents based on similarity scores.\n",
    "We'll demonstrate how to load a dataset, create embeddings, and retrieve documents."
   ]
  },
  {
   "cell_type": "code",
   "execution_count": 22,
   "id": "7c117996-b78c-4127-9fdf-1702d66b9817",
   "metadata": {},
   "outputs": [
    {
     "data": {
      "text/html": [
       "<div>\n",
       "<style scoped>\n",
       "    .dataframe tbody tr th:only-of-type {\n",
       "        vertical-align: middle;\n",
       "    }\n",
       "\n",
       "    .dataframe tbody tr th {\n",
       "        vertical-align: top;\n",
       "    }\n",
       "\n",
       "    .dataframe thead th {\n",
       "        text-align: right;\n",
       "    }\n",
       "</style>\n",
       "<table border=\"1\" class=\"dataframe\">\n",
       "  <thead>\n",
       "    <tr style=\"text-align: right;\">\n",
       "      <th></th>\n",
       "      <th>review_id</th>\n",
       "      <th>visit_id</th>\n",
       "      <th>review</th>\n",
       "      <th>physician_name</th>\n",
       "      <th>hospital_name</th>\n",
       "      <th>patient_name</th>\n",
       "    </tr>\n",
       "  </thead>\n",
       "  <tbody>\n",
       "    <tr>\n",
       "      <th>0</th>\n",
       "      <td>0</td>\n",
       "      <td>6997</td>\n",
       "      <td>The medical staff at the hospital were incredi...</td>\n",
       "      <td>Laura Brown</td>\n",
       "      <td>Wallace-Hamilton</td>\n",
       "      <td>Christy Johnson</td>\n",
       "    </tr>\n",
       "    <tr>\n",
       "      <th>1</th>\n",
       "      <td>9</td>\n",
       "      <td>8138</td>\n",
       "      <td>The hospital's commitment to patient education...</td>\n",
       "      <td>Steven Watson</td>\n",
       "      <td>Wallace-Hamilton</td>\n",
       "      <td>Anna Frazier</td>\n",
       "    </tr>\n",
       "    <tr>\n",
       "      <th>2</th>\n",
       "      <td>11</td>\n",
       "      <td>680</td>\n",
       "      <td>The hospital's commitment to patient safety wa...</td>\n",
       "      <td>Chase Mcpherson Jr.</td>\n",
       "      <td>Wallace-Hamilton</td>\n",
       "      <td>Abigail Mitchell</td>\n",
       "    </tr>\n",
       "  </tbody>\n",
       "</table>\n",
       "</div>"
      ],
      "text/plain": [
       "   review_id  visit_id                                             review  \\\n",
       "0          0      6997  The medical staff at the hospital were incredi...   \n",
       "1          9      8138  The hospital's commitment to patient education...   \n",
       "2         11       680  The hospital's commitment to patient safety wa...   \n",
       "\n",
       "        physician_name     hospital_name      patient_name  \n",
       "0          Laura Brown  Wallace-Hamilton   Christy Johnson  \n",
       "1        Steven Watson  Wallace-Hamilton      Anna Frazier  \n",
       "2  Chase Mcpherson Jr.  Wallace-Hamilton  Abigail Mitchell  "
      ]
     },
     "execution_count": 22,
     "metadata": {},
     "output_type": "execute_result"
    }
   ],
   "source": [
    "import pandas as pd\n",
    "\n",
    "REVIEWS_CSV_PATH = \"data/reviews.csv\"\n",
    "\n",
    "df = pd.read_csv(REVIEWS_CSV_PATH)\n",
    "df.head(3)"
   ]
  },
  {
   "cell_type": "code",
   "execution_count": 26,
   "id": "f5b5ffa8-1ddb-45d8-a7a0-817a399bce67",
   "metadata": {},
   "outputs": [
    {
     "data": {
      "text/plain": [
       "1005"
      ]
     },
     "execution_count": 26,
     "metadata": {},
     "output_type": "execute_result"
    }
   ],
   "source": [
    "len(reviews)"
   ]
  },
  {
   "cell_type": "code",
   "execution_count": 23,
   "id": "4eca8f64-fd83-41f5-ae96-d2c25f41da5f",
   "metadata": {},
   "outputs": [],
   "source": [
    "REVIEWS_CHROMA_PATH = \"chroma_data\"\n",
    "\n",
    "# Load reviews dataset.\n",
    "loader = csvloader.CSVLoader(file_path=REVIEWS_CSV_PATH, source_column=\"review\")\n",
    "reviews = loader.load()\n",
    "\n",
    "# Create a vector store.\n",
    "reviews_vector_db = vectorstores.Chroma.from_documents(\n",
    "    reviews, lngchopai.OpenAIEmbeddings(), persist_directory=REVIEWS_CHROMA_PATH\n",
    ")"
   ]
  },
  {
   "cell_type": "code",
   "execution_count": 32,
   "id": "5cf271c1-9dfc-4a56-8f42-fd1c923cb004",
   "metadata": {},
   "outputs": [
    {
     "name": "stdout",
     "output_type": "stream",
     "text": [
      "#0\n",
      "review_id: 73\n",
      "visit_id: 7696\n",
      "review: I had a frustrating experience at the hospital. The communication between the medical staff and me was unclear, leading to misunderstandings about my treatment plan. Improvement is needed in this area.\n",
      "physician_name: Maria Thompson\n",
      "hospital_name: Little-Spencer\n",
      "patient_name: Terri Smith\n",
      "#1\n",
      "review_id: 521\n",
      "visit_id: 631\n",
      "review: I had a challenging time at the hospital. The medical care was adequate, but the lack of communication between the staff and me left me feeling frustrated and confused about my treatment plan.\n",
      "physician_name: Samantha Mendez\n",
      "hospital_name: Richardson-Powell\n",
      "patient_name: Kurt Gordon\n",
      "#2\n",
      "review_id: 785\n",
      "visit_id: 2593\n",
      "review: My stay at the hospital was challenging. The medical care was adequate, but the lack of communication from the staff created some frustration.\n",
      "physician_name: Brittany Harris\n",
      "hospital_name: Jones, Taylor and Garcia\n",
      "patient_name: Ryan Jacobs\n"
     ]
    }
   ],
   "source": [
    "# Retrieve relevant documents.\n",
    "question = \"Has anyone complained about communication with the hospital staff?\"\n",
    "relevant_docs = reviews_vector_db.similarity_search(question, k=3)\n",
    "\n",
    "print(\"#0\\n\" + relevant_docs[0].page_content)\n",
    "print(\"#1\\n\" + relevant_docs[1].page_content)\n",
    "print(\"#2\\n\" + relevant_docs[2].page_content)"
   ]
  },
  {
   "cell_type": "markdown",
   "id": "d1a5db6e-b21b-40d8-8416-a4b367d7590f",
   "metadata": {},
   "source": [
    "## Building a Retrieval-Enhanced QA Chain\n",
    "\n",
    "We'll combine retrieval and prompts to build a more dynamic question-answering system.\n",
    "This chain retrieves relevant documents and uses them as context for the assistant."
   ]
  },
  {
   "cell_type": "code",
   "execution_count": 35,
   "id": "21d1b143-17c9-4b58-befa-a2f69257e374",
   "metadata": {
    "lines_to_next_cell": 2
   },
   "outputs": [
    {
     "data": {
      "text/plain": [
       "'Yes, several patients have complained about communication with the hospital staff. For example, Terri Smith mentioned that the communication between the medical staff and herself was unclear, leading to misunderstandings about her treatment plan. Kurt Gordon expressed frustration and confusion due to a lack of communication, despite finding the medical care adequate. Ryan Jacobs also noted that the lack of communication from the staff created some frustration during his stay. Additionally, Shannon Williams had a mixed experience, stating that while the medical care was good, the lack of communication made her stay less enjoyable.'"
      ]
     },
     "execution_count": 35,
     "metadata": {},
     "output_type": "execute_result"
    }
   ],
   "source": [
    "# Create a retriever.\n",
    "reviews_retriever = reviews_vector_db.as_retriever(k=10)\n",
    "\n",
    "# Build the QA chain.\n",
    "review_chain = (\n",
    "    {\"context\": reviews_retriever, \"question\": lngchschrun.RunnablePassthrough()}\n",
    "    | review_prompt_template\n",
    "    | chat_model\n",
    "    | lngchoutpar.StrOutputParser()\n",
    ")\n",
    "\n",
    "# Test the QA chain.\n",
    "question = \"Has anyone complained about communication with the hospital staff?\"\n",
    "#question = \"Has anyone complained the price of eggs?\"\n",
    "review_chain.invoke(question)"
   ]
  },
  {
   "cell_type": "markdown",
   "id": "9988de7a",
   "metadata": {
    "lines_to_next_cell": 2
   },
   "source": [
    "## Agents\n",
    "\n",
    "Agents are more flexible than chains, as they can decide the sequence of actions to take.\n",
    "We'll demonstrate an agent that can answer questions using tools for reviews and wait times.\n",
    "\n",
    "- The chain is hardwired\n",
    "- An agent is an LLM that decides the sequence of actions to execute."
   ]
  },
  {
   "cell_type": "code",
   "execution_count": 39,
   "id": "eb98d4ac-8727-45f6-992d-4513d9714d51",
   "metadata": {},
   "outputs": [],
   "source": [
    "def get_current_wait_time(hospital: str) -> int | str:\n",
    "    \"\"\"\n",
    "    Dummy function to generate fake wait times.\n",
    "    \"\"\"\n",
    "    if hospital not in [\"A\", \"B\", \"C\", \"D\"]:\n",
    "        return f\"Hospital {hospital} does not exist\"\n",
    "    # Simulate API call delay.\n",
    "    time.sleep(1)\n",
    "    return random.randint(0, 10000)"
   ]
  },
  {
   "cell_type": "code",
   "execution_count": 40,
   "id": "b812a5c8-03db-4cbd-b7e3-c553933bb27c",
   "metadata": {},
   "outputs": [
    {
     "name": "stderr",
     "output_type": "stream",
     "text": [
      "/venv/lib/python3.12/site-packages/langsmith/client.py:278: LangSmithMissingAPIKeyWarning: API key must be provided when using hosted LangSmith API\n",
      "  warnings.warn(\n"
     ]
    }
   ],
   "source": [
    "# Tool is an interface that an agent uses to interact with a function.\n",
    "# Each description explains the Agent when to call each tool.\n",
    "tools = [\n",
    "    lngchagents.Tool(\n",
    "        name=\"Reviews\",\n",
    "        func=review_chain.invoke,\n",
    "        description=\"\"\"Useful when you need to answer questions\n",
    "        about patient reviews or experiences at the hospital.\n",
    "        Not useful for answering questions about specific visit\n",
    "        details such as payer, billing, treatment, diagnosis,\n",
    "        chief complaint, hospital, or physician information.\n",
    "        Pass the entire question as input to the tool. For instance,\n",
    "        if the question is \"What do patients think about the triage system?\",\n",
    "        the input should be \"What do patients think about the triage system?\"\n",
    "        \"\"\",\n",
    "    ),\n",
    "    lngchagents.Tool(\n",
    "        name=\"Waits\",\n",
    "        func=get_current_wait_time,\n",
    "        description=\"\"\"Use when asked about current wait times\n",
    "        at a specific hospital. This tool can only get the current\n",
    "        wait time at a hospital and does not have any information about\n",
    "        aggregate or historical wait times. This tool returns wait times in\n",
    "        minutes. Do not pass the word \"hospital\" as input,\n",
    "        only the hospital name itself. For instance, if the question is\n",
    "        \"What is the wait time at hospital A?\", the input should be \"A\".\n",
    "        \"\"\",\n",
    "    ),\n",
    "]\n",
    "\n",
    "hospital_agent_prompt = langchain.hub.pull(\"hwchase17/openai-functions-agent\")\n",
    "\n",
    "hospital_agent = lngchagents.create_openai_functions_agent(\n",
    "    llm=chat_model,\n",
    "    prompt=hospital_agent_prompt,\n",
    "    tools=tools,\n",
    ")\n",
    "\n",
    "# Agent run-time.\n",
    "hospital_agent_executor = lngchagents.AgentExecutor(\n",
    "    agent=hospital_agent,\n",
    "    tools=tools,\n",
    "    return_intermediate_steps=True,\n",
    "    verbose=True,\n",
    ")"
   ]
  },
  {
   "cell_type": "code",
   "execution_count": 41,
   "id": "a20f6d8e-f7f9-4237-97e9-b8dcc25cbe2d",
   "metadata": {},
   "outputs": [
    {
     "name": "stdout",
     "output_type": "stream",
     "text": [
      "\n",
      "\n",
      "\u001b[1m> Entering new AgentExecutor chain...\u001b[0m\n",
      "\u001b[32;1m\u001b[1;3m\n",
      "Invoking: `Waits` with `C`\n",
      "\n",
      "\n",
      "\u001b[0m\u001b[33;1m\u001b[1;3m4022\u001b[0m\u001b[32;1m\u001b[1;3mThe current wait time at hospital C is 4022 minutes.\u001b[0m\n",
      "\n",
      "\u001b[1m> Finished chain.\u001b[0m\n"
     ]
    },
    {
     "data": {
      "text/plain": [
       "{'input': 'What is the current wait time at hospital C?',\n",
       " 'output': 'The current wait time at hospital C is 4022 minutes.',\n",
       " 'intermediate_steps': [(AgentActionMessageLog(tool='Waits', tool_input='C', log='\\nInvoking: `Waits` with `C`\\n\\n\\n', message_log=[AIMessageChunk(content='', additional_kwargs={'function_call': {'arguments': '{\"__arg1\":\"C\"}', 'name': 'Waits'}}, response_metadata={'finish_reason': 'function_call', 'model_name': 'gpt-4o-mini-2024-07-18', 'system_fingerprint': 'fp_86d0290411'}, id='run-58fe8f60-0495-4374-95bc-9df9bc0c74b8')]),\n",
       "   4022)]}"
      ]
     },
     "execution_count": 41,
     "metadata": {},
     "output_type": "execute_result"
    }
   ],
   "source": [
    "hospital_agent_executor.invoke(\n",
    "    {\"input\": \"What is the current wait time at hospital C?\"}\n",
    ")"
   ]
  },
  {
   "cell_type": "code",
   "execution_count": 42,
   "id": "c53094d4-5868-4085-9ca5-95379954338c",
   "metadata": {},
   "outputs": [
    {
     "name": "stdout",
     "output_type": "stream",
     "text": [
      "\n",
      "\n",
      "\u001b[1m> Entering new AgentExecutor chain...\u001b[0m\n",
      "\u001b[32;1m\u001b[1;3m\n",
      "Invoking: `Reviews` with `What have patients said about their comfort at the hospital?`\n",
      "\n",
      "\n",
      "\u001b[0m\u001b[36;1m\u001b[1;3mPatients have expressed mixed feelings about their comfort at the hospital. \n",
      "\n",
      "One patient, Jasmine Patel, noted that the hospital's dedication to patient comfort was evident in the well-designed private rooms and comfortable furnishings, which made her recovery more bearable and contributed to an overall positive experience.\n",
      "\n",
      "In contrast, other patients reported issues with comfort. Tammy Benson mentioned that while she appreciated the staff's dedication to patient care, the uncomfortable beds made it difficult for her to get a good night's sleep during her stay. Similarly, Crystal Johnson echoed this sentiment, stating that the uncomfortable beds affected her overall comfort despite the staff's dedication to care. Nancy Collins also highlighted the outdated and uncomfortable beds, which impacted her comfort, although she acknowledged the knowledgeable doctors and clean environment of the hospital.\n",
      "\n",
      "Overall, while some patients appreciated the efforts made for comfort, others found the beds to be a significant drawback.\u001b[0m\u001b[32;1m\u001b[1;3mPatients have expressed mixed feelings about their comfort at the hospital. \n",
      "\n",
      "Some, like Jasmine Patel, noted that the hospital's dedication to patient comfort was evident in the well-designed private rooms and comfortable furnishings, which made recovery more bearable and contributed to a positive experience. \n",
      "\n",
      "However, other patients reported issues with comfort. Tammy Benson mentioned that while she appreciated the staff's dedication to care, the uncomfortable beds made it difficult for her to get a good night's sleep. Crystal Johnson echoed this sentiment, stating that the uncomfortable beds affected her overall comfort despite the staff's dedication. Nancy Collins also highlighted the outdated and uncomfortable beds, which impacted her comfort, although she acknowledged the knowledgeable doctors and clean environment of the hospital.\n",
      "\n",
      "In summary, while some patients appreciated the efforts made for comfort, others found the beds to be a significant drawback.\u001b[0m\n",
      "\n",
      "\u001b[1m> Finished chain.\u001b[0m\n"
     ]
    },
    {
     "data": {
      "text/plain": [
       "{'input': 'What have patients said about their comfort at the hospital?',\n",
       " 'output': \"Patients have expressed mixed feelings about their comfort at the hospital. \\n\\nSome, like Jasmine Patel, noted that the hospital's dedication to patient comfort was evident in the well-designed private rooms and comfortable furnishings, which made recovery more bearable and contributed to a positive experience. \\n\\nHowever, other patients reported issues with comfort. Tammy Benson mentioned that while she appreciated the staff's dedication to care, the uncomfortable beds made it difficult for her to get a good night's sleep. Crystal Johnson echoed this sentiment, stating that the uncomfortable beds affected her overall comfort despite the staff's dedication. Nancy Collins also highlighted the outdated and uncomfortable beds, which impacted her comfort, although she acknowledged the knowledgeable doctors and clean environment of the hospital.\\n\\nIn summary, while some patients appreciated the efforts made for comfort, others found the beds to be a significant drawback.\",\n",
       " 'intermediate_steps': [(AgentActionMessageLog(tool='Reviews', tool_input='What have patients said about their comfort at the hospital?', log='\\nInvoking: `Reviews` with `What have patients said about their comfort at the hospital?`\\n\\n\\n', message_log=[AIMessageChunk(content='', additional_kwargs={'function_call': {'arguments': '{\"__arg1\":\"What have patients said about their comfort at the hospital?\"}', 'name': 'Reviews'}}, response_metadata={'finish_reason': 'function_call', 'model_name': 'gpt-4o-mini-2024-07-18', 'system_fingerprint': 'fp_86d0290411'}, id='run-6d696ba4-0b7b-4f72-9ef9-894490e530c3')]),\n",
       "   \"Patients have expressed mixed feelings about their comfort at the hospital. \\n\\nOne patient, Jasmine Patel, noted that the hospital's dedication to patient comfort was evident in the well-designed private rooms and comfortable furnishings, which made her recovery more bearable and contributed to an overall positive experience.\\n\\nIn contrast, other patients reported issues with comfort. Tammy Benson mentioned that while she appreciated the staff's dedication to patient care, the uncomfortable beds made it difficult for her to get a good night's sleep during her stay. Similarly, Crystal Johnson echoed this sentiment, stating that the uncomfortable beds affected her overall comfort despite the staff's dedication to care. Nancy Collins also highlighted the outdated and uncomfortable beds, which impacted her comfort, although she acknowledged the knowledgeable doctors and clean environment of the hospital.\\n\\nOverall, while some patients appreciated the efforts made for comfort, others found the beds to be a significant drawback.\")]}"
      ]
     },
     "execution_count": 42,
     "metadata": {},
     "output_type": "execute_result"
    }
   ],
   "source": [
    "hospital_agent_executor.invoke(\n",
    "    {\"input\": \"What have patients said about their comfort at the hospital?\"}\n",
    ")"
   ]
  }
 ],
 "metadata": {
  "jupytext": {
   "formats": "ipynb,py:percent"
  },
  "kernelspec": {
   "display_name": "Python 3 (ipykernel)",
   "language": "python",
   "name": "python3"
  },
  "language_info": {
   "codemirror_mode": {
    "name": "ipython",
    "version": 3
   },
   "file_extension": ".py",
   "mimetype": "text/x-python",
   "name": "python",
   "nbconvert_exporter": "python",
   "pygments_lexer": "ipython3",
   "version": "3.12.3"
  }
 },
 "nbformat": 4,
 "nbformat_minor": 5
}
